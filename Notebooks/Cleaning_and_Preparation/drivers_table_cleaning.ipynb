{
 "cells": [
  {
   "cell_type": "code",
   "execution_count": 41,
   "metadata": {},
   "outputs": [],
   "source": [
    "import pandas as pd\n",
    "import numpy as np\n",
    "import matplotlib.pyplot as plt\n",
    "import seaborn as sns\n",
    "from sklearn.preprocessing import StandardScaler, LabelEncoder, OneHotEncoder"
   ]
  },
  {
   "cell_type": "code",
   "execution_count": 42,
   "metadata": {},
   "outputs": [
    {
     "name": "stdout",
     "output_type": "stream",
     "text": [
      "Connected to database: postgres\n",
      "    driver_id               name gender  age  experience driving_style  \\\n",
      "0  d9f30553-6       Daniel Marks   male   47           5     proactive   \n",
      "1  82de7bb8-2      Clifford Carr   male   47          14     proactive   \n",
      "2  7e789842-4  Terry Faulkner MD   male   41           9  conservative   \n",
      "3  b2555587-8     Brendan Jacobs   male   44          10     proactive   \n",
      "4  b2e58421-d      Vincent Davis   male   41          10     proactive   \n",
      "\n",
      "   ratings  vehicle_no  average_speed_mph  \n",
      "0        7    42302347              62.22  \n",
      "1        4    27867488              60.89  \n",
      "2        2    13927774              53.67  \n",
      "3        2    69577118              59.82  \n",
      "4        7    28650047              62.65  \n"
     ]
    }
   ],
   "source": [
    "import sys\n",
    "import os\n",
    "\n",
    "# Add the project root to sys.path (adjust the path as needed)\n",
    "project_root = os.path.abspath(os.path.join(os.getcwd(), \"../../\"))\n",
    "sys.path.append(project_root)\n",
    "\n",
    "# Now try to import the DataIngestion class\n",
    "from src.components.data_ingestion import DataIngestion\n",
    "\n",
    "# Initialize the DataIngestion object\n",
    "ingestion = DataIngestion()\n",
    "\n",
    "# Load data from the database\n",
    "df_drivers = ingestion.load_dataframe('drivers_table')\n",
    "\n",
    "# Display the data\n",
    "print(df_drivers.head())"
   ]
  },
  {
   "cell_type": "code",
   "execution_count": 43,
   "metadata": {},
   "outputs": [],
   "source": [
    "# path1=r\"C:\\Truck_Delay_Classification\\Data\\raw_data\\training_data\\drivers_table.csv\"\n",
    "# df=pd.read_csv(path1)\n",
    "# df"
   ]
  },
  {
   "cell_type": "markdown",
   "metadata": {},
   "source": [
    "Data Description"
   ]
  },
  {
   "cell_type": "code",
   "execution_count": 44,
   "metadata": {},
   "outputs": [
    {
     "data": {
      "text/plain": [
       "(1300, 9)"
      ]
     },
     "execution_count": 44,
     "metadata": {},
     "output_type": "execute_result"
    }
   ],
   "source": [
    "df.shape"
   ]
  },
  {
   "cell_type": "code",
   "execution_count": 45,
   "metadata": {},
   "outputs": [
    {
     "data": {
      "text/plain": [
       "<bound method DataFrame.info of        driver_id               name gender  age  experience driving_style  \\\n",
       "0     d9f30553-6       Daniel Marks   male   47           5     proactive   \n",
       "1     82de7bb8-2      Clifford Carr   male   47          14     proactive   \n",
       "2     7e789842-4  Terry Faulkner MD   male   41           9  conservative   \n",
       "3     b2555587-8     Brendan Jacobs   male   44          10     proactive   \n",
       "4     b2e58421-d      Vincent Davis   male   41          10     proactive   \n",
       "...          ...                ...    ...  ...         ...           ...   \n",
       "1295  57f77e99-8     Robert Johnson   male   60          26     proactive   \n",
       "1296  e64c4059-8  Patrick Hernandez   male   46          20     proactive   \n",
       "1297  7e6a0cf5-1      Richard Ortiz   male   49          10  conservative   \n",
       "1298  c4a966b0-b    Peter Rodriguez   male   49           5  conservative   \n",
       "1299  e5d104b5-1   Michael Robinson   male   56          24     proactive   \n",
       "\n",
       "      ratings  vehicle_no  average_speed_mph  \n",
       "0           7    42302347              62.22  \n",
       "1           4    27867488              60.89  \n",
       "2           2    13927774              53.67  \n",
       "3           2    69577118              59.82  \n",
       "4           7    28650047              62.65  \n",
       "...       ...         ...                ...  \n",
       "1295        4    17792974              60.64  \n",
       "1296        8    17248432              58.42  \n",
       "1297        7    21865328              48.29  \n",
       "1298        8    33564827              43.14  \n",
       "1299        8    34755903              56.30  \n",
       "\n",
       "[1300 rows x 9 columns]>"
      ]
     },
     "execution_count": 45,
     "metadata": {},
     "output_type": "execute_result"
    }
   ],
   "source": [
    "df.info"
   ]
  },
  {
   "cell_type": "code",
   "execution_count": 46,
   "metadata": {},
   "outputs": [
    {
     "data": {
      "text/plain": [
       "<bound method NDFrame.describe of        driver_id               name gender  age  experience driving_style  \\\n",
       "0     d9f30553-6       Daniel Marks   male   47           5     proactive   \n",
       "1     82de7bb8-2      Clifford Carr   male   47          14     proactive   \n",
       "2     7e789842-4  Terry Faulkner MD   male   41           9  conservative   \n",
       "3     b2555587-8     Brendan Jacobs   male   44          10     proactive   \n",
       "4     b2e58421-d      Vincent Davis   male   41          10     proactive   \n",
       "...          ...                ...    ...  ...         ...           ...   \n",
       "1295  57f77e99-8     Robert Johnson   male   60          26     proactive   \n",
       "1296  e64c4059-8  Patrick Hernandez   male   46          20     proactive   \n",
       "1297  7e6a0cf5-1      Richard Ortiz   male   49          10  conservative   \n",
       "1298  c4a966b0-b    Peter Rodriguez   male   49           5  conservative   \n",
       "1299  e5d104b5-1   Michael Robinson   male   56          24     proactive   \n",
       "\n",
       "      ratings  vehicle_no  average_speed_mph  \n",
       "0           7    42302347              62.22  \n",
       "1           4    27867488              60.89  \n",
       "2           2    13927774              53.67  \n",
       "3           2    69577118              59.82  \n",
       "4           7    28650047              62.65  \n",
       "...       ...         ...                ...  \n",
       "1295        4    17792974              60.64  \n",
       "1296        8    17248432              58.42  \n",
       "1297        7    21865328              48.29  \n",
       "1298        8    33564827              43.14  \n",
       "1299        8    34755903              56.30  \n",
       "\n",
       "[1300 rows x 9 columns]>"
      ]
     },
     "execution_count": 46,
     "metadata": {},
     "output_type": "execute_result"
    }
   ],
   "source": [
    "df.describe"
   ]
  },
  {
   "cell_type": "markdown",
   "metadata": {},
   "source": [
    "#Step 2: Handling the missing data"
   ]
  },
  {
   "cell_type": "code",
   "execution_count": 47,
   "metadata": {},
   "outputs": [
    {
     "name": "stdout",
     "output_type": "stream",
     "text": [
      "driver_id            0\n",
      "name                 0\n",
      "gender               0\n",
      "age                  0\n",
      "experience           0\n",
      "driving_style        0\n",
      "ratings              0\n",
      "vehicle_no           0\n",
      "average_speed_mph    0\n",
      "dtype: int64\n"
     ]
    }
   ],
   "source": [
    "print(df.isnull().sum())"
   ]
  },
  {
   "cell_type": "code",
   "execution_count": 48,
   "metadata": {},
   "outputs": [
    {
     "name": "stdout",
     "output_type": "stream",
     "text": [
      "2024-09-27 14:36:31,162 WARNING: FutureWarning: DataFrame.fillna with 'method' is deprecated and will raise in a future version. Use obj.ffill() or obj.bfill() instead.\n",
      "\n"
     ]
    }
   ],
   "source": [
    "df.fillna(method='ffill', inplace=True)\n"
   ]
  },
  {
   "cell_type": "code",
   "execution_count": 49,
   "metadata": {},
   "outputs": [
    {
     "name": "stdout",
     "output_type": "stream",
     "text": [
      "driver_id            0\n",
      "name                 0\n",
      "gender               0\n",
      "age                  0\n",
      "experience           0\n",
      "driving_style        0\n",
      "ratings              0\n",
      "vehicle_no           0\n",
      "average_speed_mph    0\n",
      "dtype: int64\n"
     ]
    }
   ],
   "source": [
    "print(df.isnull().sum())"
   ]
  },
  {
   "cell_type": "markdown",
   "metadata": {},
   "source": [
    "Hence used the ffill method to fill the missing values"
   ]
  },
  {
   "cell_type": "markdown",
   "metadata": {},
   "source": [
    "#Removing the duplicate values"
   ]
  },
  {
   "cell_type": "code",
   "execution_count": 50,
   "metadata": {},
   "outputs": [
    {
     "data": {
      "text/plain": [
       "0"
      ]
     },
     "execution_count": 50,
     "metadata": {},
     "output_type": "execute_result"
    }
   ],
   "source": [
    "df.duplicated().sum()"
   ]
  },
  {
   "cell_type": "markdown",
   "metadata": {},
   "source": [
    "Hence there are no duplicate values in the dataset"
   ]
  },
  {
   "cell_type": "code",
   "execution_count": 51,
   "metadata": {},
   "outputs": [
    {
     "data": {
      "text/plain": [
       "array([[<Axes: title={'center': 'age'}>,\n",
       "        <Axes: title={'center': 'experience'}>],\n",
       "       [<Axes: title={'center': 'ratings'}>,\n",
       "        <Axes: title={'center': 'vehicle_no'}>],\n",
       "       [<Axes: title={'center': 'average_speed_mph'}>, <Axes: >]],\n",
       "      dtype=object)"
      ]
     },
     "execution_count": 51,
     "metadata": {},
     "output_type": "execute_result"
    },
    {
     "data": {
      "image/png": "[encoded data removed]",
      "text/plain": [
       "<Figure size 1500x800 with 6 Axes>"
      ]
     },
     "metadata": {},
     "output_type": "display_data"
    }
   ],
   "source": [
    "#Understanding the data\n",
    "df.hist(figsize=(15,8))"
   ]
  },
  {
   "cell_type": "code",
   "execution_count": 52,
   "metadata": {},
   "outputs": [
    {
     "data": {
      "text/html": [
       "<div>\n",
       "<style scoped>\n",
       "    .dataframe tbody tr th:only-of-type {\n",
       "        vertical-align: middle;\n",
       "    }\n",
       "\n",
       "    .dataframe tbody tr th {\n",
       "        vertical-align: top;\n",
       "    }\n",
       "\n",
       "    .dataframe thead th {\n",
       "        text-align: right;\n",
       "    }\n",
       "</style>\n",
       "<table border=\"1\" class=\"dataframe\">\n",
       "  <thead>\n",
       "    <tr style=\"text-align: right;\">\n",
       "      <th></th>\n",
       "      <th>driver_id</th>\n",
       "      <th>name</th>\n",
       "      <th>gender</th>\n",
       "      <th>age</th>\n",
       "      <th>experience</th>\n",
       "      <th>driving_style</th>\n",
       "      <th>ratings</th>\n",
       "      <th>vehicle_no</th>\n",
       "      <th>average_speed_mph</th>\n",
       "    </tr>\n",
       "  </thead>\n",
       "  <tbody>\n",
       "    <tr>\n",
       "      <th>0</th>\n",
       "      <td>d9f30553-6</td>\n",
       "      <td>Daniel Marks</td>\n",
       "      <td>male</td>\n",
       "      <td>47</td>\n",
       "      <td>5</td>\n",
       "      <td>proactive</td>\n",
       "      <td>7</td>\n",
       "      <td>42302347</td>\n",
       "      <td>62.22</td>\n",
       "    </tr>\n",
       "    <tr>\n",
       "      <th>1</th>\n",
       "      <td>82de7bb8-2</td>\n",
       "      <td>Clifford Carr</td>\n",
       "      <td>male</td>\n",
       "      <td>47</td>\n",
       "      <td>14</td>\n",
       "      <td>proactive</td>\n",
       "      <td>4</td>\n",
       "      <td>27867488</td>\n",
       "      <td>60.89</td>\n",
       "    </tr>\n",
       "    <tr>\n",
       "      <th>2</th>\n",
       "      <td>7e789842-4</td>\n",
       "      <td>Terry Faulkner MD</td>\n",
       "      <td>male</td>\n",
       "      <td>41</td>\n",
       "      <td>9</td>\n",
       "      <td>conservative</td>\n",
       "      <td>2</td>\n",
       "      <td>13927774</td>\n",
       "      <td>53.67</td>\n",
       "    </tr>\n",
       "    <tr>\n",
       "      <th>3</th>\n",
       "      <td>b2555587-8</td>\n",
       "      <td>Brendan Jacobs</td>\n",
       "      <td>male</td>\n",
       "      <td>44</td>\n",
       "      <td>10</td>\n",
       "      <td>proactive</td>\n",
       "      <td>2</td>\n",
       "      <td>69577118</td>\n",
       "      <td>59.82</td>\n",
       "    </tr>\n",
       "    <tr>\n",
       "      <th>4</th>\n",
       "      <td>b2e58421-d</td>\n",
       "      <td>Vincent Davis</td>\n",
       "      <td>male</td>\n",
       "      <td>41</td>\n",
       "      <td>10</td>\n",
       "      <td>proactive</td>\n",
       "      <td>7</td>\n",
       "      <td>28650047</td>\n",
       "      <td>62.65</td>\n",
       "    </tr>\n",
       "  </tbody>\n",
       "</table>\n",
       "</div>"
      ],
      "text/plain": [
       "    driver_id               name gender  age  experience driving_style  \\\n",
       "0  d9f30553-6       Daniel Marks   male   47           5     proactive   \n",
       "1  82de7bb8-2      Clifford Carr   male   47          14     proactive   \n",
       "2  7e789842-4  Terry Faulkner MD   male   41           9  conservative   \n",
       "3  b2555587-8     Brendan Jacobs   male   44          10     proactive   \n",
       "4  b2e58421-d      Vincent Davis   male   41          10     proactive   \n",
       "\n",
       "   ratings  vehicle_no  average_speed_mph  \n",
       "0        7    42302347              62.22  \n",
       "1        4    27867488              60.89  \n",
       "2        2    13927774              53.67  \n",
       "3        2    69577118              59.82  \n",
       "4        7    28650047              62.65  "
      ]
     },
     "execution_count": 52,
     "metadata": {},
     "output_type": "execute_result"
    }
   ],
   "source": [
    "df.head()"
   ]
  },
  {
   "cell_type": "code",
   "execution_count": 53,
   "metadata": {},
   "outputs": [
    {
     "data": {
      "text/plain": [
       "Index(['driver_id', 'name', 'gender', 'age', 'experience', 'driving_style',\n",
       "       'ratings', 'vehicle_no', 'average_speed_mph'],\n",
       "      dtype='object')"
      ]
     },
     "execution_count": 53,
     "metadata": {},
     "output_type": "execute_result"
    }
   ],
   "source": [
    "df.columns"
   ]
  },
  {
   "cell_type": "code",
   "execution_count": 54,
   "metadata": {},
   "outputs": [
    {
     "data": {
      "text/plain": [
       "(1300, 9)"
      ]
     },
     "execution_count": 54,
     "metadata": {},
     "output_type": "execute_result"
    }
   ],
   "source": [
    "df.shape"
   ]
  },
  {
   "cell_type": "code",
   "execution_count": 55,
   "metadata": {},
   "outputs": [
    {
     "data": {
      "text/plain": [
       "1274"
      ]
     },
     "execution_count": 55,
     "metadata": {},
     "output_type": "execute_result"
    }
   ],
   "source": [
    "df['name'].value_counts().count()"
   ]
  },
  {
   "cell_type": "code",
   "execution_count": 56,
   "metadata": {},
   "outputs": [
    {
     "data": {
      "text/plain": [
       "True"
      ]
     },
     "execution_count": 56,
     "metadata": {},
     "output_type": "execute_result"
    }
   ],
   "source": [
    "df['name'].duplicated().any()\n"
   ]
  },
  {
   "cell_type": "code",
   "execution_count": 57,
   "metadata": {},
   "outputs": [
    {
     "data": {
      "text/html": [
       "<div>\n",
       "<style scoped>\n",
       "    .dataframe tbody tr th:only-of-type {\n",
       "        vertical-align: middle;\n",
       "    }\n",
       "\n",
       "    .dataframe tbody tr th {\n",
       "        vertical-align: top;\n",
       "    }\n",
       "\n",
       "    .dataframe thead th {\n",
       "        text-align: right;\n",
       "    }\n",
       "</style>\n",
       "<table border=\"1\" class=\"dataframe\">\n",
       "  <thead>\n",
       "    <tr style=\"text-align: right;\">\n",
       "      <th></th>\n",
       "      <th>driver_id</th>\n",
       "      <th>name</th>\n",
       "      <th>gender</th>\n",
       "      <th>age</th>\n",
       "      <th>experience</th>\n",
       "      <th>driving_style</th>\n",
       "      <th>ratings</th>\n",
       "      <th>vehicle_no</th>\n",
       "      <th>average_speed_mph</th>\n",
       "    </tr>\n",
       "  </thead>\n",
       "  <tbody>\n",
       "    <tr>\n",
       "      <th>4</th>\n",
       "      <td>b2e58421-d</td>\n",
       "      <td>Vincent Davis</td>\n",
       "      <td>male</td>\n",
       "      <td>41</td>\n",
       "      <td>10</td>\n",
       "      <td>proactive</td>\n",
       "      <td>7</td>\n",
       "      <td>28650047</td>\n",
       "      <td>62.65</td>\n",
       "    </tr>\n",
       "    <tr>\n",
       "      <th>15</th>\n",
       "      <td>2f2e8d57-9</td>\n",
       "      <td>Joshua Martinez</td>\n",
       "      <td>male</td>\n",
       "      <td>46</td>\n",
       "      <td>9</td>\n",
       "      <td>conservative</td>\n",
       "      <td>3</td>\n",
       "      <td>27799951</td>\n",
       "      <td>38.87</td>\n",
       "    </tr>\n",
       "    <tr>\n",
       "      <th>32</th>\n",
       "      <td>0fc4a002-7</td>\n",
       "      <td>Andrew Williams</td>\n",
       "      <td>male</td>\n",
       "      <td>51</td>\n",
       "      <td>18</td>\n",
       "      <td>proactive</td>\n",
       "      <td>6</td>\n",
       "      <td>21001184</td>\n",
       "      <td>60.21</td>\n",
       "    </tr>\n",
       "    <tr>\n",
       "      <th>77</th>\n",
       "      <td>1613697d-4</td>\n",
       "      <td>Joshua Martinez</td>\n",
       "      <td>male</td>\n",
       "      <td>46</td>\n",
       "      <td>16</td>\n",
       "      <td>proactive</td>\n",
       "      <td>7</td>\n",
       "      <td>31889845</td>\n",
       "      <td>59.85</td>\n",
       "    </tr>\n",
       "    <tr>\n",
       "      <th>101</th>\n",
       "      <td>a17d5cbf-7</td>\n",
       "      <td>Kenneth Johnson</td>\n",
       "      <td>male</td>\n",
       "      <td>50</td>\n",
       "      <td>7</td>\n",
       "      <td>proactive</td>\n",
       "      <td>8</td>\n",
       "      <td>31312028</td>\n",
       "      <td>62.11</td>\n",
       "    </tr>\n",
       "    <tr>\n",
       "      <th>130</th>\n",
       "      <td>9cb46965-d</td>\n",
       "      <td>Michael Smith</td>\n",
       "      <td>male</td>\n",
       "      <td>44</td>\n",
       "      <td>17</td>\n",
       "      <td>proactive</td>\n",
       "      <td>4</td>\n",
       "      <td>22705355</td>\n",
       "      <td>64.42</td>\n",
       "    </tr>\n",
       "    <tr>\n",
       "      <th>202</th>\n",
       "      <td>641f9f43-7</td>\n",
       "      <td>Joseph Lopez</td>\n",
       "      <td>male</td>\n",
       "      <td>45</td>\n",
       "      <td>2</td>\n",
       "      <td>conservative</td>\n",
       "      <td>2</td>\n",
       "      <td>77969688</td>\n",
       "      <td>46.12</td>\n",
       "    </tr>\n",
       "    <tr>\n",
       "      <th>214</th>\n",
       "      <td>effe4a4d-0</td>\n",
       "      <td>Michael Jacobs</td>\n",
       "      <td>male</td>\n",
       "      <td>47</td>\n",
       "      <td>10</td>\n",
       "      <td>proactive</td>\n",
       "      <td>8</td>\n",
       "      <td>18882093</td>\n",
       "      <td>61.46</td>\n",
       "    </tr>\n",
       "    <tr>\n",
       "      <th>253</th>\n",
       "      <td>fa8b479d-1</td>\n",
       "      <td>Michael Jones</td>\n",
       "      <td>male</td>\n",
       "      <td>49</td>\n",
       "      <td>6</td>\n",
       "      <td>proactive</td>\n",
       "      <td>8</td>\n",
       "      <td>25314663</td>\n",
       "      <td>56.34</td>\n",
       "    </tr>\n",
       "    <tr>\n",
       "      <th>276</th>\n",
       "      <td>11ecb456-e</td>\n",
       "      <td>Michael Jones</td>\n",
       "      <td>male</td>\n",
       "      <td>45</td>\n",
       "      <td>11</td>\n",
       "      <td>conservative</td>\n",
       "      <td>4</td>\n",
       "      <td>32255566</td>\n",
       "      <td>35.32</td>\n",
       "    </tr>\n",
       "    <tr>\n",
       "      <th>291</th>\n",
       "      <td>cafc12ae-5</td>\n",
       "      <td>William Smith</td>\n",
       "      <td>male</td>\n",
       "      <td>47</td>\n",
       "      <td>13</td>\n",
       "      <td>conservative</td>\n",
       "      <td>4</td>\n",
       "      <td>14262671</td>\n",
       "      <td>36.52</td>\n",
       "    </tr>\n",
       "    <tr>\n",
       "      <th>363</th>\n",
       "      <td>a1d27a4e-e</td>\n",
       "      <td>Robert Shaw</td>\n",
       "      <td>male</td>\n",
       "      <td>42</td>\n",
       "      <td>5</td>\n",
       "      <td>conservative</td>\n",
       "      <td>4</td>\n",
       "      <td>10491120</td>\n",
       "      <td>46.36</td>\n",
       "    </tr>\n",
       "    <tr>\n",
       "      <th>372</th>\n",
       "      <td>679d51e6-7</td>\n",
       "      <td>Andrew Williams</td>\n",
       "      <td>male</td>\n",
       "      <td>47</td>\n",
       "      <td>6</td>\n",
       "      <td>conservative</td>\n",
       "      <td>3</td>\n",
       "      <td>22305237</td>\n",
       "      <td>47.32</td>\n",
       "    </tr>\n",
       "    <tr>\n",
       "      <th>375</th>\n",
       "      <td>82ff0d62-e</td>\n",
       "      <td>John Jones</td>\n",
       "      <td>male</td>\n",
       "      <td>54</td>\n",
       "      <td>24</td>\n",
       "      <td>conservative</td>\n",
       "      <td>8</td>\n",
       "      <td>17142878</td>\n",
       "      <td>53.40</td>\n",
       "    </tr>\n",
       "    <tr>\n",
       "      <th>389</th>\n",
       "      <td>6ef55db3-3</td>\n",
       "      <td>Vincent Davis</td>\n",
       "      <td>male</td>\n",
       "      <td>45</td>\n",
       "      <td>15</td>\n",
       "      <td>conservative</td>\n",
       "      <td>5</td>\n",
       "      <td>57783233</td>\n",
       "      <td>46.58</td>\n",
       "    </tr>\n",
       "    <tr>\n",
       "      <th>391</th>\n",
       "      <td>b9a438d1-d</td>\n",
       "      <td>William Smith</td>\n",
       "      <td>male</td>\n",
       "      <td>44</td>\n",
       "      <td>11</td>\n",
       "      <td>proactive</td>\n",
       "      <td>4</td>\n",
       "      <td>98891327</td>\n",
       "      <td>61.32</td>\n",
       "    </tr>\n",
       "    <tr>\n",
       "      <th>396</th>\n",
       "      <td>5837b900-a</td>\n",
       "      <td>Ryan Williams</td>\n",
       "      <td>male</td>\n",
       "      <td>50</td>\n",
       "      <td>15</td>\n",
       "      <td>conservative</td>\n",
       "      <td>6</td>\n",
       "      <td>24236441</td>\n",
       "      <td>41.80</td>\n",
       "    </tr>\n",
       "    <tr>\n",
       "      <th>408</th>\n",
       "      <td>6c6b42a8-6</td>\n",
       "      <td>Joshua Walker</td>\n",
       "      <td>male</td>\n",
       "      <td>50</td>\n",
       "      <td>10</td>\n",
       "      <td>conservative</td>\n",
       "      <td>4</td>\n",
       "      <td>26946012</td>\n",
       "      <td>35.29</td>\n",
       "    </tr>\n",
       "    <tr>\n",
       "      <th>454</th>\n",
       "      <td>b8e42de7-3</td>\n",
       "      <td>James Johnson</td>\n",
       "      <td>male</td>\n",
       "      <td>41</td>\n",
       "      <td>16</td>\n",
       "      <td>conservative</td>\n",
       "      <td>7</td>\n",
       "      <td>24136996</td>\n",
       "      <td>44.14</td>\n",
       "    </tr>\n",
       "    <tr>\n",
       "      <th>462</th>\n",
       "      <td>8df318b0-4</td>\n",
       "      <td>Christopher Smith</td>\n",
       "      <td>male</td>\n",
       "      <td>41</td>\n",
       "      <td>1</td>\n",
       "      <td>conservative</td>\n",
       "      <td>3</td>\n",
       "      <td>27188149</td>\n",
       "      <td>50.48</td>\n",
       "    </tr>\n",
       "    <tr>\n",
       "      <th>469</th>\n",
       "      <td>68c047ac-f</td>\n",
       "      <td>James Johnson</td>\n",
       "      <td>male</td>\n",
       "      <td>42</td>\n",
       "      <td>0</td>\n",
       "      <td>proactive</td>\n",
       "      <td>7</td>\n",
       "      <td>12156651</td>\n",
       "      <td>63.14</td>\n",
       "    </tr>\n",
       "    <tr>\n",
       "      <th>484</th>\n",
       "      <td>dbeeb00c-8</td>\n",
       "      <td>Ryan Watkins</td>\n",
       "      <td>male</td>\n",
       "      <td>65</td>\n",
       "      <td>20</td>\n",
       "      <td>proactive</td>\n",
       "      <td>4</td>\n",
       "      <td>32206692</td>\n",
       "      <td>60.88</td>\n",
       "    </tr>\n",
       "    <tr>\n",
       "      <th>487</th>\n",
       "      <td>6fde3e59-6</td>\n",
       "      <td>David Miller</td>\n",
       "      <td>male</td>\n",
       "      <td>54</td>\n",
       "      <td>26</td>\n",
       "      <td>conservative</td>\n",
       "      <td>4</td>\n",
       "      <td>14058250</td>\n",
       "      <td>49.10</td>\n",
       "    </tr>\n",
       "    <tr>\n",
       "      <th>496</th>\n",
       "      <td>c50a6c96-9</td>\n",
       "      <td>Ryan Watkins</td>\n",
       "      <td>male</td>\n",
       "      <td>47</td>\n",
       "      <td>9</td>\n",
       "      <td>proactive</td>\n",
       "      <td>2</td>\n",
       "      <td>32778747</td>\n",
       "      <td>58.67</td>\n",
       "    </tr>\n",
       "    <tr>\n",
       "      <th>601</th>\n",
       "      <td>45fbd22d-7</td>\n",
       "      <td>Michael Parker</td>\n",
       "      <td>male</td>\n",
       "      <td>44</td>\n",
       "      <td>9</td>\n",
       "      <td>conservative</td>\n",
       "      <td>4</td>\n",
       "      <td>40030230</td>\n",
       "      <td>52.10</td>\n",
       "    </tr>\n",
       "    <tr>\n",
       "      <th>606</th>\n",
       "      <td>240e737a-9</td>\n",
       "      <td>William Brown</td>\n",
       "      <td>male</td>\n",
       "      <td>50</td>\n",
       "      <td>6</td>\n",
       "      <td>conservative</td>\n",
       "      <td>8</td>\n",
       "      <td>94792980</td>\n",
       "      <td>52.88</td>\n",
       "    </tr>\n",
       "    <tr>\n",
       "      <th>617</th>\n",
       "      <td>7c0a40f9-b</td>\n",
       "      <td>Michael Martinez</td>\n",
       "      <td>male</td>\n",
       "      <td>50</td>\n",
       "      <td>12</td>\n",
       "      <td>conservative</td>\n",
       "      <td>8</td>\n",
       "      <td>75500652</td>\n",
       "      <td>40.08</td>\n",
       "    </tr>\n",
       "    <tr>\n",
       "      <th>628</th>\n",
       "      <td>5e23f229-5</td>\n",
       "      <td>Robert Wilson</td>\n",
       "      <td>male</td>\n",
       "      <td>55</td>\n",
       "      <td>24</td>\n",
       "      <td>conservative</td>\n",
       "      <td>9</td>\n",
       "      <td>55617675</td>\n",
       "      <td>46.94</td>\n",
       "    </tr>\n",
       "    <tr>\n",
       "      <th>674</th>\n",
       "      <td>bb6aec6e-3</td>\n",
       "      <td>William Brown</td>\n",
       "      <td>male</td>\n",
       "      <td>42</td>\n",
       "      <td>14</td>\n",
       "      <td>proactive</td>\n",
       "      <td>4</td>\n",
       "      <td>17884689</td>\n",
       "      <td>62.65</td>\n",
       "    </tr>\n",
       "    <tr>\n",
       "      <th>685</th>\n",
       "      <td>f8fee53b-3</td>\n",
       "      <td>Joshua Walker</td>\n",
       "      <td>male</td>\n",
       "      <td>44</td>\n",
       "      <td>13</td>\n",
       "      <td>proactive</td>\n",
       "      <td>4</td>\n",
       "      <td>20482407</td>\n",
       "      <td>62.64</td>\n",
       "    </tr>\n",
       "    <tr>\n",
       "      <th>741</th>\n",
       "      <td>32b3748a-4</td>\n",
       "      <td>Kenneth Johnson</td>\n",
       "      <td>male</td>\n",
       "      <td>53</td>\n",
       "      <td>15</td>\n",
       "      <td>proactive</td>\n",
       "      <td>8</td>\n",
       "      <td>28866540</td>\n",
       "      <td>60.90</td>\n",
       "    </tr>\n",
       "    <tr>\n",
       "      <th>761</th>\n",
       "      <td>85b64b65-f</td>\n",
       "      <td>Thomas Smith</td>\n",
       "      <td>male</td>\n",
       "      <td>47</td>\n",
       "      <td>4</td>\n",
       "      <td>conservative</td>\n",
       "      <td>7</td>\n",
       "      <td>14969134</td>\n",
       "      <td>40.72</td>\n",
       "    </tr>\n",
       "    <tr>\n",
       "      <th>807</th>\n",
       "      <td>283d5592-d</td>\n",
       "      <td>Robert Wilson</td>\n",
       "      <td>male</td>\n",
       "      <td>55</td>\n",
       "      <td>13</td>\n",
       "      <td>proactive</td>\n",
       "      <td>6</td>\n",
       "      <td>30548837</td>\n",
       "      <td>60.04</td>\n",
       "    </tr>\n",
       "    <tr>\n",
       "      <th>821</th>\n",
       "      <td>e2b9ce55-5</td>\n",
       "      <td>Jason Lewis</td>\n",
       "      <td>male</td>\n",
       "      <td>51</td>\n",
       "      <td>21</td>\n",
       "      <td>conservative</td>\n",
       "      <td>8</td>\n",
       "      <td>25691185</td>\n",
       "      <td>48.99</td>\n",
       "    </tr>\n",
       "    <tr>\n",
       "      <th>829</th>\n",
       "      <td>59904d79-9</td>\n",
       "      <td>Michael Smith</td>\n",
       "      <td>male</td>\n",
       "      <td>51</td>\n",
       "      <td>25</td>\n",
       "      <td>conservative</td>\n",
       "      <td>9</td>\n",
       "      <td>17077324</td>\n",
       "      <td>41.52</td>\n",
       "    </tr>\n",
       "    <tr>\n",
       "      <th>871</th>\n",
       "      <td>78ae39c9-3</td>\n",
       "      <td>David Miller</td>\n",
       "      <td>male</td>\n",
       "      <td>46</td>\n",
       "      <td>15</td>\n",
       "      <td>proactive</td>\n",
       "      <td>6</td>\n",
       "      <td>56671924</td>\n",
       "      <td>59.76</td>\n",
       "    </tr>\n",
       "    <tr>\n",
       "      <th>888</th>\n",
       "      <td>c643afdf-8</td>\n",
       "      <td>Thomas Smith</td>\n",
       "      <td>male</td>\n",
       "      <td>38</td>\n",
       "      <td>6</td>\n",
       "      <td>proactive</td>\n",
       "      <td>8</td>\n",
       "      <td>33548280</td>\n",
       "      <td>61.10</td>\n",
       "    </tr>\n",
       "    <tr>\n",
       "      <th>947</th>\n",
       "      <td>d08282df-9</td>\n",
       "      <td>Michael Parker</td>\n",
       "      <td>male</td>\n",
       "      <td>51</td>\n",
       "      <td>19</td>\n",
       "      <td>conservative</td>\n",
       "      <td>8</td>\n",
       "      <td>29283906</td>\n",
       "      <td>41.24</td>\n",
       "    </tr>\n",
       "    <tr>\n",
       "      <th>958</th>\n",
       "      <td>41281b64-4</td>\n",
       "      <td>John Jones</td>\n",
       "      <td>male</td>\n",
       "      <td>57</td>\n",
       "      <td>22</td>\n",
       "      <td>proactive</td>\n",
       "      <td>4</td>\n",
       "      <td>74647097</td>\n",
       "      <td>58.79</td>\n",
       "    </tr>\n",
       "    <tr>\n",
       "      <th>969</th>\n",
       "      <td>d73b6158-3</td>\n",
       "      <td>Justin Nelson</td>\n",
       "      <td>male</td>\n",
       "      <td>43</td>\n",
       "      <td>8</td>\n",
       "      <td>proactive</td>\n",
       "      <td>8</td>\n",
       "      <td>53838896</td>\n",
       "      <td>66.05</td>\n",
       "    </tr>\n",
       "    <tr>\n",
       "      <th>1000</th>\n",
       "      <td>45a14e9e-0</td>\n",
       "      <td>Michael Martinez</td>\n",
       "      <td>male</td>\n",
       "      <td>47</td>\n",
       "      <td>6</td>\n",
       "      <td>conservative</td>\n",
       "      <td>4</td>\n",
       "      <td>34009707</td>\n",
       "      <td>36.26</td>\n",
       "    </tr>\n",
       "    <tr>\n",
       "      <th>1106</th>\n",
       "      <td>61b907ef-f</td>\n",
       "      <td>William Brown</td>\n",
       "      <td>male</td>\n",
       "      <td>44</td>\n",
       "      <td>11</td>\n",
       "      <td>proactive</td>\n",
       "      <td>4</td>\n",
       "      <td>31051475</td>\n",
       "      <td>60.92</td>\n",
       "    </tr>\n",
       "    <tr>\n",
       "      <th>1151</th>\n",
       "      <td>ae3416af-e</td>\n",
       "      <td>Joseph Lopez</td>\n",
       "      <td>male</td>\n",
       "      <td>50</td>\n",
       "      <td>6</td>\n",
       "      <td>proactive</td>\n",
       "      <td>8</td>\n",
       "      <td>65820129</td>\n",
       "      <td>57.06</td>\n",
       "    </tr>\n",
       "    <tr>\n",
       "      <th>1152</th>\n",
       "      <td>fb00272d-9</td>\n",
       "      <td>Jason Lewis</td>\n",
       "      <td>male</td>\n",
       "      <td>47</td>\n",
       "      <td>15</td>\n",
       "      <td>conservative</td>\n",
       "      <td>8</td>\n",
       "      <td>61165323</td>\n",
       "      <td>38.87</td>\n",
       "    </tr>\n",
       "    <tr>\n",
       "      <th>1158</th>\n",
       "      <td>f24f5f34-a</td>\n",
       "      <td>Justin Nelson</td>\n",
       "      <td>male</td>\n",
       "      <td>49</td>\n",
       "      <td>2</td>\n",
       "      <td>proactive</td>\n",
       "      <td>4</td>\n",
       "      <td>12975922</td>\n",
       "      <td>56.97</td>\n",
       "    </tr>\n",
       "    <tr>\n",
       "      <th>1174</th>\n",
       "      <td>2d0cfc63-2</td>\n",
       "      <td>Robert Shaw</td>\n",
       "      <td>male</td>\n",
       "      <td>46</td>\n",
       "      <td>11</td>\n",
       "      <td>conservative</td>\n",
       "      <td>6</td>\n",
       "      <td>30236733</td>\n",
       "      <td>53.44</td>\n",
       "    </tr>\n",
       "    <tr>\n",
       "      <th>1220</th>\n",
       "      <td>2f53dab7-3</td>\n",
       "      <td>Michael Jacobs</td>\n",
       "      <td>male</td>\n",
       "      <td>45</td>\n",
       "      <td>11</td>\n",
       "      <td>conservative</td>\n",
       "      <td>5</td>\n",
       "      <td>27773699</td>\n",
       "      <td>42.19</td>\n",
       "    </tr>\n",
       "    <tr>\n",
       "      <th>1237</th>\n",
       "      <td>2e3ddd81-d</td>\n",
       "      <td>Michael Parker</td>\n",
       "      <td>male</td>\n",
       "      <td>40</td>\n",
       "      <td>5</td>\n",
       "      <td>conservative</td>\n",
       "      <td>7</td>\n",
       "      <td>31228870</td>\n",
       "      <td>42.77</td>\n",
       "    </tr>\n",
       "    <tr>\n",
       "      <th>1240</th>\n",
       "      <td>50a9e569-f</td>\n",
       "      <td>Christopher Smith</td>\n",
       "      <td>male</td>\n",
       "      <td>42</td>\n",
       "      <td>11</td>\n",
       "      <td>conservative</td>\n",
       "      <td>4</td>\n",
       "      <td>19398597</td>\n",
       "      <td>47.45</td>\n",
       "    </tr>\n",
       "    <tr>\n",
       "      <th>1292</th>\n",
       "      <td>bcc3b7c0-8</td>\n",
       "      <td>Ryan Williams</td>\n",
       "      <td>male</td>\n",
       "      <td>46</td>\n",
       "      <td>18</td>\n",
       "      <td>proactive</td>\n",
       "      <td>4</td>\n",
       "      <td>20675169</td>\n",
       "      <td>62.13</td>\n",
       "    </tr>\n",
       "  </tbody>\n",
       "</table>\n",
       "</div>"
      ],
      "text/plain": [
       "       driver_id               name gender  age  experience driving_style  \\\n",
       "4     b2e58421-d      Vincent Davis   male   41          10     proactive   \n",
       "15    2f2e8d57-9    Joshua Martinez   male   46           9  conservative   \n",
       "32    0fc4a002-7    Andrew Williams   male   51          18     proactive   \n",
       "77    1613697d-4    Joshua Martinez   male   46          16     proactive   \n",
       "101   a17d5cbf-7    Kenneth Johnson   male   50           7     proactive   \n",
       "130   9cb46965-d      Michael Smith   male   44          17     proactive   \n",
       "202   641f9f43-7       Joseph Lopez   male   45           2  conservative   \n",
       "214   effe4a4d-0     Michael Jacobs   male   47          10     proactive   \n",
       "253   fa8b479d-1      Michael Jones   male   49           6     proactive   \n",
       "276   11ecb456-e      Michael Jones   male   45          11  conservative   \n",
       "291   cafc12ae-5      William Smith   male   47          13  conservative   \n",
       "363   a1d27a4e-e        Robert Shaw   male   42           5  conservative   \n",
       "372   679d51e6-7    Andrew Williams   male   47           6  conservative   \n",
       "375   82ff0d62-e         John Jones   male   54          24  conservative   \n",
       "389   6ef55db3-3      Vincent Davis   male   45          15  conservative   \n",
       "391   b9a438d1-d      William Smith   male   44          11     proactive   \n",
       "396   5837b900-a      Ryan Williams   male   50          15  conservative   \n",
       "408   6c6b42a8-6      Joshua Walker   male   50          10  conservative   \n",
       "454   b8e42de7-3      James Johnson   male   41          16  conservative   \n",
       "462   8df318b0-4  Christopher Smith   male   41           1  conservative   \n",
       "469   68c047ac-f      James Johnson   male   42           0     proactive   \n",
       "484   dbeeb00c-8       Ryan Watkins   male   65          20     proactive   \n",
       "487   6fde3e59-6       David Miller   male   54          26  conservative   \n",
       "496   c50a6c96-9       Ryan Watkins   male   47           9     proactive   \n",
       "601   45fbd22d-7     Michael Parker   male   44           9  conservative   \n",
       "606   240e737a-9      William Brown   male   50           6  conservative   \n",
       "617   7c0a40f9-b   Michael Martinez   male   50          12  conservative   \n",
       "628   5e23f229-5      Robert Wilson   male   55          24  conservative   \n",
       "674   bb6aec6e-3      William Brown   male   42          14     proactive   \n",
       "685   f8fee53b-3      Joshua Walker   male   44          13     proactive   \n",
       "741   32b3748a-4    Kenneth Johnson   male   53          15     proactive   \n",
       "761   85b64b65-f       Thomas Smith   male   47           4  conservative   \n",
       "807   283d5592-d      Robert Wilson   male   55          13     proactive   \n",
       "821   e2b9ce55-5        Jason Lewis   male   51          21  conservative   \n",
       "829   59904d79-9      Michael Smith   male   51          25  conservative   \n",
       "871   78ae39c9-3       David Miller   male   46          15     proactive   \n",
       "888   c643afdf-8       Thomas Smith   male   38           6     proactive   \n",
       "947   d08282df-9     Michael Parker   male   51          19  conservative   \n",
       "958   41281b64-4         John Jones   male   57          22     proactive   \n",
       "969   d73b6158-3      Justin Nelson   male   43           8     proactive   \n",
       "1000  45a14e9e-0   Michael Martinez   male   47           6  conservative   \n",
       "1106  61b907ef-f      William Brown   male   44          11     proactive   \n",
       "1151  ae3416af-e       Joseph Lopez   male   50           6     proactive   \n",
       "1152  fb00272d-9        Jason Lewis   male   47          15  conservative   \n",
       "1158  f24f5f34-a      Justin Nelson   male   49           2     proactive   \n",
       "1174  2d0cfc63-2        Robert Shaw   male   46          11  conservative   \n",
       "1220  2f53dab7-3     Michael Jacobs   male   45          11  conservative   \n",
       "1237  2e3ddd81-d     Michael Parker   male   40           5  conservative   \n",
       "1240  50a9e569-f  Christopher Smith   male   42          11  conservative   \n",
       "1292  bcc3b7c0-8      Ryan Williams   male   46          18     proactive   \n",
       "\n",
       "      ratings  vehicle_no  average_speed_mph  \n",
       "4           7    28650047              62.65  \n",
       "15          3    27799951              38.87  \n",
       "32          6    21001184              60.21  \n",
       "77          7    31889845              59.85  \n",
       "101         8    31312028              62.11  \n",
       "130         4    22705355              64.42  \n",
       "202         2    77969688              46.12  \n",
       "214         8    18882093              61.46  \n",
       "253         8    25314663              56.34  \n",
       "276         4    32255566              35.32  \n",
       "291         4    14262671              36.52  \n",
       "363         4    10491120              46.36  \n",
       "372         3    22305237              47.32  \n",
       "375         8    17142878              53.40  \n",
       "389         5    57783233              46.58  \n",
       "391         4    98891327              61.32  \n",
       "396         6    24236441              41.80  \n",
       "408         4    26946012              35.29  \n",
       "454         7    24136996              44.14  \n",
       "462         3    27188149              50.48  \n",
       "469         7    12156651              63.14  \n",
       "484         4    32206692              60.88  \n",
       "487         4    14058250              49.10  \n",
       "496         2    32778747              58.67  \n",
       "601         4    40030230              52.10  \n",
       "606         8    94792980              52.88  \n",
       "617         8    75500652              40.08  \n",
       "628         9    55617675              46.94  \n",
       "674         4    17884689              62.65  \n",
       "685         4    20482407              62.64  \n",
       "741         8    28866540              60.90  \n",
       "761         7    14969134              40.72  \n",
       "807         6    30548837              60.04  \n",
       "821         8    25691185              48.99  \n",
       "829         9    17077324              41.52  \n",
       "871         6    56671924              59.76  \n",
       "888         8    33548280              61.10  \n",
       "947         8    29283906              41.24  \n",
       "958         4    74647097              58.79  \n",
       "969         8    53838896              66.05  \n",
       "1000        4    34009707              36.26  \n",
       "1106        4    31051475              60.92  \n",
       "1151        8    65820129              57.06  \n",
       "1152        8    61165323              38.87  \n",
       "1158        4    12975922              56.97  \n",
       "1174        6    30236733              53.44  \n",
       "1220        5    27773699              42.19  \n",
       "1237        7    31228870              42.77  \n",
       "1240        4    19398597              47.45  \n",
       "1292        4    20675169              62.13  "
      ]
     },
     "execution_count": 57,
     "metadata": {},
     "output_type": "execute_result"
    }
   ],
   "source": [
    "duplicates_in_column = df[df['name'].duplicated(keep=False)]\n",
    "duplicates_in_column"
   ]
  },
  {
   "cell_type": "markdown",
   "metadata": {},
   "source": [
    "Hence though we have the duplicate names here, we still have the other attributes different for same name people. Hence we can ignore this."
   ]
  },
  {
   "cell_type": "code",
   "execution_count": 58,
   "metadata": {},
   "outputs": [
    {
     "data": {
      "text/plain": [
       "36"
      ]
     },
     "execution_count": 58,
     "metadata": {},
     "output_type": "execute_result"
    }
   ],
   "source": [
    "df['age'].value_counts().count()"
   ]
  },
  {
   "cell_type": "code",
   "execution_count": 59,
   "metadata": {},
   "outputs": [
    {
     "data": {
      "text/plain": [
       "age\n",
       "47    117\n",
       "49    109\n",
       "45    103\n",
       "46    103\n",
       "48     93\n",
       "50     92\n",
       "51     84\n",
       "43     68\n",
       "44     67\n",
       "52     65\n",
       "42     54\n",
       "54     53\n",
       "53     47\n",
       "55     42\n",
       "41     40\n",
       "56     27\n",
       "39     23\n",
       "40     21\n",
       "57     21\n",
       "38     17\n",
       "37     12\n",
       "58     11\n",
       "59      7\n",
       "60      5\n",
       "61      4\n",
       "62      3\n",
       "36      3\n",
       "65      1\n",
       "32      1\n",
       "28      1\n",
       "30      1\n",
       "64      1\n",
       "34      1\n",
       "29      1\n",
       "33      1\n",
       "35      1\n",
       "Name: count, dtype: int64"
      ]
     },
     "execution_count": 59,
     "metadata": {},
     "output_type": "execute_result"
    }
   ],
   "source": [
    "df['age'].value_counts()"
   ]
  },
  {
   "cell_type": "code",
   "execution_count": 60,
   "metadata": {},
   "outputs": [
    {
     "data": {
      "text/plain": [
       "<Axes: ylabel='age'>"
      ]
     },
     "execution_count": 60,
     "metadata": {},
     "output_type": "execute_result"
    },
    {
     "data": {
      "image/png": "[encoded data removed]",
      "text/plain": [
       "<Figure size 640x480 with 1 Axes>"
      ]
     },
     "metadata": {},
     "output_type": "display_data"
    }
   ],
   "source": [
    "sns.boxplot(y=df['age'])"
   ]
  },
  {
   "cell_type": "markdown",
   "metadata": {},
   "source": [
    "Hence we cannot apply this column for outliers"
   ]
  },
  {
   "cell_type": "code",
   "execution_count": 61,
   "metadata": {},
   "outputs": [
    {
     "data": {
      "text/plain": [
       "experience\n",
       " 11    74\n",
       " 7     72\n",
       " 12    71\n",
       " 10    71\n",
       " 9     68\n",
       " 6     67\n",
       " 5     67\n",
       " 13    65\n",
       " 14    65\n",
       " 4     61\n",
       " 8     58\n",
       " 16    52\n",
       " 18    49\n",
       " 15    48\n",
       " 17    45\n",
       " 19    39\n",
       " 20    38\n",
       " 3     36\n",
       " 21    33\n",
       " 2     31\n",
       " 22    31\n",
       " 24    26\n",
       " 0     24\n",
       " 1     19\n",
       " 23    18\n",
       " 25    16\n",
       " 26    13\n",
       " 27     9\n",
       " 28     7\n",
       " 29     5\n",
       " 30     4\n",
       "-2      3\n",
       " 31     3\n",
       " 32     2\n",
       "-3      2\n",
       "-5      2\n",
       "-1      2\n",
       " 35     1\n",
       "-7      1\n",
       "-4      1\n",
       "-8      1\n",
       "Name: count, dtype: int64"
      ]
     },
     "execution_count": 61,
     "metadata": {},
     "output_type": "execute_result"
    }
   ],
   "source": [
    "df['experience'].value_counts()"
   ]
  },
  {
   "cell_type": "code",
   "execution_count": 62,
   "metadata": {},
   "outputs": [
    {
     "data": {
      "text/plain": [
       "41"
      ]
     },
     "execution_count": 62,
     "metadata": {},
     "output_type": "execute_result"
    }
   ],
   "source": [
    "df['experience'].value_counts().count()"
   ]
  },
  {
   "cell_type": "code",
   "execution_count": 63,
   "metadata": {},
   "outputs": [],
   "source": [
    "#Hence here there are values in negative and we can apply this column for outliers"
   ]
  },
  {
   "cell_type": "code",
   "execution_count": 64,
   "metadata": {},
   "outputs": [
    {
     "data": {
      "text/plain": [
       "gender\n",
       "male      1221\n",
       "female      79\n",
       "Name: count, dtype: int64"
      ]
     },
     "execution_count": 64,
     "metadata": {},
     "output_type": "execute_result"
    }
   ],
   "source": [
    "df['gender'].value_counts()"
   ]
  },
  {
   "cell_type": "markdown",
   "metadata": {},
   "source": [
    "Hence no need to remove outliers as they are segregated in two columns"
   ]
  },
  {
   "cell_type": "code",
   "execution_count": 65,
   "metadata": {},
   "outputs": [
    {
     "data": {
      "text/plain": [
       "8"
      ]
     },
     "execution_count": 65,
     "metadata": {},
     "output_type": "execute_result"
    }
   ],
   "source": [
    "df['ratings'].value_counts().count()"
   ]
  },
  {
   "cell_type": "code",
   "execution_count": 66,
   "metadata": {},
   "outputs": [
    {
     "data": {
      "text/plain": [
       "ratings\n",
       "4    279\n",
       "8    260\n",
       "7    203\n",
       "6    165\n",
       "3    118\n",
       "2    116\n",
       "9     84\n",
       "5     75\n",
       "Name: count, dtype: int64"
      ]
     },
     "execution_count": 66,
     "metadata": {},
     "output_type": "execute_result"
    }
   ],
   "source": [
    "df['ratings'].value_counts()"
   ]
  },
  {
   "cell_type": "markdown",
   "metadata": {},
   "source": [
    "Hence no need to take outliers"
   ]
  },
  {
   "cell_type": "code",
   "execution_count": 67,
   "metadata": {},
   "outputs": [
    {
     "data": {
      "text/plain": [
       "1300"
      ]
     },
     "execution_count": 67,
     "metadata": {},
     "output_type": "execute_result"
    }
   ],
   "source": [
    "df['vehicle_no'].value_counts().count()"
   ]
  },
  {
   "cell_type": "code",
   "execution_count": 68,
   "metadata": {},
   "outputs": [
    {
     "data": {
      "text/plain": [
       "vehicle_no\n",
       "42302347    1\n",
       "25812199    1\n",
       "30440990    1\n",
       "56671924    1\n",
       "24891855    1\n",
       "           ..\n",
       "22458296    1\n",
       "28973978    1\n",
       "27775623    1\n",
       "12642421    1\n",
       "34755903    1\n",
       "Name: count, Length: 1300, dtype: int64"
      ]
     },
     "execution_count": 68,
     "metadata": {},
     "output_type": "execute_result"
    }
   ],
   "source": [
    "df['vehicle_no'].value_counts()"
   ]
  },
  {
   "cell_type": "code",
   "execution_count": 69,
   "metadata": {},
   "outputs": [
    {
     "data": {
      "text/plain": [
       "<Axes: ylabel='vehicle_no'>"
      ]
     },
     "execution_count": 69,
     "metadata": {},
     "output_type": "execute_result"
    },
    {
     "data": {
      "image/png": "[encoded data removed]",
      "text/plain": [
       "<Figure size 640x480 with 1 Axes>"
      ]
     },
     "metadata": {},
     "output_type": "display_data"
    }
   ],
   "source": [
    "sns.boxplot(y=df['vehicle_no'])"
   ]
  },
  {
   "cell_type": "markdown",
   "metadata": {},
   "source": [
    "Hence no need to take the outliers for this column "
   ]
  },
  {
   "cell_type": "markdown",
   "metadata": {},
   "source": [
    "Removing outliers for selected columns"
   ]
  },
  {
   "cell_type": "code",
   "execution_count": 70,
   "metadata": {},
   "outputs": [
    {
     "name": "stdout",
     "output_type": "stream",
     "text": [
      "       driver_id               name gender  age  experience driving_style  \\\n",
      "0     d9f30553-6       Daniel Marks   male   47           5     proactive   \n",
      "1     82de7bb8-2      Clifford Carr   male   47          14     proactive   \n",
      "2     7e789842-4  Terry Faulkner MD   male   41           9  conservative   \n",
      "4     b2e58421-d      Vincent Davis   male   41          10     proactive   \n",
      "5     6ef125cc-7  Alexander Wheeler   male   49          10     proactive   \n",
      "...          ...                ...    ...  ...         ...           ...   \n",
      "1295  57f77e99-8     Robert Johnson   male   60          26     proactive   \n",
      "1296  e64c4059-8  Patrick Hernandez   male   46          20     proactive   \n",
      "1297  7e6a0cf5-1      Richard Ortiz   male   49          10  conservative   \n",
      "1298  c4a966b0-b    Peter Rodriguez   male   49           5  conservative   \n",
      "1299  e5d104b5-1   Michael Robinson   male   56          24     proactive   \n",
      "\n",
      "      ratings  vehicle_no  average_speed_mph  \n",
      "0           7    42302347              62.22  \n",
      "1           4    27867488              60.89  \n",
      "2           2    13927774              53.67  \n",
      "4           7    28650047              62.65  \n",
      "5           4    29303248              57.66  \n",
      "...       ...         ...                ...  \n",
      "1295        4    17792974              60.64  \n",
      "1296        8    17248432              58.42  \n",
      "1297        7    21865328              48.29  \n",
      "1298        8    33564827              43.14  \n",
      "1299        8    34755903              56.30  \n",
      "\n",
      "[1099 rows x 9 columns]\n"
     ]
    }
   ],
   "source": [
    "# Columns from where outliers need to be removed\n",
    "columns_to_check = ['experience','vehicle_no']\n",
    "\n",
    "# Function to remove outliers using IQR method\n",
    "def remove_outliers_iqr(df, columns):\n",
    "    df_cleaned = df.copy()  # Create a copy of the DataFrame to avoid modifying the original\n",
    "    for column in columns:\n",
    "        Q1 = df_cleaned[column].quantile(0.25)  # 25th percentile (1st Quartile)\n",
    "        Q3 = df_cleaned[column].quantile(0.75)  # 75th percentile (3rd Quartile)\n",
    "        IQR = Q3 - Q1  # Interquartile Range\n",
    "        \n",
    "        # Define outlier bounds\n",
    "        lower_bound = Q1 - 1.5 * IQR\n",
    "        upper_bound = Q3 + 1.5 * IQR\n",
    "        \n",
    "        # Filter out rows with outliers\n",
    "        df_cleaned = df_cleaned[(df_cleaned[column] >= lower_bound) & (df_cleaned[column] <= upper_bound)]\n",
    "    \n",
    "    return df_cleaned\n",
    "\n",
    "# Apply the function to remove outliers from the specified columns\n",
    "df_cleaned = remove_outliers_iqr(df, columns_to_check)\n",
    "\n",
    "# Display the cleaned DataFrame\n",
    "print(df_cleaned)"
   ]
  },
  {
   "cell_type": "code",
   "execution_count": 71,
   "metadata": {},
   "outputs": [
    {
     "name": "stdout",
     "output_type": "stream",
     "text": [
      "      RowIndex   driver_id               name gender  age  experience  \\\n",
      "0            1  d9f30553-6       Daniel Marks   male   47           5   \n",
      "1            2  82de7bb8-2      Clifford Carr   male   47          14   \n",
      "2            3  7e789842-4  Terry Faulkner MD   male   41           9   \n",
      "4            4  b2e58421-d      Vincent Davis   male   41          10   \n",
      "5            5  6ef125cc-7  Alexander Wheeler   male   49          10   \n",
      "...        ...         ...                ...    ...  ...         ...   \n",
      "1295      1095  57f77e99-8     Robert Johnson   male   60          26   \n",
      "1296      1096  e64c4059-8  Patrick Hernandez   male   46          20   \n",
      "1297      1097  7e6a0cf5-1      Richard Ortiz   male   49          10   \n",
      "1298      1098  c4a966b0-b    Peter Rodriguez   male   49           5   \n",
      "1299      1099  e5d104b5-1   Michael Robinson   male   56          24   \n",
      "\n",
      "     driving_style  ratings  vehicle_no  average_speed_mph  \n",
      "0        proactive        7    42302347              62.22  \n",
      "1        proactive        4    27867488              60.89  \n",
      "2     conservative        2    13927774              53.67  \n",
      "4        proactive        7    28650047              62.65  \n",
      "5        proactive        4    29303248              57.66  \n",
      "...            ...      ...         ...                ...  \n",
      "1295     proactive        4    17792974              60.64  \n",
      "1296     proactive        8    17248432              58.42  \n",
      "1297  conservative        7    21865328              48.29  \n",
      "1298  conservative        8    33564827              43.14  \n",
      "1299     proactive        8    34755903              56.30  \n",
      "\n",
      "[1099 rows x 10 columns]\n"
     ]
    }
   ],
   "source": [
    "# Adding a new index column with a different name\n",
    "df_cleaned.insert(0, 'RowIndex', range(1, 1 + len(df_cleaned)))\n",
    "\n",
    "# Display the DataFrame with the new index column\n",
    "print(df_cleaned)"
   ]
  },
  {
   "cell_type": "code",
   "execution_count": 72,
   "metadata": {},
   "outputs": [],
   "source": [
    "df2 = df_cleaned "
   ]
  },
  {
   "cell_type": "code",
   "execution_count": 73,
   "metadata": {},
   "outputs": [],
   "source": [
    "df2['event_time']= pd.to_datetime('2024-09-17')"
   ]
  },
  {
   "cell_type": "code",
   "execution_count": 74,
   "metadata": {},
   "outputs": [
    {
     "name": "stdout",
     "output_type": "stream",
     "text": [
      "      RowIndex   driver_id               name gender  age  experience  \\\n",
      "0            1  d9f30553-6       Daniel Marks   male   47         5.0   \n",
      "1            2  82de7bb8-2      Clifford Carr   male   47        14.0   \n",
      "2            3  7e789842-4  Terry Faulkner MD   male   41         9.0   \n",
      "4            4  b2e58421-d      Vincent Davis   male   41        10.0   \n",
      "5            5  6ef125cc-7  Alexander Wheeler   male   49        10.0   \n",
      "...        ...         ...                ...    ...  ...         ...   \n",
      "1295      1095  57f77e99-8     Robert Johnson   male   60        26.0   \n",
      "1296      1096  e64c4059-8  Patrick Hernandez   male   46        20.0   \n",
      "1297      1097  7e6a0cf5-1      Richard Ortiz   male   49        10.0   \n",
      "1298      1098  c4a966b0-b    Peter Rodriguez   male   49         5.0   \n",
      "1299      1099  e5d104b5-1   Michael Robinson   male   56        24.0   \n",
      "\n",
      "     driving_style  ratings  vehicle_no  average_speed_mph event_time  \n",
      "0        proactive        7    42302347              62.22 2024-09-17  \n",
      "1        proactive        4    27867488              60.89 2024-09-17  \n",
      "2     conservative        2    13927774              53.67 2024-09-17  \n",
      "4        proactive        7    28650047              62.65 2024-09-17  \n",
      "5        proactive        4    29303248              57.66 2024-09-17  \n",
      "...            ...      ...         ...                ...        ...  \n",
      "1295     proactive        4    17792974              60.64 2024-09-17  \n",
      "1296     proactive        8    17248432              58.42 2024-09-17  \n",
      "1297  conservative        7    21865328              48.29 2024-09-17  \n",
      "1298  conservative        8    33564827              43.14 2024-09-17  \n",
      "1299     proactive        8    34755903              56.30 2024-09-17  \n",
      "\n",
      "[1099 rows x 11 columns]\n"
     ]
    }
   ],
   "source": [
    "# Define the function to replace negative values with the mean of non-negative values\n",
    "def fix_negative_values(df2, experience):\n",
    "    # Calculate the mean of non-negative values\n",
    "    mean_value = df2[df2[experience] >= 0][experience].mean()\n",
    "    \n",
    "    # Replace negative values with the mean\n",
    "    df2[experience] = df2[experience].apply(lambda x: mean_value if x < 0 else x)\n",
    "    \n",
    "    return df2\n",
    "\n",
    "# Apply the function to fix the 'experience' column\n",
    "df2 = fix_negative_values(df2, 'experience')\n",
    "\n",
    "# Display the updated DataFrame\n",
    "print(df2)"
   ]
  },
  {
   "cell_type": "code",
   "execution_count": 75,
   "metadata": {},
   "outputs": [
    {
     "name": "stdout",
     "output_type": "stream",
     "text": [
      "Requirement already satisfied: hopsworks in c:\\truck_delay_classification\\.venv\\lib\\site-packages (3.7.0)\n",
      "Requirement already satisfied: hsfs<3.8.0,>=3.7.0 in c:\\truck_delay_classification\\.venv\\lib\\site-packages (from hsfs[python]<3.8.0,>=3.7.0->hopsworks) (3.7.7)\n",
      "Requirement already satisfied: hsml<3.8.0,>=3.7.0 in c:\\truck_delay_classification\\.venv\\lib\\site-packages (from hopsworks) (3.7.1)\n",
      "Requirement already satisfied: pyhumps==1.6.1 in c:\\truck_delay_classification\\.venv\\lib\\site-packages (from hopsworks) (1.6.1)\n",
      "Requirement already satisfied: requests in c:\\truck_delay_classification\\.venv\\lib\\site-packages (from hopsworks) (2.32.3)\n",
      "Requirement already satisfied: furl in c:\\truck_delay_classification\\.venv\\lib\\site-packages (from hopsworks) (2.1.3)\n",
      "Requirement already satisfied: boto3 in c:\\truck_delay_classification\\.venv\\lib\\site-packages (from hopsworks) (1.35.22)\n",
      "Requirement already satisfied: pyjks in c:\\truck_delay_classification\\.venv\\lib\\site-packages (from hopsworks) (20.0.0)\n",
      "Requirement already satisfied: mock in c:\\truck_delay_classification\\.venv\\lib\\site-packages (from hopsworks) (5.1.0)\n",
      "Requirement already satisfied: tqdm in c:\\truck_delay_classification\\.venv\\lib\\site-packages (from hopsworks) (4.66.5)\n",
      "Requirement already satisfied: pandas<2.2.0 in c:\\truck_delay_classification\\.venv\\lib\\site-packages (from hsfs<3.8.0,>=3.7.0->hsfs[python]<3.8.0,>=3.7.0->hopsworks) (2.1.4)\n",
      "Requirement already satisfied: numpy<2 in c:\\truck_delay_classification\\.venv\\lib\\site-packages (from hsfs<3.8.0,>=3.7.0->hsfs[python]<3.8.0,>=3.7.0->hopsworks) (1.26.4)\n",
      "Requirement already satisfied: avro==1.11.3 in c:\\truck_delay_classification\\.venv\\lib\\site-packages (from hsfs<3.8.0,>=3.7.0->hsfs[python]<3.8.0,>=3.7.0->hopsworks) (1.11.3)\n",
      "Requirement already satisfied: sqlalchemy<=1.4.48 in c:\\truck_delay_classification\\.venv\\lib\\site-packages (from hsfs<3.8.0,>=3.7.0->hsfs[python]<3.8.0,>=3.7.0->hopsworks) (1.4.48)\n",
      "Requirement already satisfied: PyMySQL[rsa] in c:\\truck_delay_classification\\.venv\\lib\\site-packages (from hsfs<3.8.0,>=3.7.0->hsfs[python]<3.8.0,>=3.7.0->hopsworks) (1.1.1)\n",
      "Requirement already satisfied: great-expectations==0.18.12 in c:\\truck_delay_classification\\.venv\\lib\\site-packages (from hsfs<3.8.0,>=3.7.0->hsfs[python]<3.8.0,>=3.7.0->hopsworks) (0.18.12)\n",
      "Requirement already satisfied: tzlocal in c:\\truck_delay_classification\\.venv\\lib\\site-packages (from hsfs<3.8.0,>=3.7.0->hsfs[python]<3.8.0,>=3.7.0->hopsworks) (5.2)\n",
      "Requirement already satisfied: fsspec in c:\\truck_delay_classification\\.venv\\lib\\site-packages (from hsfs<3.8.0,>=3.7.0->hsfs[python]<3.8.0,>=3.7.0->hopsworks) (2024.9.0)\n",
      "Requirement already satisfied: retrying in c:\\truck_delay_classification\\.venv\\lib\\site-packages (from hsfs<3.8.0,>=3.7.0->hsfs[python]<3.8.0,>=3.7.0->hopsworks) (1.3.4)\n",
      "Requirement already satisfied: aiomysql in c:\\truck_delay_classification\\.venv\\lib\\site-packages (from hsfs<3.8.0,>=3.7.0->hsfs[python]<3.8.0,>=3.7.0->hopsworks) (0.2.0)\n",
      "Requirement already satisfied: opensearch-py<=2.4.2,>=1.1.0 in c:\\truck_delay_classification\\.venv\\lib\\site-packages (from hsfs<3.8.0,>=3.7.0->hsfs[python]<3.8.0,>=3.7.0->hopsworks) (2.4.2)\n",
      "Requirement already satisfied: altair<5.0.0,>=4.2.1 in c:\\truck_delay_classification\\.venv\\lib\\site-packages (from great-expectations==0.18.12->hsfs<3.8.0,>=3.7.0->hsfs[python]<3.8.0,>=3.7.0->hopsworks) (4.2.2)\n",
      "Requirement already satisfied: Click>=7.1.2 in c:\\truck_delay_classification\\.venv\\lib\\site-packages (from great-expectations==0.18.12->hsfs<3.8.0,>=3.7.0->hsfs[python]<3.8.0,>=3.7.0->hopsworks) (8.1.7)\n",
      "Requirement already satisfied: colorama>=0.4.3 in c:\\truck_delay_classification\\.venv\\lib\\site-packages (from great-expectations==0.18.12->hsfs<3.8.0,>=3.7.0->hsfs[python]<3.8.0,>=3.7.0->hopsworks) (0.4.6)\n",
      "Requirement already satisfied: cryptography>=3.2 in c:\\truck_delay_classification\\.venv\\lib\\site-packages (from great-expectations==0.18.12->hsfs<3.8.0,>=3.7.0->hsfs[python]<3.8.0,>=3.7.0->hopsworks) (43.0.1)\n",
      "Requirement already satisfied: Ipython>=7.16.3 in c:\\truck_delay_classification\\.venv\\lib\\site-packages (from great-expectations==0.18.12->hsfs<3.8.0,>=3.7.0->hsfs[python]<3.8.0,>=3.7.0->hopsworks) (8.27.0)\n",
      "Requirement already satisfied: ipywidgets>=7.5.1 in c:\\truck_delay_classification\\.venv\\lib\\site-packages (from great-expectations==0.18.12->hsfs<3.8.0,>=3.7.0->hsfs[python]<3.8.0,>=3.7.0->hopsworks) (8.1.5)\n",
      "Requirement already satisfied: jinja2>=2.10 in c:\\truck_delay_classification\\.venv\\lib\\site-packages (from great-expectations==0.18.12->hsfs<3.8.0,>=3.7.0->hsfs[python]<3.8.0,>=3.7.0->hopsworks) (3.1.4)\n",
      "Requirement already satisfied: jsonpatch>=1.22 in c:\\truck_delay_classification\\.venv\\lib\\site-packages (from great-expectations==0.18.12->hsfs<3.8.0,>=3.7.0->hsfs[python]<3.8.0,>=3.7.0->hopsworks) (1.33)\n",
      "Requirement already satisfied: jsonschema>=2.5.1 in c:\\truck_delay_classification\\.venv\\lib\\site-packages (from great-expectations==0.18.12->hsfs<3.8.0,>=3.7.0->hsfs[python]<3.8.0,>=3.7.0->hopsworks) (4.23.0)\n",
      "Requirement already satisfied: makefun<2,>=1.7.0 in c:\\truck_delay_classification\\.venv\\lib\\site-packages (from great-expectations==0.18.12->hsfs<3.8.0,>=3.7.0->hsfs[python]<3.8.0,>=3.7.0->hopsworks) (1.15.4)\n",
      "Requirement already satisfied: marshmallow<4.0.0,>=3.7.1 in c:\\truck_delay_classification\\.venv\\lib\\site-packages (from great-expectations==0.18.12->hsfs<3.8.0,>=3.7.0->hsfs[python]<3.8.0,>=3.7.0->hopsworks) (3.22.0)\n",
      "Requirement already satisfied: mistune>=0.8.4 in c:\\truck_delay_classification\\.venv\\lib\\site-packages (from great-expectations==0.18.12->hsfs<3.8.0,>=3.7.0->hsfs[python]<3.8.0,>=3.7.0->hopsworks) (3.0.2)\n",
      "Requirement already satisfied: nbformat>=5.0 in c:\\truck_delay_classification\\.venv\\lib\\site-packages (from great-expectations==0.18.12->hsfs<3.8.0,>=3.7.0->hsfs[python]<3.8.0,>=3.7.0->hopsworks) (5.10.4)\n",
      "Requirement already satisfied: notebook>=6.4.10 in c:\\truck_delay_classification\\.venv\\lib\\site-packages (from great-expectations==0.18.12->hsfs<3.8.0,>=3.7.0->hsfs[python]<3.8.0,>=3.7.0->hopsworks) (7.2.2)\n",
      "Requirement already satisfied: packaging in c:\\truck_delay_classification\\.venv\\lib\\site-packages (from great-expectations==0.18.12->hsfs<3.8.0,>=3.7.0->hsfs[python]<3.8.0,>=3.7.0->hopsworks) (24.1)\n",
      "Requirement already satisfied: pydantic>=1.9.2 in c:\\truck_delay_classification\\.venv\\lib\\site-packages (from great-expectations==0.18.12->hsfs<3.8.0,>=3.7.0->hsfs[python]<3.8.0,>=3.7.0->hopsworks) (2.9.2)\n",
      "Requirement already satisfied: pyparsing>=2.4 in c:\\truck_delay_classification\\.venv\\lib\\site-packages (from great-expectations==0.18.12->hsfs<3.8.0,>=3.7.0->hsfs[python]<3.8.0,>=3.7.0->hopsworks) (3.1.4)\n",
      "Requirement already satisfied: python-dateutil>=2.8.1 in c:\\truck_delay_classification\\.venv\\lib\\site-packages (from great-expectations==0.18.12->hsfs<3.8.0,>=3.7.0->hsfs[python]<3.8.0,>=3.7.0->hopsworks) (2.9.0.post0)\n",
      "Requirement already satisfied: pytz>=2021.3 in c:\\truck_delay_classification\\.venv\\lib\\site-packages (from great-expectations==0.18.12->hsfs<3.8.0,>=3.7.0->hsfs[python]<3.8.0,>=3.7.0->hopsworks) (2024.2)\n",
      "Requirement already satisfied: ruamel.yaml<0.17.18,>=0.16 in c:\\truck_delay_classification\\.venv\\lib\\site-packages (from great-expectations==0.18.12->hsfs<3.8.0,>=3.7.0->hsfs[python]<3.8.0,>=3.7.0->hopsworks) (0.17.17)\n",
      "Requirement already satisfied: scipy>=1.6.0 in c:\\truck_delay_classification\\.venv\\lib\\site-packages (from great-expectations==0.18.12->hsfs<3.8.0,>=3.7.0->hsfs[python]<3.8.0,>=3.7.0->hopsworks) (1.14.1)\n",
      "Requirement already satisfied: typing-extensions>=3.10.0.0 in c:\\truck_delay_classification\\.venv\\lib\\site-packages (from great-expectations==0.18.12->hsfs<3.8.0,>=3.7.0->hsfs[python]<3.8.0,>=3.7.0->hopsworks) (4.12.2)\n",
      "Requirement already satisfied: urllib3>=1.26 in c:\\truck_delay_classification\\.venv\\lib\\site-packages (from great-expectations==0.18.12->hsfs<3.8.0,>=3.7.0->hsfs[python]<3.8.0,>=3.7.0->hopsworks) (2.2.3)\n",
      "Requirement already satisfied: pyhopshive[thrift] in c:\\truck_delay_classification\\.venv\\lib\\site-packages (from hsfs[python]<3.8.0,>=3.7.0->hopsworks) (0.6.4.1.dev0)\n",
      "Requirement already satisfied: pyarrow>=10.0 in c:\\truck_delay_classification\\.venv\\lib\\site-packages (from hsfs[python]<3.8.0,>=3.7.0->hopsworks) (17.0.0)\n",
      "Requirement already satisfied: confluent-kafka<=2.3.0 in c:\\truck_delay_classification\\.venv\\lib\\site-packages (from hsfs[python]<3.8.0,>=3.7.0->hopsworks) (2.3.0)\n",
      "Requirement already satisfied: fastavro<=1.8.4,>=1.4.11 in c:\\truck_delay_classification\\.venv\\lib\\site-packages (from hsfs[python]<3.8.0,>=3.7.0->hopsworks) (1.8.4)\n",
      "Requirement already satisfied: charset-normalizer<4,>=2 in c:\\truck_delay_classification\\.venv\\lib\\site-packages (from requests->hopsworks) (3.3.2)\n",
      "Requirement already satisfied: idna<4,>=2.5 in c:\\truck_delay_classification\\.venv\\lib\\site-packages (from requests->hopsworks) (3.10)\n",
      "Requirement already satisfied: certifi>=2017.4.17 in c:\\truck_delay_classification\\.venv\\lib\\site-packages (from requests->hopsworks) (2024.8.30)\n",
      "Requirement already satisfied: botocore<1.36.0,>=1.35.22 in c:\\truck_delay_classification\\.venv\\lib\\site-packages (from boto3->hopsworks) (1.35.22)\n",
      "Requirement already satisfied: jmespath<2.0.0,>=0.7.1 in c:\\truck_delay_classification\\.venv\\lib\\site-packages (from boto3->hopsworks) (1.0.1)\n",
      "Requirement already satisfied: s3transfer<0.11.0,>=0.10.0 in c:\\truck_delay_classification\\.venv\\lib\\site-packages (from boto3->hopsworks) (0.10.2)\n",
      "Requirement already satisfied: six>=1.8.0 in c:\\truck_delay_classification\\.venv\\lib\\site-packages (from furl->hopsworks) (1.16.0)\n",
      "Requirement already satisfied: orderedmultidict>=1.0.1 in c:\\truck_delay_classification\\.venv\\lib\\site-packages (from furl->hopsworks) (1.0.1)\n",
      "Requirement already satisfied: javaobj-py3 in c:\\truck_delay_classification\\.venv\\lib\\site-packages (from pyjks->hopsworks) (0.4.4)\n",
      "Requirement already satisfied: pyasn1>=0.3.5 in c:\\truck_delay_classification\\.venv\\lib\\site-packages (from pyjks->hopsworks) (0.6.1)\n",
      "Requirement already satisfied: pyasn1-modules in c:\\truck_delay_classification\\.venv\\lib\\site-packages (from pyjks->hopsworks) (0.4.1)\n",
      "Requirement already satisfied: pycryptodomex in c:\\truck_delay_classification\\.venv\\lib\\site-packages (from pyjks->hopsworks) (3.20.0)\n",
      "Requirement already satisfied: twofish in c:\\truck_delay_classification\\.venv\\lib\\site-packages (from pyjks->hopsworks) (0.3.0)\n",
      "Requirement already satisfied: tzdata>=2022.1 in c:\\truck_delay_classification\\.venv\\lib\\site-packages (from pandas<2.2.0->hsfs<3.8.0,>=3.7.0->hsfs[python]<3.8.0,>=3.7.0->hopsworks) (2024.1)\n",
      "Requirement already satisfied: greenlet!=0.4.17 in c:\\truck_delay_classification\\.venv\\lib\\site-packages (from sqlalchemy<=1.4.48->hsfs<3.8.0,>=3.7.0->hsfs[python]<3.8.0,>=3.7.0->hopsworks) (3.1.0)\n",
      "Requirement already satisfied: future in c:\\truck_delay_classification\\.venv\\lib\\site-packages (from pyhopshive[thrift]; extra == \"python\"->hsfs[python]<3.8.0,>=3.7.0->hopsworks) (1.0.0)\n",
      "Requirement already satisfied: thrift>=0.10.0 in c:\\truck_delay_classification\\.venv\\lib\\site-packages (from pyhopshive[thrift]; extra == \"python\"->hsfs[python]<3.8.0,>=3.7.0->hopsworks) (0.20.0)\n",
      "Requirement already satisfied: entrypoints in c:\\truck_delay_classification\\.venv\\lib\\site-packages (from altair<5.0.0,>=4.2.1->great-expectations==0.18.12->hsfs<3.8.0,>=3.7.0->hsfs[python]<3.8.0,>=3.7.0->hopsworks) (0.4)\n",
      "Requirement already satisfied: toolz in c:\\truck_delay_classification\\.venv\\lib\\site-packages (from altair<5.0.0,>=4.2.1->great-expectations==0.18.12->hsfs<3.8.0,>=3.7.0->hsfs[python]<3.8.0,>=3.7.0->hopsworks) (0.12.1)\n",
      "Requirement already satisfied: cffi>=1.12 in c:\\truck_delay_classification\\.venv\\lib\\site-packages (from cryptography>=3.2->great-expectations==0.18.12->hsfs<3.8.0,>=3.7.0->hsfs[python]<3.8.0,>=3.7.0->hopsworks) (1.17.1)\n",
      "Requirement already satisfied: decorator in c:\\truck_delay_classification\\.venv\\lib\\site-packages (from Ipython>=7.16.3->great-expectations==0.18.12->hsfs<3.8.0,>=3.7.0->hsfs[python]<3.8.0,>=3.7.0->hopsworks) (5.1.1)\n",
      "Requirement already satisfied: jedi>=0.16 in c:\\truck_delay_classification\\.venv\\lib\\site-packages (from Ipython>=7.16.3->great-expectations==0.18.12->hsfs<3.8.0,>=3.7.0->hsfs[python]<3.8.0,>=3.7.0->hopsworks) (0.19.1)\n",
      "Requirement already satisfied: matplotlib-inline in c:\\truck_delay_classification\\.venv\\lib\\site-packages (from Ipython>=7.16.3->great-expectations==0.18.12->hsfs<3.8.0,>=3.7.0->hsfs[python]<3.8.0,>=3.7.0->hopsworks) (0.1.7)\n",
      "Requirement already satisfied: prompt-toolkit<3.1.0,>=3.0.41 in c:\\truck_delay_classification\\.venv\\lib\\site-packages (from Ipython>=7.16.3->great-expectations==0.18.12->hsfs<3.8.0,>=3.7.0->hsfs[python]<3.8.0,>=3.7.0->hopsworks) (3.0.47)\n",
      "Requirement already satisfied: pygments>=2.4.0 in c:\\truck_delay_classification\\.venv\\lib\\site-packages (from Ipython>=7.16.3->great-expectations==0.18.12->hsfs<3.8.0,>=3.7.0->hsfs[python]<3.8.0,>=3.7.0->hopsworks) (2.18.0)\n",
      "Requirement already satisfied: stack-data in c:\\truck_delay_classification\\.venv\\lib\\site-packages (from Ipython>=7.16.3->great-expectations==0.18.12->hsfs<3.8.0,>=3.7.0->hsfs[python]<3.8.0,>=3.7.0->hopsworks) (0.6.3)\n",
      "Requirement already satisfied: traitlets>=5.13.0 in c:\\truck_delay_classification\\.venv\\lib\\site-packages (from Ipython>=7.16.3->great-expectations==0.18.12->hsfs<3.8.0,>=3.7.0->hsfs[python]<3.8.0,>=3.7.0->hopsworks) (5.14.3)\n",
      "Requirement already satisfied: comm>=0.1.3 in c:\\truck_delay_classification\\.venv\\lib\\site-packages (from ipywidgets>=7.5.1->great-expectations==0.18.12->hsfs<3.8.0,>=3.7.0->hsfs[python]<3.8.0,>=3.7.0->hopsworks) (0.2.2)\n",
      "Requirement already satisfied: widgetsnbextension~=4.0.12 in c:\\truck_delay_classification\\.venv\\lib\\site-packages (from ipywidgets>=7.5.1->great-expectations==0.18.12->hsfs<3.8.0,>=3.7.0->hsfs[python]<3.8.0,>=3.7.0->hopsworks) (4.0.13)\n",
      "Requirement already satisfied: jupyterlab-widgets~=3.0.12 in c:\\truck_delay_classification\\.venv\\lib\\site-packages (from ipywidgets>=7.5.1->great-expectations==0.18.12->hsfs<3.8.0,>=3.7.0->hsfs[python]<3.8.0,>=3.7.0->hopsworks) (3.0.13)\n",
      "Requirement already satisfied: MarkupSafe>=2.0 in c:\\truck_delay_classification\\.venv\\lib\\site-packages (from jinja2>=2.10->great-expectations==0.18.12->hsfs<3.8.0,>=3.7.0->hsfs[python]<3.8.0,>=3.7.0->hopsworks) (2.1.5)\n",
      "Requirement already satisfied: jsonpointer>=1.9 in c:\\truck_delay_classification\\.venv\\lib\\site-packages (from jsonpatch>=1.22->great-expectations==0.18.12->hsfs<3.8.0,>=3.7.0->hsfs[python]<3.8.0,>=3.7.0->hopsworks) (3.0.0)\n",
      "Requirement already satisfied: attrs>=22.2.0 in c:\\truck_delay_classification\\.venv\\lib\\site-packages (from jsonschema>=2.5.1->great-expectations==0.18.12->hsfs<3.8.0,>=3.7.0->hsfs[python]<3.8.0,>=3.7.0->hopsworks) (24.2.0)\n",
      "Requirement already satisfied: jsonschema-specifications>=2023.03.6 in c:\\truck_delay_classification\\.venv\\lib\\site-packages (from jsonschema>=2.5.1->great-expectations==0.18.12->hsfs<3.8.0,>=3.7.0->hsfs[python]<3.8.0,>=3.7.0->hopsworks) (2023.12.1)\n",
      "Requirement already satisfied: referencing>=0.28.4 in c:\\truck_delay_classification\\.venv\\lib\\site-packages (from jsonschema>=2.5.1->great-expectations==0.18.12->hsfs<3.8.0,>=3.7.0->hsfs[python]<3.8.0,>=3.7.0->hopsworks) (0.35.1)\n",
      "Requirement already satisfied: rpds-py>=0.7.1 in c:\\truck_delay_classification\\.venv\\lib\\site-packages (from jsonschema>=2.5.1->great-expectations==0.18.12->hsfs<3.8.0,>=3.7.0->hsfs[python]<3.8.0,>=3.7.0->hopsworks) (0.20.0)\n",
      "Requirement already satisfied: fastjsonschema>=2.15 in c:\\truck_delay_classification\\.venv\\lib\\site-packages (from nbformat>=5.0->great-expectations==0.18.12->hsfs<3.8.0,>=3.7.0->hsfs[python]<3.8.0,>=3.7.0->hopsworks) (2.20.0)\n",
      "Requirement already satisfied: jupyter-core!=5.0.*,>=4.12 in c:\\truck_delay_classification\\.venv\\lib\\site-packages (from nbformat>=5.0->great-expectations==0.18.12->hsfs<3.8.0,>=3.7.0->hsfs[python]<3.8.0,>=3.7.0->hopsworks) (5.7.2)\n",
      "Requirement already satisfied: jupyter-server<3,>=2.4.0 in c:\\truck_delay_classification\\.venv\\lib\\site-packages (from notebook>=6.4.10->great-expectations==0.18.12->hsfs<3.8.0,>=3.7.0->hsfs[python]<3.8.0,>=3.7.0->hopsworks) (2.14.2)\n",
      "Requirement already satisfied: jupyterlab-server<3,>=2.27.1 in c:\\truck_delay_classification\\.venv\\lib\\site-packages (from notebook>=6.4.10->great-expectations==0.18.12->hsfs<3.8.0,>=3.7.0->hsfs[python]<3.8.0,>=3.7.0->hopsworks) (2.27.3)\n",
      "Requirement already satisfied: jupyterlab<4.3,>=4.2.0 in c:\\truck_delay_classification\\.venv\\lib\\site-packages (from notebook>=6.4.10->great-expectations==0.18.12->hsfs<3.8.0,>=3.7.0->hsfs[python]<3.8.0,>=3.7.0->hopsworks) (4.2.5)\n",
      "Requirement already satisfied: notebook-shim<0.3,>=0.2 in c:\\truck_delay_classification\\.venv\\lib\\site-packages (from notebook>=6.4.10->great-expectations==0.18.12->hsfs<3.8.0,>=3.7.0->hsfs[python]<3.8.0,>=3.7.0->hopsworks) (0.2.4)\n",
      "Requirement already satisfied: tornado>=6.2.0 in c:\\truck_delay_classification\\.venv\\lib\\site-packages (from notebook>=6.4.10->great-expectations==0.18.12->hsfs<3.8.0,>=3.7.0->hsfs[python]<3.8.0,>=3.7.0->hopsworks) (6.4.1)\n",
      "Requirement already satisfied: annotated-types>=0.6.0 in c:\\truck_delay_classification\\.venv\\lib\\site-packages (from pydantic>=1.9.2->great-expectations==0.18.12->hsfs<3.8.0,>=3.7.0->hsfs[python]<3.8.0,>=3.7.0->hopsworks) (0.7.0)\n",
      "Requirement already satisfied: pydantic-core==2.23.4 in c:\\truck_delay_classification\\.venv\\lib\\site-packages (from pydantic>=1.9.2->great-expectations==0.18.12->hsfs<3.8.0,>=3.7.0->hsfs[python]<3.8.0,>=3.7.0->hopsworks) (2.23.4)\n",
      "Requirement already satisfied: pycparser in c:\\truck_delay_classification\\.venv\\lib\\site-packages (from cffi>=1.12->cryptography>=3.2->great-expectations==0.18.12->hsfs<3.8.0,>=3.7.0->hsfs[python]<3.8.0,>=3.7.0->hopsworks) (2.22)\n",
      "Requirement already satisfied: parso<0.9.0,>=0.8.3 in c:\\truck_delay_classification\\.venv\\lib\\site-packages (from jedi>=0.16->Ipython>=7.16.3->great-expectations==0.18.12->hsfs<3.8.0,>=3.7.0->hsfs[python]<3.8.0,>=3.7.0->hopsworks) (0.8.4)\n",
      "Requirement already satisfied: platformdirs>=2.5 in c:\\truck_delay_classification\\.venv\\lib\\site-packages (from jupyter-core!=5.0.*,>=4.12->nbformat>=5.0->great-expectations==0.18.12->hsfs<3.8.0,>=3.7.0->hsfs[python]<3.8.0,>=3.7.0->hopsworks) (4.3.6)\n",
      "Requirement already satisfied: pywin32>=300 in c:\\truck_delay_classification\\.venv\\lib\\site-packages (from jupyter-core!=5.0.*,>=4.12->nbformat>=5.0->great-expectations==0.18.12->hsfs<3.8.0,>=3.7.0->hsfs[python]<3.8.0,>=3.7.0->hopsworks) (306)\n",
      "Requirement already satisfied: anyio>=3.1.0 in c:\\truck_delay_classification\\.venv\\lib\\site-packages (from jupyter-server<3,>=2.4.0->notebook>=6.4.10->great-expectations==0.18.12->hsfs<3.8.0,>=3.7.0->hsfs[python]<3.8.0,>=3.7.0->hopsworks) (4.5.0)\n",
      "Requirement already satisfied: argon2-cffi>=21.1 in c:\\truck_delay_classification\\.venv\\lib\\site-packages (from jupyter-server<3,>=2.4.0->notebook>=6.4.10->great-expectations==0.18.12->hsfs<3.8.0,>=3.7.0->hsfs[python]<3.8.0,>=3.7.0->hopsworks) (23.1.0)\n",
      "Requirement already satisfied: jupyter-client>=7.4.4 in c:\\truck_delay_classification\\.venv\\lib\\site-packages (from jupyter-server<3,>=2.4.0->notebook>=6.4.10->great-expectations==0.18.12->hsfs<3.8.0,>=3.7.0->hsfs[python]<3.8.0,>=3.7.0->hopsworks) (8.6.3)\n",
      "Requirement already satisfied: jupyter-events>=0.9.0 in c:\\truck_delay_classification\\.venv\\lib\\site-packages (from jupyter-server<3,>=2.4.0->notebook>=6.4.10->great-expectations==0.18.12->hsfs<3.8.0,>=3.7.0->hsfs[python]<3.8.0,>=3.7.0->hopsworks) (0.10.0)\n",
      "Requirement already satisfied: jupyter-server-terminals>=0.4.4 in c:\\truck_delay_classification\\.venv\\lib\\site-packages (from jupyter-server<3,>=2.4.0->notebook>=6.4.10->great-expectations==0.18.12->hsfs<3.8.0,>=3.7.0->hsfs[python]<3.8.0,>=3.7.0->hopsworks) (0.5.3)\n",
      "Requirement already satisfied: nbconvert>=6.4.4 in c:\\truck_delay_classification\\.venv\\lib\\site-packages (from jupyter-server<3,>=2.4.0->notebook>=6.4.10->great-expectations==0.18.12->hsfs<3.8.0,>=3.7.0->hsfs[python]<3.8.0,>=3.7.0->hopsworks) (7.16.4)\n",
      "Requirement already satisfied: overrides>=5.0 in c:\\truck_delay_classification\\.venv\\lib\\site-packages (from jupyter-server<3,>=2.4.0->notebook>=6.4.10->great-expectations==0.18.12->hsfs<3.8.0,>=3.7.0->hsfs[python]<3.8.0,>=3.7.0->hopsworks) (7.7.0)\n",
      "Requirement already satisfied: prometheus-client>=0.9 in c:\\truck_delay_classification\\.venv\\lib\\site-packages (from jupyter-server<3,>=2.4.0->notebook>=6.4.10->great-expectations==0.18.12->hsfs<3.8.0,>=3.7.0->hsfs[python]<3.8.0,>=3.7.0->hopsworks) (0.20.0)\n",
      "Requirement already satisfied: pywinpty>=2.0.1 in c:\\truck_delay_classification\\.venv\\lib\\site-packages (from jupyter-server<3,>=2.4.0->notebook>=6.4.10->great-expectations==0.18.12->hsfs<3.8.0,>=3.7.0->hsfs[python]<3.8.0,>=3.7.0->hopsworks) (2.0.13)\n",
      "Requirement already satisfied: pyzmq>=24 in c:\\truck_delay_classification\\.venv\\lib\\site-packages (from jupyter-server<3,>=2.4.0->notebook>=6.4.10->great-expectations==0.18.12->hsfs<3.8.0,>=3.7.0->hsfs[python]<3.8.0,>=3.7.0->hopsworks) (26.2.0)\n",
      "Requirement already satisfied: send2trash>=1.8.2 in c:\\truck_delay_classification\\.venv\\lib\\site-packages (from jupyter-server<3,>=2.4.0->notebook>=6.4.10->great-expectations==0.18.12->hsfs<3.8.0,>=3.7.0->hsfs[python]<3.8.0,>=3.7.0->hopsworks) (1.8.3)\n",
      "Requirement already satisfied: terminado>=0.8.3 in c:\\truck_delay_classification\\.venv\\lib\\site-packages (from jupyter-server<3,>=2.4.0->notebook>=6.4.10->great-expectations==0.18.12->hsfs<3.8.0,>=3.7.0->hsfs[python]<3.8.0,>=3.7.0->hopsworks) (0.18.1)\n",
      "Requirement already satisfied: websocket-client>=1.7 in c:\\truck_delay_classification\\.venv\\lib\\site-packages (from jupyter-server<3,>=2.4.0->notebook>=6.4.10->great-expectations==0.18.12->hsfs<3.8.0,>=3.7.0->hsfs[python]<3.8.0,>=3.7.0->hopsworks) (1.8.0)\n",
      "Requirement already satisfied: async-lru>=1.0.0 in c:\\truck_delay_classification\\.venv\\lib\\site-packages (from jupyterlab<4.3,>=4.2.0->notebook>=6.4.10->great-expectations==0.18.12->hsfs<3.8.0,>=3.7.0->hsfs[python]<3.8.0,>=3.7.0->hopsworks) (2.0.4)\n",
      "Requirement already satisfied: httpx>=0.25.0 in c:\\truck_delay_classification\\.venv\\lib\\site-packages (from jupyterlab<4.3,>=4.2.0->notebook>=6.4.10->great-expectations==0.18.12->hsfs<3.8.0,>=3.7.0->hsfs[python]<3.8.0,>=3.7.0->hopsworks) (0.27.2)\n",
      "Requirement already satisfied: ipykernel>=6.5.0 in c:\\truck_delay_classification\\.venv\\lib\\site-packages (from jupyterlab<4.3,>=4.2.0->notebook>=6.4.10->great-expectations==0.18.12->hsfs<3.8.0,>=3.7.0->hsfs[python]<3.8.0,>=3.7.0->hopsworks) (6.29.5)\n",
      "Requirement already satisfied: jupyter-lsp>=2.0.0 in c:\\truck_delay_classification\\.venv\\lib\\site-packages (from jupyterlab<4.3,>=4.2.0->notebook>=6.4.10->great-expectations==0.18.12->hsfs<3.8.0,>=3.7.0->hsfs[python]<3.8.0,>=3.7.0->hopsworks) (2.2.5)\n",
      "Requirement already satisfied: setuptools>=40.1.0 in c:\\truck_delay_classification\\.venv\\lib\\site-packages (from jupyterlab<4.3,>=4.2.0->notebook>=6.4.10->great-expectations==0.18.12->hsfs<3.8.0,>=3.7.0->hsfs[python]<3.8.0,>=3.7.0->hopsworks) (75.1.0)\n",
      "Requirement already satisfied: babel>=2.10 in c:\\truck_delay_classification\\.venv\\lib\\site-packages (from jupyterlab-server<3,>=2.27.1->notebook>=6.4.10->great-expectations==0.18.12->hsfs<3.8.0,>=3.7.0->hsfs[python]<3.8.0,>=3.7.0->hopsworks) (2.16.0)\n",
      "Requirement already satisfied: json5>=0.9.0 in c:\\truck_delay_classification\\.venv\\lib\\site-packages (from jupyterlab-server<3,>=2.27.1->notebook>=6.4.10->great-expectations==0.18.12->hsfs<3.8.0,>=3.7.0->hsfs[python]<3.8.0,>=3.7.0->hopsworks) (0.9.25)\n",
      "Requirement already satisfied: wcwidth in c:\\truck_delay_classification\\.venv\\lib\\site-packages (from prompt-toolkit<3.1.0,>=3.0.41->Ipython>=7.16.3->great-expectations==0.18.12->hsfs<3.8.0,>=3.7.0->hsfs[python]<3.8.0,>=3.7.0->hopsworks) (0.2.13)\n",
      "Requirement already satisfied: executing>=1.2.0 in c:\\truck_delay_classification\\.venv\\lib\\site-packages (from stack-data->Ipython>=7.16.3->great-expectations==0.18.12->hsfs<3.8.0,>=3.7.0->hsfs[python]<3.8.0,>=3.7.0->hopsworks) (2.1.0)\n",
      "Requirement already satisfied: asttokens>=2.1.0 in c:\\truck_delay_classification\\.venv\\lib\\site-packages (from stack-data->Ipython>=7.16.3->great-expectations==0.18.12->hsfs<3.8.0,>=3.7.0->hsfs[python]<3.8.0,>=3.7.0->hopsworks) (2.4.1)\n",
      "Requirement already satisfied: pure-eval in c:\\truck_delay_classification\\.venv\\lib\\site-packages (from stack-data->Ipython>=7.16.3->great-expectations==0.18.12->hsfs<3.8.0,>=3.7.0->hsfs[python]<3.8.0,>=3.7.0->hopsworks) (0.2.3)\n",
      "Requirement already satisfied: sniffio>=1.1 in c:\\truck_delay_classification\\.venv\\lib\\site-packages (from anyio>=3.1.0->jupyter-server<3,>=2.4.0->notebook>=6.4.10->great-expectations==0.18.12->hsfs<3.8.0,>=3.7.0->hsfs[python]<3.8.0,>=3.7.0->hopsworks) (1.3.1)\n",
      "Requirement already satisfied: argon2-cffi-bindings in c:\\truck_delay_classification\\.venv\\lib\\site-packages (from argon2-cffi>=21.1->jupyter-server<3,>=2.4.0->notebook>=6.4.10->great-expectations==0.18.12->hsfs<3.8.0,>=3.7.0->hsfs[python]<3.8.0,>=3.7.0->hopsworks) (21.2.0)\n",
      "Requirement already satisfied: httpcore==1.* in c:\\truck_delay_classification\\.venv\\lib\\site-packages (from httpx>=0.25.0->jupyterlab<4.3,>=4.2.0->notebook>=6.4.10->great-expectations==0.18.12->hsfs<3.8.0,>=3.7.0->hsfs[python]<3.8.0,>=3.7.0->hopsworks) (1.0.5)\n",
      "Requirement already satisfied: h11<0.15,>=0.13 in c:\\truck_delay_classification\\.venv\\lib\\site-packages (from httpcore==1.*->httpx>=0.25.0->jupyterlab<4.3,>=4.2.0->notebook>=6.4.10->great-expectations==0.18.12->hsfs<3.8.0,>=3.7.0->hsfs[python]<3.8.0,>=3.7.0->hopsworks) (0.14.0)\n",
      "Requirement already satisfied: debugpy>=1.6.5 in c:\\truck_delay_classification\\.venv\\lib\\site-packages (from ipykernel>=6.5.0->jupyterlab<4.3,>=4.2.0->notebook>=6.4.10->great-expectations==0.18.12->hsfs<3.8.0,>=3.7.0->hsfs[python]<3.8.0,>=3.7.0->hopsworks) (1.8.5)\n",
      "Requirement already satisfied: nest-asyncio in c:\\truck_delay_classification\\.venv\\lib\\site-packages (from ipykernel>=6.5.0->jupyterlab<4.3,>=4.2.0->notebook>=6.4.10->great-expectations==0.18.12->hsfs<3.8.0,>=3.7.0->hsfs[python]<3.8.0,>=3.7.0->hopsworks) (1.6.0)\n",
      "Requirement already satisfied: psutil in c:\\truck_delay_classification\\.venv\\lib\\site-packages (from ipykernel>=6.5.0->jupyterlab<4.3,>=4.2.0->notebook>=6.4.10->great-expectations==0.18.12->hsfs<3.8.0,>=3.7.0->hsfs[python]<3.8.0,>=3.7.0->hopsworks) (6.0.0)\n",
      "Requirement already satisfied: python-json-logger>=2.0.4 in c:\\truck_delay_classification\\.venv\\lib\\site-packages (from jupyter-events>=0.9.0->jupyter-server<3,>=2.4.0->notebook>=6.4.10->great-expectations==0.18.12->hsfs<3.8.0,>=3.7.0->hsfs[python]<3.8.0,>=3.7.0->hopsworks) (2.0.7)\n",
      "Requirement already satisfied: pyyaml>=5.3 in c:\\truck_delay_classification\\.venv\\lib\\site-packages (from jupyter-events>=0.9.0->jupyter-server<3,>=2.4.0->notebook>=6.4.10->great-expectations==0.18.12->hsfs<3.8.0,>=3.7.0->hsfs[python]<3.8.0,>=3.7.0->hopsworks) (6.0.2)\n",
      "Requirement already satisfied: rfc3339-validator in c:\\truck_delay_classification\\.venv\\lib\\site-packages (from jupyter-events>=0.9.0->jupyter-server<3,>=2.4.0->notebook>=6.4.10->great-expectations==0.18.12->hsfs<3.8.0,>=3.7.0->hsfs[python]<3.8.0,>=3.7.0->hopsworks) (0.1.4)\n",
      "Requirement already satisfied: rfc3986-validator>=0.1.1 in c:\\truck_delay_classification\\.venv\\lib\\site-packages (from jupyter-events>=0.9.0->jupyter-server<3,>=2.4.0->notebook>=6.4.10->great-expectations==0.18.12->hsfs<3.8.0,>=3.7.0->hsfs[python]<3.8.0,>=3.7.0->hopsworks) (0.1.1)\n",
      "Requirement already satisfied: beautifulsoup4 in c:\\truck_delay_classification\\.venv\\lib\\site-packages (from nbconvert>=6.4.4->jupyter-server<3,>=2.4.0->notebook>=6.4.10->great-expectations==0.18.12->hsfs<3.8.0,>=3.7.0->hsfs[python]<3.8.0,>=3.7.0->hopsworks) (4.12.3)\n",
      "Requirement already satisfied: bleach!=5.0.0 in c:\\truck_delay_classification\\.venv\\lib\\site-packages (from nbconvert>=6.4.4->jupyter-server<3,>=2.4.0->notebook>=6.4.10->great-expectations==0.18.12->hsfs<3.8.0,>=3.7.0->hsfs[python]<3.8.0,>=3.7.0->hopsworks) (6.1.0)\n",
      "Requirement already satisfied: defusedxml in c:\\truck_delay_classification\\.venv\\lib\\site-packages (from nbconvert>=6.4.4->jupyter-server<3,>=2.4.0->notebook>=6.4.10->great-expectations==0.18.12->hsfs<3.8.0,>=3.7.0->hsfs[python]<3.8.0,>=3.7.0->hopsworks) (0.7.1)\n",
      "Requirement already satisfied: jupyterlab-pygments in c:\\truck_delay_classification\\.venv\\lib\\site-packages (from nbconvert>=6.4.4->jupyter-server<3,>=2.4.0->notebook>=6.4.10->great-expectations==0.18.12->hsfs<3.8.0,>=3.7.0->hsfs[python]<3.8.0,>=3.7.0->hopsworks) (0.3.0)\n",
      "Requirement already satisfied: nbclient>=0.5.0 in c:\\truck_delay_classification\\.venv\\lib\\site-packages (from nbconvert>=6.4.4->jupyter-server<3,>=2.4.0->notebook>=6.4.10->great-expectations==0.18.12->hsfs<3.8.0,>=3.7.0->hsfs[python]<3.8.0,>=3.7.0->hopsworks) (0.10.0)\n",
      "Requirement already satisfied: pandocfilters>=1.4.1 in c:\\truck_delay_classification\\.venv\\lib\\site-packages (from nbconvert>=6.4.4->jupyter-server<3,>=2.4.0->notebook>=6.4.10->great-expectations==0.18.12->hsfs<3.8.0,>=3.7.0->hsfs[python]<3.8.0,>=3.7.0->hopsworks) (1.5.1)\n",
      "Requirement already satisfied: tinycss2 in c:\\truck_delay_classification\\.venv\\lib\\site-packages (from nbconvert>=6.4.4->jupyter-server<3,>=2.4.0->notebook>=6.4.10->great-expectations==0.18.12->hsfs<3.8.0,>=3.7.0->hsfs[python]<3.8.0,>=3.7.0->hopsworks) (1.3.0)\n",
      "Requirement already satisfied: webencodings in c:\\truck_delay_classification\\.venv\\lib\\site-packages (from bleach!=5.0.0->nbconvert>=6.4.4->jupyter-server<3,>=2.4.0->notebook>=6.4.10->great-expectations==0.18.12->hsfs<3.8.0,>=3.7.0->hsfs[python]<3.8.0,>=3.7.0->hopsworks) (0.5.1)\n",
      "Requirement already satisfied: fqdn in c:\\truck_delay_classification\\.venv\\lib\\site-packages (from jsonschema[format-nongpl]>=4.18.0->jupyter-events>=0.9.0->jupyter-server<3,>=2.4.0->notebook>=6.4.10->great-expectations==0.18.12->hsfs<3.8.0,>=3.7.0->hsfs[python]<3.8.0,>=3.7.0->hopsworks) (1.5.1)\n",
      "Requirement already satisfied: isoduration in c:\\truck_delay_classification\\.venv\\lib\\site-packages (from jsonschema[format-nongpl]>=4.18.0->jupyter-events>=0.9.0->jupyter-server<3,>=2.4.0->notebook>=6.4.10->great-expectations==0.18.12->hsfs<3.8.0,>=3.7.0->hsfs[python]<3.8.0,>=3.7.0->hopsworks) (20.11.0)\n",
      "Requirement already satisfied: uri-template in c:\\truck_delay_classification\\.venv\\lib\\site-packages (from jsonschema[format-nongpl]>=4.18.0->jupyter-events>=0.9.0->jupyter-server<3,>=2.4.0->notebook>=6.4.10->great-expectations==0.18.12->hsfs<3.8.0,>=3.7.0->hsfs[python]<3.8.0,>=3.7.0->hopsworks) (1.3.0)\n",
      "Requirement already satisfied: webcolors>=24.6.0 in c:\\truck_delay_classification\\.venv\\lib\\site-packages (from jsonschema[format-nongpl]>=4.18.0->jupyter-events>=0.9.0->jupyter-server<3,>=2.4.0->notebook>=6.4.10->great-expectations==0.18.12->hsfs<3.8.0,>=3.7.0->hsfs[python]<3.8.0,>=3.7.0->hopsworks) (24.8.0)\n",
      "Requirement already satisfied: soupsieve>1.2 in c:\\truck_delay_classification\\.venv\\lib\\site-packages (from beautifulsoup4->nbconvert>=6.4.4->jupyter-server<3,>=2.4.0->notebook>=6.4.10->great-expectations==0.18.12->hsfs<3.8.0,>=3.7.0->hsfs[python]<3.8.0,>=3.7.0->hopsworks) (2.6)\n",
      "Requirement already satisfied: arrow>=0.15.0 in c:\\truck_delay_classification\\.venv\\lib\\site-packages (from isoduration->jsonschema[format-nongpl]>=4.18.0->jupyter-events>=0.9.0->jupyter-server<3,>=2.4.0->notebook>=6.4.10->great-expectations==0.18.12->hsfs<3.8.0,>=3.7.0->hsfs[python]<3.8.0,>=3.7.0->hopsworks) (1.3.0)\n",
      "Requirement already satisfied: types-python-dateutil>=2.8.10 in c:\\truck_delay_classification\\.venv\\lib\\site-packages (from arrow>=0.15.0->isoduration->jsonschema[format-nongpl]>=4.18.0->jupyter-events>=0.9.0->jupyter-server<3,>=2.4.0->notebook>=6.4.10->great-expectations==0.18.12->hsfs<3.8.0,>=3.7.0->hsfs[python]<3.8.0,>=3.7.0->hopsworks) (2.9.0.20240906)\n"
     ]
    }
   ],
   "source": [
    "!pip install hopsworks\n"
   ]
  },
  {
   "cell_type": "code",
   "execution_count": 76,
   "metadata": {},
   "outputs": [
    {
     "name": "stdout",
     "output_type": "stream",
     "text": [
      "Connection closed.\n",
      "Connected. Call `.close()` to terminate connection gracefully.\n",
      "\n",
      "Logged in to project, explore it here https://c.app.hopsworks.ai:443/p/1043610\n",
      "Connected. Call `.close()` to terminate connection gracefully.\n"
     ]
    }
   ],
   "source": [
    "import hopsworks\n",
    "\n",
    "project = hopsworks.login()\n",
    "\n",
    "fs = project.get_feature_store()"
   ]
  },
  {
   "cell_type": "code",
   "execution_count": 77,
   "metadata": {},
   "outputs": [],
   "source": [
    "drivers_table_fg = fs.get_or_create_feature_group(\n",
    "    name=\"drivers_table\",\n",
    "    version=1,\n",
    "    description=\"drivers_table\",\n",
    "    online_enabled=True,\n",
    "    primary_key=['RowIndex'],\n",
    "    event_time='event_time',\n",
    "    \n",
    ")"
   ]
  },
  {
   "cell_type": "code",
   "execution_count": 78,
   "metadata": {},
   "outputs": [
    {
     "name": "stdout",
     "output_type": "stream",
     "text": [
      "2024-09-27 14:36:45,100 WARNING: FeatureGroupWarning: The ingested dataframe contains upper case letters in feature names: `['RowIndex']`. Feature names are sanitized to lower case in the feature store.\n",
      "\n",
      "Feature Group created successfully, explore it at \n",
      "https://c.app.hopsworks.ai:443/p/1043610/fs/1035337/fg/1225052\n"
     ]
    },
    {
     "data": {
      "application/vnd.jupyter.widget-view+json": {
       "model_id": "adf92ce146be4199848edf96dac90330",
       "version_major": 2,
       "version_minor": 0
      },
      "text/plain": [
       "Uploading Dataframe: 0.00% |          | Rows 0/1099 | Elapsed Time: 00:00 | Remaining Time: ?"
      ]
     },
     "metadata": {},
     "output_type": "display_data"
    },
    {
     "name": "stdout",
     "output_type": "stream",
     "text": [
      "Launching job: drivers_table_1_offline_fg_materialization\n",
      "Job started successfully, you can follow the progress at \n",
      "https://c.app.hopsworks.ai/p/1043610/jobs/named/drivers_table_1_offline_fg_materialization/executions\n"
     ]
    },
    {
     "data": {
      "text/plain": [
       "(<hsfs.core.job.Job at 0x1e18d8079b0>, None)"
      ]
     },
     "execution_count": 78,
     "metadata": {},
     "output_type": "execute_result"
    }
   ],
   "source": [
    "drivers_table_fg.insert(df2)"
   ]
  },
  {
   "cell_type": "code",
   "execution_count": 79,
   "metadata": {},
   "outputs": [],
   "source": [
    "# df2.to_csv('df2.csv', index=False)"
   ]
  },
  {
   "cell_type": "code",
   "execution_count": 80,
   "metadata": {},
   "outputs": [
    {
     "name": "stdout",
     "output_type": "stream",
     "text": [
      "Requirement already satisfied: hopsworks in c:\\truck_delay_classification\\.venv\\lib\\site-packages (3.7.0)\n",
      "Requirement already satisfied: hsfs<3.8.0,>=3.7.0 in c:\\truck_delay_classification\\.venv\\lib\\site-packages (from hsfs[python]<3.8.0,>=3.7.0->hopsworks) (3.7.7)\n",
      "Requirement already satisfied: hsml<3.8.0,>=3.7.0 in c:\\truck_delay_classification\\.venv\\lib\\site-packages (from hopsworks) (3.7.1)\n",
      "Requirement already satisfied: pyhumps==1.6.1 in c:\\truck_delay_classification\\.venv\\lib\\site-packages (from hopsworks) (1.6.1)\n",
      "Requirement already satisfied: requests in c:\\truck_delay_classification\\.venv\\lib\\site-packages (from hopsworks) (2.32.3)\n",
      "Requirement already satisfied: furl in c:\\truck_delay_classification\\.venv\\lib\\site-packages (from hopsworks) (2.1.3)\n",
      "Requirement already satisfied: boto3 in c:\\truck_delay_classification\\.venv\\lib\\site-packages (from hopsworks) (1.35.22)\n",
      "Requirement already satisfied: pyjks in c:\\truck_delay_classification\\.venv\\lib\\site-packages (from hopsworks) (20.0.0)\n",
      "Requirement already satisfied: mock in c:\\truck_delay_classification\\.venv\\lib\\site-packages (from hopsworks) (5.1.0)\n",
      "Requirement already satisfied: tqdm in c:\\truck_delay_classification\\.venv\\lib\\site-packages (from hopsworks) (4.66.5)\n",
      "Requirement already satisfied: pandas<2.2.0 in c:\\truck_delay_classification\\.venv\\lib\\site-packages (from hsfs<3.8.0,>=3.7.0->hsfs[python]<3.8.0,>=3.7.0->hopsworks) (2.1.4)\n",
      "Requirement already satisfied: numpy<2 in c:\\truck_delay_classification\\.venv\\lib\\site-packages (from hsfs<3.8.0,>=3.7.0->hsfs[python]<3.8.0,>=3.7.0->hopsworks) (1.26.4)\n",
      "Requirement already satisfied: avro==1.11.3 in c:\\truck_delay_classification\\.venv\\lib\\site-packages (from hsfs<3.8.0,>=3.7.0->hsfs[python]<3.8.0,>=3.7.0->hopsworks) (1.11.3)\n",
      "Requirement already satisfied: sqlalchemy<=1.4.48 in c:\\truck_delay_classification\\.venv\\lib\\site-packages (from hsfs<3.8.0,>=3.7.0->hsfs[python]<3.8.0,>=3.7.0->hopsworks) (1.4.48)\n",
      "Requirement already satisfied: PyMySQL[rsa] in c:\\truck_delay_classification\\.venv\\lib\\site-packages (from hsfs<3.8.0,>=3.7.0->hsfs[python]<3.8.0,>=3.7.0->hopsworks) (1.1.1)\n",
      "Requirement already satisfied: great-expectations==0.18.12 in c:\\truck_delay_classification\\.venv\\lib\\site-packages (from hsfs<3.8.0,>=3.7.0->hsfs[python]<3.8.0,>=3.7.0->hopsworks) (0.18.12)\n",
      "Requirement already satisfied: tzlocal in c:\\truck_delay_classification\\.venv\\lib\\site-packages (from hsfs<3.8.0,>=3.7.0->hsfs[python]<3.8.0,>=3.7.0->hopsworks) (5.2)\n",
      "Requirement already satisfied: fsspec in c:\\truck_delay_classification\\.venv\\lib\\site-packages (from hsfs<3.8.0,>=3.7.0->hsfs[python]<3.8.0,>=3.7.0->hopsworks) (2024.9.0)\n",
      "Requirement already satisfied: retrying in c:\\truck_delay_classification\\.venv\\lib\\site-packages (from hsfs<3.8.0,>=3.7.0->hsfs[python]<3.8.0,>=3.7.0->hopsworks) (1.3.4)\n",
      "Requirement already satisfied: aiomysql in c:\\truck_delay_classification\\.venv\\lib\\site-packages (from hsfs<3.8.0,>=3.7.0->hsfs[python]<3.8.0,>=3.7.0->hopsworks) (0.2.0)\n",
      "Requirement already satisfied: opensearch-py<=2.4.2,>=1.1.0 in c:\\truck_delay_classification\\.venv\\lib\\site-packages (from hsfs<3.8.0,>=3.7.0->hsfs[python]<3.8.0,>=3.7.0->hopsworks) (2.4.2)\n",
      "Requirement already satisfied: altair<5.0.0,>=4.2.1 in c:\\truck_delay_classification\\.venv\\lib\\site-packages (from great-expectations==0.18.12->hsfs<3.8.0,>=3.7.0->hsfs[python]<3.8.0,>=3.7.0->hopsworks) (4.2.2)\n",
      "Requirement already satisfied: Click>=7.1.2 in c:\\truck_delay_classification\\.venv\\lib\\site-packages (from great-expectations==0.18.12->hsfs<3.8.0,>=3.7.0->hsfs[python]<3.8.0,>=3.7.0->hopsworks) (8.1.7)\n",
      "Requirement already satisfied: colorama>=0.4.3 in c:\\truck_delay_classification\\.venv\\lib\\site-packages (from great-expectations==0.18.12->hsfs<3.8.0,>=3.7.0->hsfs[python]<3.8.0,>=3.7.0->hopsworks) (0.4.6)\n",
      "Requirement already satisfied: cryptography>=3.2 in c:\\truck_delay_classification\\.venv\\lib\\site-packages (from great-expectations==0.18.12->hsfs<3.8.0,>=3.7.0->hsfs[python]<3.8.0,>=3.7.0->hopsworks) (43.0.1)\n",
      "Requirement already satisfied: Ipython>=7.16.3 in c:\\truck_delay_classification\\.venv\\lib\\site-packages (from great-expectations==0.18.12->hsfs<3.8.0,>=3.7.0->hsfs[python]<3.8.0,>=3.7.0->hopsworks) (8.27.0)\n",
      "Requirement already satisfied: ipywidgets>=7.5.1 in c:\\truck_delay_classification\\.venv\\lib\\site-packages (from great-expectations==0.18.12->hsfs<3.8.0,>=3.7.0->hsfs[python]<3.8.0,>=3.7.0->hopsworks) (8.1.5)\n",
      "Requirement already satisfied: jinja2>=2.10 in c:\\truck_delay_classification\\.venv\\lib\\site-packages (from great-expectations==0.18.12->hsfs<3.8.0,>=3.7.0->hsfs[python]<3.8.0,>=3.7.0->hopsworks) (3.1.4)\n",
      "Requirement already satisfied: jsonpatch>=1.22 in c:\\truck_delay_classification\\.venv\\lib\\site-packages (from great-expectations==0.18.12->hsfs<3.8.0,>=3.7.0->hsfs[python]<3.8.0,>=3.7.0->hopsworks) (1.33)\n",
      "Requirement already satisfied: jsonschema>=2.5.1 in c:\\truck_delay_classification\\.venv\\lib\\site-packages (from great-expectations==0.18.12->hsfs<3.8.0,>=3.7.0->hsfs[python]<3.8.0,>=3.7.0->hopsworks) (4.23.0)\n",
      "Requirement already satisfied: makefun<2,>=1.7.0 in c:\\truck_delay_classification\\.venv\\lib\\site-packages (from great-expectations==0.18.12->hsfs<3.8.0,>=3.7.0->hsfs[python]<3.8.0,>=3.7.0->hopsworks) (1.15.4)\n",
      "Requirement already satisfied: marshmallow<4.0.0,>=3.7.1 in c:\\truck_delay_classification\\.venv\\lib\\site-packages (from great-expectations==0.18.12->hsfs<3.8.0,>=3.7.0->hsfs[python]<3.8.0,>=3.7.0->hopsworks) (3.22.0)\n",
      "Requirement already satisfied: mistune>=0.8.4 in c:\\truck_delay_classification\\.venv\\lib\\site-packages (from great-expectations==0.18.12->hsfs<3.8.0,>=3.7.0->hsfs[python]<3.8.0,>=3.7.0->hopsworks) (3.0.2)\n",
      "Requirement already satisfied: nbformat>=5.0 in c:\\truck_delay_classification\\.venv\\lib\\site-packages (from great-expectations==0.18.12->hsfs<3.8.0,>=3.7.0->hsfs[python]<3.8.0,>=3.7.0->hopsworks) (5.10.4)\n",
      "Requirement already satisfied: notebook>=6.4.10 in c:\\truck_delay_classification\\.venv\\lib\\site-packages (from great-expectations==0.18.12->hsfs<3.8.0,>=3.7.0->hsfs[python]<3.8.0,>=3.7.0->hopsworks) (7.2.2)\n",
      "Requirement already satisfied: packaging in c:\\truck_delay_classification\\.venv\\lib\\site-packages (from great-expectations==0.18.12->hsfs<3.8.0,>=3.7.0->hsfs[python]<3.8.0,>=3.7.0->hopsworks) (24.1)\n",
      "Requirement already satisfied: pydantic>=1.9.2 in c:\\truck_delay_classification\\.venv\\lib\\site-packages (from great-expectations==0.18.12->hsfs<3.8.0,>=3.7.0->hsfs[python]<3.8.0,>=3.7.0->hopsworks) (2.9.2)\n",
      "Requirement already satisfied: pyparsing>=2.4 in c:\\truck_delay_classification\\.venv\\lib\\site-packages (from great-expectations==0.18.12->hsfs<3.8.0,>=3.7.0->hsfs[python]<3.8.0,>=3.7.0->hopsworks) (3.1.4)\n",
      "Requirement already satisfied: python-dateutil>=2.8.1 in c:\\truck_delay_classification\\.venv\\lib\\site-packages (from great-expectations==0.18.12->hsfs<3.8.0,>=3.7.0->hsfs[python]<3.8.0,>=3.7.0->hopsworks) (2.9.0.post0)\n",
      "Requirement already satisfied: pytz>=2021.3 in c:\\truck_delay_classification\\.venv\\lib\\site-packages (from great-expectations==0.18.12->hsfs<3.8.0,>=3.7.0->hsfs[python]<3.8.0,>=3.7.0->hopsworks) (2024.2)\n",
      "Requirement already satisfied: ruamel.yaml<0.17.18,>=0.16 in c:\\truck_delay_classification\\.venv\\lib\\site-packages (from great-expectations==0.18.12->hsfs<3.8.0,>=3.7.0->hsfs[python]<3.8.0,>=3.7.0->hopsworks) (0.17.17)\n",
      "Requirement already satisfied: scipy>=1.6.0 in c:\\truck_delay_classification\\.venv\\lib\\site-packages (from great-expectations==0.18.12->hsfs<3.8.0,>=3.7.0->hsfs[python]<3.8.0,>=3.7.0->hopsworks) (1.14.1)\n",
      "Requirement already satisfied: typing-extensions>=3.10.0.0 in c:\\truck_delay_classification\\.venv\\lib\\site-packages (from great-expectations==0.18.12->hsfs<3.8.0,>=3.7.0->hsfs[python]<3.8.0,>=3.7.0->hopsworks) (4.12.2)\n",
      "Requirement already satisfied: urllib3>=1.26 in c:\\truck_delay_classification\\.venv\\lib\\site-packages (from great-expectations==0.18.12->hsfs<3.8.0,>=3.7.0->hsfs[python]<3.8.0,>=3.7.0->hopsworks) (2.2.3)\n",
      "Requirement already satisfied: pyhopshive[thrift] in c:\\truck_delay_classification\\.venv\\lib\\site-packages (from hsfs[python]<3.8.0,>=3.7.0->hopsworks) (0.6.4.1.dev0)\n",
      "Requirement already satisfied: pyarrow>=10.0 in c:\\truck_delay_classification\\.venv\\lib\\site-packages (from hsfs[python]<3.8.0,>=3.7.0->hopsworks) (17.0.0)\n",
      "Requirement already satisfied: confluent-kafka<=2.3.0 in c:\\truck_delay_classification\\.venv\\lib\\site-packages (from hsfs[python]<3.8.0,>=3.7.0->hopsworks) (2.3.0)\n",
      "Requirement already satisfied: fastavro<=1.8.4,>=1.4.11 in c:\\truck_delay_classification\\.venv\\lib\\site-packages (from hsfs[python]<3.8.0,>=3.7.0->hopsworks) (1.8.4)\n",
      "Requirement already satisfied: charset-normalizer<4,>=2 in c:\\truck_delay_classification\\.venv\\lib\\site-packages (from requests->hopsworks) (3.3.2)\n",
      "Requirement already satisfied: idna<4,>=2.5 in c:\\truck_delay_classification\\.venv\\lib\\site-packages (from requests->hopsworks) (3.10)\n",
      "Requirement already satisfied: certifi>=2017.4.17 in c:\\truck_delay_classification\\.venv\\lib\\site-packages (from requests->hopsworks) (2024.8.30)\n",
      "Requirement already satisfied: botocore<1.36.0,>=1.35.22 in c:\\truck_delay_classification\\.venv\\lib\\site-packages (from boto3->hopsworks) (1.35.22)\n",
      "Requirement already satisfied: jmespath<2.0.0,>=0.7.1 in c:\\truck_delay_classification\\.venv\\lib\\site-packages (from boto3->hopsworks) (1.0.1)\n",
      "Requirement already satisfied: s3transfer<0.11.0,>=0.10.0 in c:\\truck_delay_classification\\.venv\\lib\\site-packages (from boto3->hopsworks) (0.10.2)\n",
      "Requirement already satisfied: six>=1.8.0 in c:\\truck_delay_classification\\.venv\\lib\\site-packages (from furl->hopsworks) (1.16.0)\n",
      "Requirement already satisfied: orderedmultidict>=1.0.1 in c:\\truck_delay_classification\\.venv\\lib\\site-packages (from furl->hopsworks) (1.0.1)\n",
      "Requirement already satisfied: javaobj-py3 in c:\\truck_delay_classification\\.venv\\lib\\site-packages (from pyjks->hopsworks) (0.4.4)\n",
      "Requirement already satisfied: pyasn1>=0.3.5 in c:\\truck_delay_classification\\.venv\\lib\\site-packages (from pyjks->hopsworks) (0.6.1)\n",
      "Requirement already satisfied: pyasn1-modules in c:\\truck_delay_classification\\.venv\\lib\\site-packages (from pyjks->hopsworks) (0.4.1)\n",
      "Requirement already satisfied: pycryptodomex in c:\\truck_delay_classification\\.venv\\lib\\site-packages (from pyjks->hopsworks) (3.20.0)\n",
      "Requirement already satisfied: twofish in c:\\truck_delay_classification\\.venv\\lib\\site-packages (from pyjks->hopsworks) (0.3.0)\n",
      "Requirement already satisfied: tzdata>=2022.1 in c:\\truck_delay_classification\\.venv\\lib\\site-packages (from pandas<2.2.0->hsfs<3.8.0,>=3.7.0->hsfs[python]<3.8.0,>=3.7.0->hopsworks) (2024.1)\n",
      "Requirement already satisfied: greenlet!=0.4.17 in c:\\truck_delay_classification\\.venv\\lib\\site-packages (from sqlalchemy<=1.4.48->hsfs<3.8.0,>=3.7.0->hsfs[python]<3.8.0,>=3.7.0->hopsworks) (3.1.0)\n",
      "Requirement already satisfied: future in c:\\truck_delay_classification\\.venv\\lib\\site-packages (from pyhopshive[thrift]; extra == \"python\"->hsfs[python]<3.8.0,>=3.7.0->hopsworks) (1.0.0)\n",
      "Requirement already satisfied: thrift>=0.10.0 in c:\\truck_delay_classification\\.venv\\lib\\site-packages (from pyhopshive[thrift]; extra == \"python\"->hsfs[python]<3.8.0,>=3.7.0->hopsworks) (0.20.0)\n",
      "Requirement already satisfied: entrypoints in c:\\truck_delay_classification\\.venv\\lib\\site-packages (from altair<5.0.0,>=4.2.1->great-expectations==0.18.12->hsfs<3.8.0,>=3.7.0->hsfs[python]<3.8.0,>=3.7.0->hopsworks) (0.4)\n",
      "Requirement already satisfied: toolz in c:\\truck_delay_classification\\.venv\\lib\\site-packages (from altair<5.0.0,>=4.2.1->great-expectations==0.18.12->hsfs<3.8.0,>=3.7.0->hsfs[python]<3.8.0,>=3.7.0->hopsworks) (0.12.1)\n",
      "Requirement already satisfied: cffi>=1.12 in c:\\truck_delay_classification\\.venv\\lib\\site-packages (from cryptography>=3.2->great-expectations==0.18.12->hsfs<3.8.0,>=3.7.0->hsfs[python]<3.8.0,>=3.7.0->hopsworks) (1.17.1)\n",
      "Requirement already satisfied: decorator in c:\\truck_delay_classification\\.venv\\lib\\site-packages (from Ipython>=7.16.3->great-expectations==0.18.12->hsfs<3.8.0,>=3.7.0->hsfs[python]<3.8.0,>=3.7.0->hopsworks) (5.1.1)\n",
      "Requirement already satisfied: jedi>=0.16 in c:\\truck_delay_classification\\.venv\\lib\\site-packages (from Ipython>=7.16.3->great-expectations==0.18.12->hsfs<3.8.0,>=3.7.0->hsfs[python]<3.8.0,>=3.7.0->hopsworks) (0.19.1)\n",
      "Requirement already satisfied: matplotlib-inline in c:\\truck_delay_classification\\.venv\\lib\\site-packages (from Ipython>=7.16.3->great-expectations==0.18.12->hsfs<3.8.0,>=3.7.0->hsfs[python]<3.8.0,>=3.7.0->hopsworks) (0.1.7)\n",
      "Requirement already satisfied: prompt-toolkit<3.1.0,>=3.0.41 in c:\\truck_delay_classification\\.venv\\lib\\site-packages (from Ipython>=7.16.3->great-expectations==0.18.12->hsfs<3.8.0,>=3.7.0->hsfs[python]<3.8.0,>=3.7.0->hopsworks) (3.0.47)\n",
      "Requirement already satisfied: pygments>=2.4.0 in c:\\truck_delay_classification\\.venv\\lib\\site-packages (from Ipython>=7.16.3->great-expectations==0.18.12->hsfs<3.8.0,>=3.7.0->hsfs[python]<3.8.0,>=3.7.0->hopsworks) (2.18.0)\n",
      "Requirement already satisfied: stack-data in c:\\truck_delay_classification\\.venv\\lib\\site-packages (from Ipython>=7.16.3->great-expectations==0.18.12->hsfs<3.8.0,>=3.7.0->hsfs[python]<3.8.0,>=3.7.0->hopsworks) (0.6.3)\n",
      "Requirement already satisfied: traitlets>=5.13.0 in c:\\truck_delay_classification\\.venv\\lib\\site-packages (from Ipython>=7.16.3->great-expectations==0.18.12->hsfs<3.8.0,>=3.7.0->hsfs[python]<3.8.0,>=3.7.0->hopsworks) (5.14.3)\n",
      "Requirement already satisfied: comm>=0.1.3 in c:\\truck_delay_classification\\.venv\\lib\\site-packages (from ipywidgets>=7.5.1->great-expectations==0.18.12->hsfs<3.8.0,>=3.7.0->hsfs[python]<3.8.0,>=3.7.0->hopsworks) (0.2.2)\n",
      "Requirement already satisfied: widgetsnbextension~=4.0.12 in c:\\truck_delay_classification\\.venv\\lib\\site-packages (from ipywidgets>=7.5.1->great-expectations==0.18.12->hsfs<3.8.0,>=3.7.0->hsfs[python]<3.8.0,>=3.7.0->hopsworks) (4.0.13)\n",
      "Requirement already satisfied: jupyterlab-widgets~=3.0.12 in c:\\truck_delay_classification\\.venv\\lib\\site-packages (from ipywidgets>=7.5.1->great-expectations==0.18.12->hsfs<3.8.0,>=3.7.0->hsfs[python]<3.8.0,>=3.7.0->hopsworks) (3.0.13)\n",
      "Requirement already satisfied: MarkupSafe>=2.0 in c:\\truck_delay_classification\\.venv\\lib\\site-packages (from jinja2>=2.10->great-expectations==0.18.12->hsfs<3.8.0,>=3.7.0->hsfs[python]<3.8.0,>=3.7.0->hopsworks) (2.1.5)\n",
      "Requirement already satisfied: jsonpointer>=1.9 in c:\\truck_delay_classification\\.venv\\lib\\site-packages (from jsonpatch>=1.22->great-expectations==0.18.12->hsfs<3.8.0,>=3.7.0->hsfs[python]<3.8.0,>=3.7.0->hopsworks) (3.0.0)\n",
      "Requirement already satisfied: attrs>=22.2.0 in c:\\truck_delay_classification\\.venv\\lib\\site-packages (from jsonschema>=2.5.1->great-expectations==0.18.12->hsfs<3.8.0,>=3.7.0->hsfs[python]<3.8.0,>=3.7.0->hopsworks) (24.2.0)\n",
      "Requirement already satisfied: jsonschema-specifications>=2023.03.6 in c:\\truck_delay_classification\\.venv\\lib\\site-packages (from jsonschema>=2.5.1->great-expectations==0.18.12->hsfs<3.8.0,>=3.7.0->hsfs[python]<3.8.0,>=3.7.0->hopsworks) (2023.12.1)\n",
      "Requirement already satisfied: referencing>=0.28.4 in c:\\truck_delay_classification\\.venv\\lib\\site-packages (from jsonschema>=2.5.1->great-expectations==0.18.12->hsfs<3.8.0,>=3.7.0->hsfs[python]<3.8.0,>=3.7.0->hopsworks) (0.35.1)\n",
      "Requirement already satisfied: rpds-py>=0.7.1 in c:\\truck_delay_classification\\.venv\\lib\\site-packages (from jsonschema>=2.5.1->great-expectations==0.18.12->hsfs<3.8.0,>=3.7.0->hsfs[python]<3.8.0,>=3.7.0->hopsworks) (0.20.0)\n",
      "Requirement already satisfied: fastjsonschema>=2.15 in c:\\truck_delay_classification\\.venv\\lib\\site-packages (from nbformat>=5.0->great-expectations==0.18.12->hsfs<3.8.0,>=3.7.0->hsfs[python]<3.8.0,>=3.7.0->hopsworks) (2.20.0)\n",
      "Requirement already satisfied: jupyter-core!=5.0.*,>=4.12 in c:\\truck_delay_classification\\.venv\\lib\\site-packages (from nbformat>=5.0->great-expectations==0.18.12->hsfs<3.8.0,>=3.7.0->hsfs[python]<3.8.0,>=3.7.0->hopsworks) (5.7.2)\n",
      "Requirement already satisfied: jupyter-server<3,>=2.4.0 in c:\\truck_delay_classification\\.venv\\lib\\site-packages (from notebook>=6.4.10->great-expectations==0.18.12->hsfs<3.8.0,>=3.7.0->hsfs[python]<3.8.0,>=3.7.0->hopsworks) (2.14.2)\n",
      "Requirement already satisfied: jupyterlab-server<3,>=2.27.1 in c:\\truck_delay_classification\\.venv\\lib\\site-packages (from notebook>=6.4.10->great-expectations==0.18.12->hsfs<3.8.0,>=3.7.0->hsfs[python]<3.8.0,>=3.7.0->hopsworks) (2.27.3)\n",
      "Requirement already satisfied: jupyterlab<4.3,>=4.2.0 in c:\\truck_delay_classification\\.venv\\lib\\site-packages (from notebook>=6.4.10->great-expectations==0.18.12->hsfs<3.8.0,>=3.7.0->hsfs[python]<3.8.0,>=3.7.0->hopsworks) (4.2.5)\n",
      "Requirement already satisfied: notebook-shim<0.3,>=0.2 in c:\\truck_delay_classification\\.venv\\lib\\site-packages (from notebook>=6.4.10->great-expectations==0.18.12->hsfs<3.8.0,>=3.7.0->hsfs[python]<3.8.0,>=3.7.0->hopsworks) (0.2.4)\n",
      "Requirement already satisfied: tornado>=6.2.0 in c:\\truck_delay_classification\\.venv\\lib\\site-packages (from notebook>=6.4.10->great-expectations==0.18.12->hsfs<3.8.0,>=3.7.0->hsfs[python]<3.8.0,>=3.7.0->hopsworks) (6.4.1)\n",
      "Requirement already satisfied: annotated-types>=0.6.0 in c:\\truck_delay_classification\\.venv\\lib\\site-packages (from pydantic>=1.9.2->great-expectations==0.18.12->hsfs<3.8.0,>=3.7.0->hsfs[python]<3.8.0,>=3.7.0->hopsworks) (0.7.0)\n",
      "Requirement already satisfied: pydantic-core==2.23.4 in c:\\truck_delay_classification\\.venv\\lib\\site-packages (from pydantic>=1.9.2->great-expectations==0.18.12->hsfs<3.8.0,>=3.7.0->hsfs[python]<3.8.0,>=3.7.0->hopsworks) (2.23.4)\n",
      "Requirement already satisfied: pycparser in c:\\truck_delay_classification\\.venv\\lib\\site-packages (from cffi>=1.12->cryptography>=3.2->great-expectations==0.18.12->hsfs<3.8.0,>=3.7.0->hsfs[python]<3.8.0,>=3.7.0->hopsworks) (2.22)\n",
      "Requirement already satisfied: parso<0.9.0,>=0.8.3 in c:\\truck_delay_classification\\.venv\\lib\\site-packages (from jedi>=0.16->Ipython>=7.16.3->great-expectations==0.18.12->hsfs<3.8.0,>=3.7.0->hsfs[python]<3.8.0,>=3.7.0->hopsworks) (0.8.4)\n",
      "Requirement already satisfied: platformdirs>=2.5 in c:\\truck_delay_classification\\.venv\\lib\\site-packages (from jupyter-core!=5.0.*,>=4.12->nbformat>=5.0->great-expectations==0.18.12->hsfs<3.8.0,>=3.7.0->hsfs[python]<3.8.0,>=3.7.0->hopsworks) (4.3.6)\n",
      "Requirement already satisfied: pywin32>=300 in c:\\truck_delay_classification\\.venv\\lib\\site-packages (from jupyter-core!=5.0.*,>=4.12->nbformat>=5.0->great-expectations==0.18.12->hsfs<3.8.0,>=3.7.0->hsfs[python]<3.8.0,>=3.7.0->hopsworks) (306)\n",
      "Requirement already satisfied: anyio>=3.1.0 in c:\\truck_delay_classification\\.venv\\lib\\site-packages (from jupyter-server<3,>=2.4.0->notebook>=6.4.10->great-expectations==0.18.12->hsfs<3.8.0,>=3.7.0->hsfs[python]<3.8.0,>=3.7.0->hopsworks) (4.5.0)\n",
      "Requirement already satisfied: argon2-cffi>=21.1 in c:\\truck_delay_classification\\.venv\\lib\\site-packages (from jupyter-server<3,>=2.4.0->notebook>=6.4.10->great-expectations==0.18.12->hsfs<3.8.0,>=3.7.0->hsfs[python]<3.8.0,>=3.7.0->hopsworks) (23.1.0)\n",
      "Requirement already satisfied: jupyter-client>=7.4.4 in c:\\truck_delay_classification\\.venv\\lib\\site-packages (from jupyter-server<3,>=2.4.0->notebook>=6.4.10->great-expectations==0.18.12->hsfs<3.8.0,>=3.7.0->hsfs[python]<3.8.0,>=3.7.0->hopsworks) (8.6.3)\n",
      "Requirement already satisfied: jupyter-events>=0.9.0 in c:\\truck_delay_classification\\.venv\\lib\\site-packages (from jupyter-server<3,>=2.4.0->notebook>=6.4.10->great-expectations==0.18.12->hsfs<3.8.0,>=3.7.0->hsfs[python]<3.8.0,>=3.7.0->hopsworks) (0.10.0)\n",
      "Requirement already satisfied: jupyter-server-terminals>=0.4.4 in c:\\truck_delay_classification\\.venv\\lib\\site-packages (from jupyter-server<3,>=2.4.0->notebook>=6.4.10->great-expectations==0.18.12->hsfs<3.8.0,>=3.7.0->hsfs[python]<3.8.0,>=3.7.0->hopsworks) (0.5.3)\n",
      "Requirement already satisfied: nbconvert>=6.4.4 in c:\\truck_delay_classification\\.venv\\lib\\site-packages (from jupyter-server<3,>=2.4.0->notebook>=6.4.10->great-expectations==0.18.12->hsfs<3.8.0,>=3.7.0->hsfs[python]<3.8.0,>=3.7.0->hopsworks) (7.16.4)\n",
      "Requirement already satisfied: overrides>=5.0 in c:\\truck_delay_classification\\.venv\\lib\\site-packages (from jupyter-server<3,>=2.4.0->notebook>=6.4.10->great-expectations==0.18.12->hsfs<3.8.0,>=3.7.0->hsfs[python]<3.8.0,>=3.7.0->hopsworks) (7.7.0)\n",
      "Requirement already satisfied: prometheus-client>=0.9 in c:\\truck_delay_classification\\.venv\\lib\\site-packages (from jupyter-server<3,>=2.4.0->notebook>=6.4.10->great-expectations==0.18.12->hsfs<3.8.0,>=3.7.0->hsfs[python]<3.8.0,>=3.7.0->hopsworks) (0.20.0)\n",
      "Requirement already satisfied: pywinpty>=2.0.1 in c:\\truck_delay_classification\\.venv\\lib\\site-packages (from jupyter-server<3,>=2.4.0->notebook>=6.4.10->great-expectations==0.18.12->hsfs<3.8.0,>=3.7.0->hsfs[python]<3.8.0,>=3.7.0->hopsworks) (2.0.13)\n",
      "Requirement already satisfied: pyzmq>=24 in c:\\truck_delay_classification\\.venv\\lib\\site-packages (from jupyter-server<3,>=2.4.0->notebook>=6.4.10->great-expectations==0.18.12->hsfs<3.8.0,>=3.7.0->hsfs[python]<3.8.0,>=3.7.0->hopsworks) (26.2.0)\n",
      "Requirement already satisfied: send2trash>=1.8.2 in c:\\truck_delay_classification\\.venv\\lib\\site-packages (from jupyter-server<3,>=2.4.0->notebook>=6.4.10->great-expectations==0.18.12->hsfs<3.8.0,>=3.7.0->hsfs[python]<3.8.0,>=3.7.0->hopsworks) (1.8.3)\n",
      "Requirement already satisfied: terminado>=0.8.3 in c:\\truck_delay_classification\\.venv\\lib\\site-packages (from jupyter-server<3,>=2.4.0->notebook>=6.4.10->great-expectations==0.18.12->hsfs<3.8.0,>=3.7.0->hsfs[python]<3.8.0,>=3.7.0->hopsworks) (0.18.1)\n",
      "Requirement already satisfied: websocket-client>=1.7 in c:\\truck_delay_classification\\.venv\\lib\\site-packages (from jupyter-server<3,>=2.4.0->notebook>=6.4.10->great-expectations==0.18.12->hsfs<3.8.0,>=3.7.0->hsfs[python]<3.8.0,>=3.7.0->hopsworks) (1.8.0)\n",
      "Requirement already satisfied: async-lru>=1.0.0 in c:\\truck_delay_classification\\.venv\\lib\\site-packages (from jupyterlab<4.3,>=4.2.0->notebook>=6.4.10->great-expectations==0.18.12->hsfs<3.8.0,>=3.7.0->hsfs[python]<3.8.0,>=3.7.0->hopsworks) (2.0.4)\n",
      "Requirement already satisfied: httpx>=0.25.0 in c:\\truck_delay_classification\\.venv\\lib\\site-packages (from jupyterlab<4.3,>=4.2.0->notebook>=6.4.10->great-expectations==0.18.12->hsfs<3.8.0,>=3.7.0->hsfs[python]<3.8.0,>=3.7.0->hopsworks) (0.27.2)\n",
      "Requirement already satisfied: ipykernel>=6.5.0 in c:\\truck_delay_classification\\.venv\\lib\\site-packages (from jupyterlab<4.3,>=4.2.0->notebook>=6.4.10->great-expectations==0.18.12->hsfs<3.8.0,>=3.7.0->hsfs[python]<3.8.0,>=3.7.0->hopsworks) (6.29.5)\n",
      "Requirement already satisfied: jupyter-lsp>=2.0.0 in c:\\truck_delay_classification\\.venv\\lib\\site-packages (from jupyterlab<4.3,>=4.2.0->notebook>=6.4.10->great-expectations==0.18.12->hsfs<3.8.0,>=3.7.0->hsfs[python]<3.8.0,>=3.7.0->hopsworks) (2.2.5)\n",
      "Requirement already satisfied: setuptools>=40.1.0 in c:\\truck_delay_classification\\.venv\\lib\\site-packages (from jupyterlab<4.3,>=4.2.0->notebook>=6.4.10->great-expectations==0.18.12->hsfs<3.8.0,>=3.7.0->hsfs[python]<3.8.0,>=3.7.0->hopsworks) (75.1.0)\n",
      "Requirement already satisfied: babel>=2.10 in c:\\truck_delay_classification\\.venv\\lib\\site-packages (from jupyterlab-server<3,>=2.27.1->notebook>=6.4.10->great-expectations==0.18.12->hsfs<3.8.0,>=3.7.0->hsfs[python]<3.8.0,>=3.7.0->hopsworks) (2.16.0)\n",
      "Requirement already satisfied: json5>=0.9.0 in c:\\truck_delay_classification\\.venv\\lib\\site-packages (from jupyterlab-server<3,>=2.27.1->notebook>=6.4.10->great-expectations==0.18.12->hsfs<3.8.0,>=3.7.0->hsfs[python]<3.8.0,>=3.7.0->hopsworks) (0.9.25)\n",
      "Requirement already satisfied: wcwidth in c:\\truck_delay_classification\\.venv\\lib\\site-packages (from prompt-toolkit<3.1.0,>=3.0.41->Ipython>=7.16.3->great-expectations==0.18.12->hsfs<3.8.0,>=3.7.0->hsfs[python]<3.8.0,>=3.7.0->hopsworks) (0.2.13)\n",
      "Requirement already satisfied: executing>=1.2.0 in c:\\truck_delay_classification\\.venv\\lib\\site-packages (from stack-data->Ipython>=7.16.3->great-expectations==0.18.12->hsfs<3.8.0,>=3.7.0->hsfs[python]<3.8.0,>=3.7.0->hopsworks) (2.1.0)\n",
      "Requirement already satisfied: asttokens>=2.1.0 in c:\\truck_delay_classification\\.venv\\lib\\site-packages (from stack-data->Ipython>=7.16.3->great-expectations==0.18.12->hsfs<3.8.0,>=3.7.0->hsfs[python]<3.8.0,>=3.7.0->hopsworks) (2.4.1)\n",
      "Requirement already satisfied: pure-eval in c:\\truck_delay_classification\\.venv\\lib\\site-packages (from stack-data->Ipython>=7.16.3->great-expectations==0.18.12->hsfs<3.8.0,>=3.7.0->hsfs[python]<3.8.0,>=3.7.0->hopsworks) (0.2.3)\n",
      "Requirement already satisfied: sniffio>=1.1 in c:\\truck_delay_classification\\.venv\\lib\\site-packages (from anyio>=3.1.0->jupyter-server<3,>=2.4.0->notebook>=6.4.10->great-expectations==0.18.12->hsfs<3.8.0,>=3.7.0->hsfs[python]<3.8.0,>=3.7.0->hopsworks) (1.3.1)\n",
      "Requirement already satisfied: argon2-cffi-bindings in c:\\truck_delay_classification\\.venv\\lib\\site-packages (from argon2-cffi>=21.1->jupyter-server<3,>=2.4.0->notebook>=6.4.10->great-expectations==0.18.12->hsfs<3.8.0,>=3.7.0->hsfs[python]<3.8.0,>=3.7.0->hopsworks) (21.2.0)\n",
      "Requirement already satisfied: httpcore==1.* in c:\\truck_delay_classification\\.venv\\lib\\site-packages (from httpx>=0.25.0->jupyterlab<4.3,>=4.2.0->notebook>=6.4.10->great-expectations==0.18.12->hsfs<3.8.0,>=3.7.0->hsfs[python]<3.8.0,>=3.7.0->hopsworks) (1.0.5)\n",
      "Requirement already satisfied: h11<0.15,>=0.13 in c:\\truck_delay_classification\\.venv\\lib\\site-packages (from httpcore==1.*->httpx>=0.25.0->jupyterlab<4.3,>=4.2.0->notebook>=6.4.10->great-expectations==0.18.12->hsfs<3.8.0,>=3.7.0->hsfs[python]<3.8.0,>=3.7.0->hopsworks) (0.14.0)\n",
      "Requirement already satisfied: debugpy>=1.6.5 in c:\\truck_delay_classification\\.venv\\lib\\site-packages (from ipykernel>=6.5.0->jupyterlab<4.3,>=4.2.0->notebook>=6.4.10->great-expectations==0.18.12->hsfs<3.8.0,>=3.7.0->hsfs[python]<3.8.0,>=3.7.0->hopsworks) (1.8.5)\n",
      "Requirement already satisfied: nest-asyncio in c:\\truck_delay_classification\\.venv\\lib\\site-packages (from ipykernel>=6.5.0->jupyterlab<4.3,>=4.2.0->notebook>=6.4.10->great-expectations==0.18.12->hsfs<3.8.0,>=3.7.0->hsfs[python]<3.8.0,>=3.7.0->hopsworks) (1.6.0)\n",
      "Requirement already satisfied: psutil in c:\\truck_delay_classification\\.venv\\lib\\site-packages (from ipykernel>=6.5.0->jupyterlab<4.3,>=4.2.0->notebook>=6.4.10->great-expectations==0.18.12->hsfs<3.8.0,>=3.7.0->hsfs[python]<3.8.0,>=3.7.0->hopsworks) (6.0.0)\n",
      "Requirement already satisfied: python-json-logger>=2.0.4 in c:\\truck_delay_classification\\.venv\\lib\\site-packages (from jupyter-events>=0.9.0->jupyter-server<3,>=2.4.0->notebook>=6.4.10->great-expectations==0.18.12->hsfs<3.8.0,>=3.7.0->hsfs[python]<3.8.0,>=3.7.0->hopsworks) (2.0.7)\n",
      "Requirement already satisfied: pyyaml>=5.3 in c:\\truck_delay_classification\\.venv\\lib\\site-packages (from jupyter-events>=0.9.0->jupyter-server<3,>=2.4.0->notebook>=6.4.10->great-expectations==0.18.12->hsfs<3.8.0,>=3.7.0->hsfs[python]<3.8.0,>=3.7.0->hopsworks) (6.0.2)\n",
      "Requirement already satisfied: rfc3339-validator in c:\\truck_delay_classification\\.venv\\lib\\site-packages (from jupyter-events>=0.9.0->jupyter-server<3,>=2.4.0->notebook>=6.4.10->great-expectations==0.18.12->hsfs<3.8.0,>=3.7.0->hsfs[python]<3.8.0,>=3.7.0->hopsworks) (0.1.4)\n",
      "Requirement already satisfied: rfc3986-validator>=0.1.1 in c:\\truck_delay_classification\\.venv\\lib\\site-packages (from jupyter-events>=0.9.0->jupyter-server<3,>=2.4.0->notebook>=6.4.10->great-expectations==0.18.12->hsfs<3.8.0,>=3.7.0->hsfs[python]<3.8.0,>=3.7.0->hopsworks) (0.1.1)\n",
      "Requirement already satisfied: beautifulsoup4 in c:\\truck_delay_classification\\.venv\\lib\\site-packages (from nbconvert>=6.4.4->jupyter-server<3,>=2.4.0->notebook>=6.4.10->great-expectations==0.18.12->hsfs<3.8.0,>=3.7.0->hsfs[python]<3.8.0,>=3.7.0->hopsworks) (4.12.3)\n",
      "Requirement already satisfied: bleach!=5.0.0 in c:\\truck_delay_classification\\.venv\\lib\\site-packages (from nbconvert>=6.4.4->jupyter-server<3,>=2.4.0->notebook>=6.4.10->great-expectations==0.18.12->hsfs<3.8.0,>=3.7.0->hsfs[python]<3.8.0,>=3.7.0->hopsworks) (6.1.0)\n",
      "Requirement already satisfied: defusedxml in c:\\truck_delay_classification\\.venv\\lib\\site-packages (from nbconvert>=6.4.4->jupyter-server<3,>=2.4.0->notebook>=6.4.10->great-expectations==0.18.12->hsfs<3.8.0,>=3.7.0->hsfs[python]<3.8.0,>=3.7.0->hopsworks) (0.7.1)\n",
      "Requirement already satisfied: jupyterlab-pygments in c:\\truck_delay_classification\\.venv\\lib\\site-packages (from nbconvert>=6.4.4->jupyter-server<3,>=2.4.0->notebook>=6.4.10->great-expectations==0.18.12->hsfs<3.8.0,>=3.7.0->hsfs[python]<3.8.0,>=3.7.0->hopsworks) (0.3.0)\n",
      "Requirement already satisfied: nbclient>=0.5.0 in c:\\truck_delay_classification\\.venv\\lib\\site-packages (from nbconvert>=6.4.4->jupyter-server<3,>=2.4.0->notebook>=6.4.10->great-expectations==0.18.12->hsfs<3.8.0,>=3.7.0->hsfs[python]<3.8.0,>=3.7.0->hopsworks) (0.10.0)\n",
      "Requirement already satisfied: pandocfilters>=1.4.1 in c:\\truck_delay_classification\\.venv\\lib\\site-packages (from nbconvert>=6.4.4->jupyter-server<3,>=2.4.0->notebook>=6.4.10->great-expectations==0.18.12->hsfs<3.8.0,>=3.7.0->hsfs[python]<3.8.0,>=3.7.0->hopsworks) (1.5.1)\n",
      "Requirement already satisfied: tinycss2 in c:\\truck_delay_classification\\.venv\\lib\\site-packages (from nbconvert>=6.4.4->jupyter-server<3,>=2.4.0->notebook>=6.4.10->great-expectations==0.18.12->hsfs<3.8.0,>=3.7.0->hsfs[python]<3.8.0,>=3.7.0->hopsworks) (1.3.0)\n",
      "Requirement already satisfied: webencodings in c:\\truck_delay_classification\\.venv\\lib\\site-packages (from bleach!=5.0.0->nbconvert>=6.4.4->jupyter-server<3,>=2.4.0->notebook>=6.4.10->great-expectations==0.18.12->hsfs<3.8.0,>=3.7.0->hsfs[python]<3.8.0,>=3.7.0->hopsworks) (0.5.1)\n",
      "Requirement already satisfied: fqdn in c:\\truck_delay_classification\\.venv\\lib\\site-packages (from jsonschema[format-nongpl]>=4.18.0->jupyter-events>=0.9.0->jupyter-server<3,>=2.4.0->notebook>=6.4.10->great-expectations==0.18.12->hsfs<3.8.0,>=3.7.0->hsfs[python]<3.8.0,>=3.7.0->hopsworks) (1.5.1)\n",
      "Requirement already satisfied: isoduration in c:\\truck_delay_classification\\.venv\\lib\\site-packages (from jsonschema[format-nongpl]>=4.18.0->jupyter-events>=0.9.0->jupyter-server<3,>=2.4.0->notebook>=6.4.10->great-expectations==0.18.12->hsfs<3.8.0,>=3.7.0->hsfs[python]<3.8.0,>=3.7.0->hopsworks) (20.11.0)\n",
      "Requirement already satisfied: uri-template in c:\\truck_delay_classification\\.venv\\lib\\site-packages (from jsonschema[format-nongpl]>=4.18.0->jupyter-events>=0.9.0->jupyter-server<3,>=2.4.0->notebook>=6.4.10->great-expectations==0.18.12->hsfs<3.8.0,>=3.7.0->hsfs[python]<3.8.0,>=3.7.0->hopsworks) (1.3.0)\n",
      "Requirement already satisfied: webcolors>=24.6.0 in c:\\truck_delay_classification\\.venv\\lib\\site-packages (from jsonschema[format-nongpl]>=4.18.0->jupyter-events>=0.9.0->jupyter-server<3,>=2.4.0->notebook>=6.4.10->great-expectations==0.18.12->hsfs<3.8.0,>=3.7.0->hsfs[python]<3.8.0,>=3.7.0->hopsworks) (24.8.0)\n",
      "Requirement already satisfied: soupsieve>1.2 in c:\\truck_delay_classification\\.venv\\lib\\site-packages (from beautifulsoup4->nbconvert>=6.4.4->jupyter-server<3,>=2.4.0->notebook>=6.4.10->great-expectations==0.18.12->hsfs<3.8.0,>=3.7.0->hsfs[python]<3.8.0,>=3.7.0->hopsworks) (2.6)\n",
      "Requirement already satisfied: arrow>=0.15.0 in c:\\truck_delay_classification\\.venv\\lib\\site-packages (from isoduration->jsonschema[format-nongpl]>=4.18.0->jupyter-events>=0.9.0->jupyter-server<3,>=2.4.0->notebook>=6.4.10->great-expectations==0.18.12->hsfs<3.8.0,>=3.7.0->hsfs[python]<3.8.0,>=3.7.0->hopsworks) (1.3.0)\n",
      "Requirement already satisfied: types-python-dateutil>=2.8.10 in c:\\truck_delay_classification\\.venv\\lib\\site-packages (from arrow>=0.15.0->isoduration->jsonschema[format-nongpl]>=4.18.0->jupyter-events>=0.9.0->jupyter-server<3,>=2.4.0->notebook>=6.4.10->great-expectations==0.18.12->hsfs<3.8.0,>=3.7.0->hsfs[python]<3.8.0,>=3.7.0->hopsworks) (2.9.0.20240906)\n",
      "Note: you may need to restart the kernel to use updated packages.\n"
     ]
    }
   ],
   "source": [
    "pip install hopsworks"
   ]
  },
  {
   "cell_type": "code",
   "execution_count": 81,
   "metadata": {},
   "outputs": [
    {
     "name": "stdout",
     "output_type": "stream",
     "text": [
      "Requirement already satisfied: hsfs in c:\\truck_delay_classification\\.venv\\lib\\site-packages (3.7.7)Note: you may need to restart the kernel to use updated packages.\n",
      "\n",
      "Requirement already satisfied: pyhumps==1.6.1 in c:\\truck_delay_classification\\.venv\\lib\\site-packages (from hsfs) (1.6.1)\n",
      "Requirement already satisfied: requests in c:\\truck_delay_classification\\.venv\\lib\\site-packages (from hsfs) (2.32.3)\n",
      "Requirement already satisfied: furl in c:\\truck_delay_classification\\.venv\\lib\\site-packages (from hsfs) (2.1.3)\n",
      "Requirement already satisfied: boto3 in c:\\truck_delay_classification\\.venv\\lib\\site-packages (from hsfs) (1.35.22)\n",
      "Requirement already satisfied: pandas<2.2.0 in c:\\truck_delay_classification\\.venv\\lib\\site-packages (from hsfs) (2.1.4)\n",
      "Requirement already satisfied: numpy<2 in c:\\truck_delay_classification\\.venv\\lib\\site-packages (from hsfs) (1.26.4)\n",
      "Requirement already satisfied: pyjks in c:\\truck_delay_classification\\.venv\\lib\\site-packages (from hsfs) (20.0.0)\n",
      "Requirement already satisfied: mock in c:\\truck_delay_classification\\.venv\\lib\\site-packages (from hsfs) (5.1.0)\n",
      "Requirement already satisfied: avro==1.11.3 in c:\\truck_delay_classification\\.venv\\lib\\site-packages (from hsfs) (1.11.3)\n",
      "Requirement already satisfied: sqlalchemy<=1.4.48 in c:\\truck_delay_classification\\.venv\\lib\\site-packages (from hsfs) (1.4.48)\n",
      "Requirement already satisfied: PyMySQL[rsa] in c:\\truck_delay_classification\\.venv\\lib\\site-packages (from hsfs) (1.1.1)\n",
      "Requirement already satisfied: great-expectations==0.18.12 in c:\\truck_delay_classification\\.venv\\lib\\site-packages (from hsfs) (0.18.12)\n",
      "Requirement already satisfied: tzlocal in c:\\truck_delay_classification\\.venv\\lib\\site-packages (from hsfs) (5.2)\n",
      "Requirement already satisfied: fsspec in c:\\truck_delay_classification\\.venv\\lib\\site-packages (from hsfs) (2024.9.0)\n",
      "Requirement already satisfied: retrying in c:\\truck_delay_classification\\.venv\\lib\\site-packages (from hsfs) (1.3.4)\n",
      "Requirement already satisfied: aiomysql in c:\\truck_delay_classification\\.venv\\lib\\site-packages (from hsfs) (0.2.0)\n",
      "Requirement already satisfied: opensearch-py<=2.4.2,>=1.1.0 in c:\\truck_delay_classification\\.venv\\lib\\site-packages (from hsfs) (2.4.2)\n",
      "Requirement already satisfied: altair<5.0.0,>=4.2.1 in c:\\truck_delay_classification\\.venv\\lib\\site-packages (from great-expectations==0.18.12->hsfs) (4.2.2)\n",
      "Requirement already satisfied: Click>=7.1.2 in c:\\truck_delay_classification\\.venv\\lib\\site-packages (from great-expectations==0.18.12->hsfs) (8.1.7)\n",
      "Requirement already satisfied: colorama>=0.4.3 in c:\\truck_delay_classification\\.venv\\lib\\site-packages (from great-expectations==0.18.12->hsfs) (0.4.6)\n",
      "Requirement already satisfied: cryptography>=3.2 in c:\\truck_delay_classification\\.venv\\lib\\site-packages (from great-expectations==0.18.12->hsfs) (43.0.1)\n",
      "Requirement already satisfied: Ipython>=7.16.3 in c:\\truck_delay_classification\\.venv\\lib\\site-packages (from great-expectations==0.18.12->hsfs) (8.27.0)\n",
      "Requirement already satisfied: ipywidgets>=7.5.1 in c:\\truck_delay_classification\\.venv\\lib\\site-packages (from great-expectations==0.18.12->hsfs) (8.1.5)\n",
      "Requirement already satisfied: jinja2>=2.10 in c:\\truck_delay_classification\\.venv\\lib\\site-packages (from great-expectations==0.18.12->hsfs) (3.1.4)\n",
      "Requirement already satisfied: jsonpatch>=1.22 in c:\\truck_delay_classification\\.venv\\lib\\site-packages (from great-expectations==0.18.12->hsfs) (1.33)\n",
      "Requirement already satisfied: jsonschema>=2.5.1 in c:\\truck_delay_classification\\.venv\\lib\\site-packages (from great-expectations==0.18.12->hsfs) (4.23.0)\n",
      "Requirement already satisfied: makefun<2,>=1.7.0 in c:\\truck_delay_classification\\.venv\\lib\\site-packages (from great-expectations==0.18.12->hsfs) (1.15.4)\n",
      "Requirement already satisfied: marshmallow<4.0.0,>=3.7.1 in c:\\truck_delay_classification\\.venv\\lib\\site-packages (from great-expectations==0.18.12->hsfs) (3.22.0)\n",
      "Requirement already satisfied: mistune>=0.8.4 in c:\\truck_delay_classification\\.venv\\lib\\site-packages (from great-expectations==0.18.12->hsfs) (3.0.2)\n",
      "Requirement already satisfied: nbformat>=5.0 in c:\\truck_delay_classification\\.venv\\lib\\site-packages (from great-expectations==0.18.12->hsfs) (5.10.4)\n",
      "Requirement already satisfied: notebook>=6.4.10 in c:\\truck_delay_classification\\.venv\\lib\\site-packages (from great-expectations==0.18.12->hsfs) (7.2.2)\n",
      "Requirement already satisfied: packaging in c:\\truck_delay_classification\\.venv\\lib\\site-packages (from great-expectations==0.18.12->hsfs) (24.1)\n",
      "Requirement already satisfied: pydantic>=1.9.2 in c:\\truck_delay_classification\\.venv\\lib\\site-packages (from great-expectations==0.18.12->hsfs) (2.9.2)\n",
      "Requirement already satisfied: pyparsing>=2.4 in c:\\truck_delay_classification\\.venv\\lib\\site-packages (from great-expectations==0.18.12->hsfs) (3.1.4)\n",
      "Requirement already satisfied: python-dateutil>=2.8.1 in c:\\truck_delay_classification\\.venv\\lib\\site-packages (from great-expectations==0.18.12->hsfs) (2.9.0.post0)\n",
      "Requirement already satisfied: pytz>=2021.3 in c:\\truck_delay_classification\\.venv\\lib\\site-packages (from great-expectations==0.18.12->hsfs) (2024.2)\n",
      "Requirement already satisfied: ruamel.yaml<0.17.18,>=0.16 in c:\\truck_delay_classification\\.venv\\lib\\site-packages (from great-expectations==0.18.12->hsfs) (0.17.17)\n",
      "Requirement already satisfied: scipy>=1.6.0 in c:\\truck_delay_classification\\.venv\\lib\\site-packages (from great-expectations==0.18.12->hsfs) (1.14.1)\n",
      "Requirement already satisfied: tqdm>=4.59.0 in c:\\truck_delay_classification\\.venv\\lib\\site-packages (from great-expectations==0.18.12->hsfs) (4.66.5)\n",
      "Requirement already satisfied: typing-extensions>=3.10.0.0 in c:\\truck_delay_classification\\.venv\\lib\\site-packages (from great-expectations==0.18.12->hsfs) (4.12.2)\n",
      "Requirement already satisfied: urllib3>=1.26 in c:\\truck_delay_classification\\.venv\\lib\\site-packages (from great-expectations==0.18.12->hsfs) (2.2.3)\n",
      "Requirement already satisfied: six in c:\\truck_delay_classification\\.venv\\lib\\site-packages (from opensearch-py<=2.4.2,>=1.1.0->hsfs) (1.16.0)\n",
      "Requirement already satisfied: certifi>=2022.12.07 in c:\\truck_delay_classification\\.venv\\lib\\site-packages (from opensearch-py<=2.4.2,>=1.1.0->hsfs) (2024.8.30)\n",
      "Requirement already satisfied: tzdata>=2022.1 in c:\\truck_delay_classification\\.venv\\lib\\site-packages (from pandas<2.2.0->hsfs) (2024.1)\n",
      "Requirement already satisfied: charset-normalizer<4,>=2 in c:\\truck_delay_classification\\.venv\\lib\\site-packages (from requests->hsfs) (3.3.2)\n",
      "Requirement already satisfied: idna<4,>=2.5 in c:\\truck_delay_classification\\.venv\\lib\\site-packages (from requests->hsfs) (3.10)\n",
      "Requirement already satisfied: greenlet!=0.4.17 in c:\\truck_delay_classification\\.venv\\lib\\site-packages (from sqlalchemy<=1.4.48->hsfs) (3.1.0)\n",
      "Requirement already satisfied: botocore<1.36.0,>=1.35.22 in c:\\truck_delay_classification\\.venv\\lib\\site-packages (from boto3->hsfs) (1.35.22)\n",
      "Requirement already satisfied: jmespath<2.0.0,>=0.7.1 in c:\\truck_delay_classification\\.venv\\lib\\site-packages (from boto3->hsfs) (1.0.1)\n",
      "Requirement already satisfied: s3transfer<0.11.0,>=0.10.0 in c:\\truck_delay_classification\\.venv\\lib\\site-packages (from boto3->hsfs) (0.10.2)\n",
      "Requirement already satisfied: orderedmultidict>=1.0.1 in c:\\truck_delay_classification\\.venv\\lib\\site-packages (from furl->hsfs) (1.0.1)\n",
      "Requirement already satisfied: javaobj-py3 in c:\\truck_delay_classification\\.venv\\lib\\site-packages (from pyjks->hsfs) (0.4.4)\n",
      "Requirement already satisfied: pyasn1>=0.3.5 in c:\\truck_delay_classification\\.venv\\lib\\site-packages (from pyjks->hsfs) (0.6.1)\n",
      "Requirement already satisfied: pyasn1-modules in c:\\truck_delay_classification\\.venv\\lib\\site-packages (from pyjks->hsfs) (0.4.1)\n",
      "Requirement already satisfied: pycryptodomex in c:\\truck_delay_classification\\.venv\\lib\\site-packages (from pyjks->hsfs) (3.20.0)\n",
      "Requirement already satisfied: twofish in c:\\truck_delay_classification\\.venv\\lib\\site-packages (from pyjks->hsfs) (0.3.0)\n",
      "Requirement already satisfied: entrypoints in c:\\truck_delay_classification\\.venv\\lib\\site-packages (from altair<5.0.0,>=4.2.1->great-expectations==0.18.12->hsfs) (0.4)\n",
      "Requirement already satisfied: toolz in c:\\truck_delay_classification\\.venv\\lib\\site-packages (from altair<5.0.0,>=4.2.1->great-expectations==0.18.12->hsfs) (0.12.1)\n",
      "Requirement already satisfied: cffi>=1.12 in c:\\truck_delay_classification\\.venv\\lib\\site-packages (from cryptography>=3.2->great-expectations==0.18.12->hsfs) (1.17.1)\n",
      "Requirement already satisfied: decorator in c:\\truck_delay_classification\\.venv\\lib\\site-packages (from Ipython>=7.16.3->great-expectations==0.18.12->hsfs) (5.1.1)\n",
      "Requirement already satisfied: jedi>=0.16 in c:\\truck_delay_classification\\.venv\\lib\\site-packages (from Ipython>=7.16.3->great-expectations==0.18.12->hsfs) (0.19.1)\n",
      "Requirement already satisfied: matplotlib-inline in c:\\truck_delay_classification\\.venv\\lib\\site-packages (from Ipython>=7.16.3->great-expectations==0.18.12->hsfs) (0.1.7)\n",
      "Requirement already satisfied: prompt-toolkit<3.1.0,>=3.0.41 in c:\\truck_delay_classification\\.venv\\lib\\site-packages (from Ipython>=7.16.3->great-expectations==0.18.12->hsfs) (3.0.47)\n",
      "Requirement already satisfied: pygments>=2.4.0 in c:\\truck_delay_classification\\.venv\\lib\\site-packages (from Ipython>=7.16.3->great-expectations==0.18.12->hsfs) (2.18.0)\n",
      "Requirement already satisfied: stack-data in c:\\truck_delay_classification\\.venv\\lib\\site-packages (from Ipython>=7.16.3->great-expectations==0.18.12->hsfs) (0.6.3)\n",
      "Requirement already satisfied: traitlets>=5.13.0 in c:\\truck_delay_classification\\.venv\\lib\\site-packages (from Ipython>=7.16.3->great-expectations==0.18.12->hsfs) (5.14.3)\n",
      "Requirement already satisfied: comm>=0.1.3 in c:\\truck_delay_classification\\.venv\\lib\\site-packages (from ipywidgets>=7.5.1->great-expectations==0.18.12->hsfs) (0.2.2)\n",
      "Requirement already satisfied: widgetsnbextension~=4.0.12 in c:\\truck_delay_classification\\.venv\\lib\\site-packages (from ipywidgets>=7.5.1->great-expectations==0.18.12->hsfs) (4.0.13)\n",
      "Requirement already satisfied: jupyterlab-widgets~=3.0.12 in c:\\truck_delay_classification\\.venv\\lib\\site-packages (from ipywidgets>=7.5.1->great-expectations==0.18.12->hsfs) (3.0.13)\n",
      "Requirement already satisfied: MarkupSafe>=2.0 in c:\\truck_delay_classification\\.venv\\lib\\site-packages (from jinja2>=2.10->great-expectations==0.18.12->hsfs) (2.1.5)\n",
      "Requirement already satisfied: jsonpointer>=1.9 in c:\\truck_delay_classification\\.venv\\lib\\site-packages (from jsonpatch>=1.22->great-expectations==0.18.12->hsfs) (3.0.0)\n",
      "Requirement already satisfied: attrs>=22.2.0 in c:\\truck_delay_classification\\.venv\\lib\\site-packages (from jsonschema>=2.5.1->great-expectations==0.18.12->hsfs) (24.2.0)\n",
      "Requirement already satisfied: jsonschema-specifications>=2023.03.6 in c:\\truck_delay_classification\\.venv\\lib\\site-packages (from jsonschema>=2.5.1->great-expectations==0.18.12->hsfs) (2023.12.1)\n",
      "Requirement already satisfied: referencing>=0.28.4 in c:\\truck_delay_classification\\.venv\\lib\\site-packages (from jsonschema>=2.5.1->great-expectations==0.18.12->hsfs) (0.35.1)\n",
      "Requirement already satisfied: rpds-py>=0.7.1 in c:\\truck_delay_classification\\.venv\\lib\\site-packages (from jsonschema>=2.5.1->great-expectations==0.18.12->hsfs) (0.20.0)\n",
      "Requirement already satisfied: fastjsonschema>=2.15 in c:\\truck_delay_classification\\.venv\\lib\\site-packages (from nbformat>=5.0->great-expectations==0.18.12->hsfs) (2.20.0)\n",
      "Requirement already satisfied: jupyter-core!=5.0.*,>=4.12 in c:\\truck_delay_classification\\.venv\\lib\\site-packages (from nbformat>=5.0->great-expectations==0.18.12->hsfs) (5.7.2)\n",
      "Requirement already satisfied: jupyter-server<3,>=2.4.0 in c:\\truck_delay_classification\\.venv\\lib\\site-packages (from notebook>=6.4.10->great-expectations==0.18.12->hsfs) (2.14.2)\n",
      "Requirement already satisfied: jupyterlab-server<3,>=2.27.1 in c:\\truck_delay_classification\\.venv\\lib\\site-packages (from notebook>=6.4.10->great-expectations==0.18.12->hsfs) (2.27.3)\n",
      "Requirement already satisfied: jupyterlab<4.3,>=4.2.0 in c:\\truck_delay_classification\\.venv\\lib\\site-packages (from notebook>=6.4.10->great-expectations==0.18.12->hsfs) (4.2.5)\n",
      "Requirement already satisfied: notebook-shim<0.3,>=0.2 in c:\\truck_delay_classification\\.venv\\lib\\site-packages (from notebook>=6.4.10->great-expectations==0.18.12->hsfs) (0.2.4)\n",
      "Requirement already satisfied: tornado>=6.2.0 in c:\\truck_delay_classification\\.venv\\lib\\site-packages (from notebook>=6.4.10->great-expectations==0.18.12->hsfs) (6.4.1)\n",
      "Requirement already satisfied: annotated-types>=0.6.0 in c:\\truck_delay_classification\\.venv\\lib\\site-packages (from pydantic>=1.9.2->great-expectations==0.18.12->hsfs) (0.7.0)\n",
      "Requirement already satisfied: pydantic-core==2.23.4 in c:\\truck_delay_classification\\.venv\\lib\\site-packages (from pydantic>=1.9.2->great-expectations==0.18.12->hsfs) (2.23.4)\n",
      "Requirement already satisfied: pycparser in c:\\truck_delay_classification\\.venv\\lib\\site-packages (from cffi>=1.12->cryptography>=3.2->great-expectations==0.18.12->hsfs) (2.22)\n",
      "Requirement already satisfied: parso<0.9.0,>=0.8.3 in c:\\truck_delay_classification\\.venv\\lib\\site-packages (from jedi>=0.16->Ipython>=7.16.3->great-expectations==0.18.12->hsfs) (0.8.4)\n",
      "Requirement already satisfied: platformdirs>=2.5 in c:\\truck_delay_classification\\.venv\\lib\\site-packages (from jupyter-core!=5.0.*,>=4.12->nbformat>=5.0->great-expectations==0.18.12->hsfs) (4.3.6)\n",
      "Requirement already satisfied: pywin32>=300 in c:\\truck_delay_classification\\.venv\\lib\\site-packages (from jupyter-core!=5.0.*,>=4.12->nbformat>=5.0->great-expectations==0.18.12->hsfs) (306)\n",
      "Requirement already satisfied: anyio>=3.1.0 in c:\\truck_delay_classification\\.venv\\lib\\site-packages (from jupyter-server<3,>=2.4.0->notebook>=6.4.10->great-expectations==0.18.12->hsfs) (4.5.0)\n",
      "Requirement already satisfied: argon2-cffi>=21.1 in c:\\truck_delay_classification\\.venv\\lib\\site-packages (from jupyter-server<3,>=2.4.0->notebook>=6.4.10->great-expectations==0.18.12->hsfs) (23.1.0)\n",
      "Requirement already satisfied: jupyter-client>=7.4.4 in c:\\truck_delay_classification\\.venv\\lib\\site-packages (from jupyter-server<3,>=2.4.0->notebook>=6.4.10->great-expectations==0.18.12->hsfs) (8.6.3)\n",
      "Requirement already satisfied: jupyter-events>=0.9.0 in c:\\truck_delay_classification\\.venv\\lib\\site-packages (from jupyter-server<3,>=2.4.0->notebook>=6.4.10->great-expectations==0.18.12->hsfs) (0.10.0)\n",
      "Requirement already satisfied: jupyter-server-terminals>=0.4.4 in c:\\truck_delay_classification\\.venv\\lib\\site-packages (from jupyter-server<3,>=2.4.0->notebook>=6.4.10->great-expectations==0.18.12->hsfs) (0.5.3)\n",
      "Requirement already satisfied: nbconvert>=6.4.4 in c:\\truck_delay_classification\\.venv\\lib\\site-packages (from jupyter-server<3,>=2.4.0->notebook>=6.4.10->great-expectations==0.18.12->hsfs) (7.16.4)\n",
      "Requirement already satisfied: overrides>=5.0 in c:\\truck_delay_classification\\.venv\\lib\\site-packages (from jupyter-server<3,>=2.4.0->notebook>=6.4.10->great-expectations==0.18.12->hsfs) (7.7.0)\n",
      "Requirement already satisfied: prometheus-client>=0.9 in c:\\truck_delay_classification\\.venv\\lib\\site-packages (from jupyter-server<3,>=2.4.0->notebook>=6.4.10->great-expectations==0.18.12->hsfs) (0.20.0)\n",
      "Requirement already satisfied: pywinpty>=2.0.1 in c:\\truck_delay_classification\\.venv\\lib\\site-packages (from jupyter-server<3,>=2.4.0->notebook>=6.4.10->great-expectations==0.18.12->hsfs) (2.0.13)\n",
      "Requirement already satisfied: pyzmq>=24 in c:\\truck_delay_classification\\.venv\\lib\\site-packages (from jupyter-server<3,>=2.4.0->notebook>=6.4.10->great-expectations==0.18.12->hsfs) (26.2.0)\n",
      "Requirement already satisfied: send2trash>=1.8.2 in c:\\truck_delay_classification\\.venv\\lib\\site-packages (from jupyter-server<3,>=2.4.0->notebook>=6.4.10->great-expectations==0.18.12->hsfs) (1.8.3)\n",
      "Requirement already satisfied: terminado>=0.8.3 in c:\\truck_delay_classification\\.venv\\lib\\site-packages (from jupyter-server<3,>=2.4.0->notebook>=6.4.10->great-expectations==0.18.12->hsfs) (0.18.1)\n",
      "Requirement already satisfied: websocket-client>=1.7 in c:\\truck_delay_classification\\.venv\\lib\\site-packages (from jupyter-server<3,>=2.4.0->notebook>=6.4.10->great-expectations==0.18.12->hsfs) (1.8.0)\n",
      "Requirement already satisfied: async-lru>=1.0.0 in c:\\truck_delay_classification\\.venv\\lib\\site-packages (from jupyterlab<4.3,>=4.2.0->notebook>=6.4.10->great-expectations==0.18.12->hsfs) (2.0.4)\n",
      "Requirement already satisfied: httpx>=0.25.0 in c:\\truck_delay_classification\\.venv\\lib\\site-packages (from jupyterlab<4.3,>=4.2.0->notebook>=6.4.10->great-expectations==0.18.12->hsfs) (0.27.2)\n",
      "Requirement already satisfied: ipykernel>=6.5.0 in c:\\truck_delay_classification\\.venv\\lib\\site-packages (from jupyterlab<4.3,>=4.2.0->notebook>=6.4.10->great-expectations==0.18.12->hsfs) (6.29.5)\n",
      "Requirement already satisfied: jupyter-lsp>=2.0.0 in c:\\truck_delay_classification\\.venv\\lib\\site-packages (from jupyterlab<4.3,>=4.2.0->notebook>=6.4.10->great-expectations==0.18.12->hsfs) (2.2.5)\n",
      "Requirement already satisfied: setuptools>=40.1.0 in c:\\truck_delay_classification\\.venv\\lib\\site-packages (from jupyterlab<4.3,>=4.2.0->notebook>=6.4.10->great-expectations==0.18.12->hsfs) (75.1.0)\n",
      "Requirement already satisfied: babel>=2.10 in c:\\truck_delay_classification\\.venv\\lib\\site-packages (from jupyterlab-server<3,>=2.27.1->notebook>=6.4.10->great-expectations==0.18.12->hsfs) (2.16.0)\n",
      "Requirement already satisfied: json5>=0.9.0 in c:\\truck_delay_classification\\.venv\\lib\\site-packages (from jupyterlab-server<3,>=2.27.1->notebook>=6.4.10->great-expectations==0.18.12->hsfs) (0.9.25)\n",
      "Requirement already satisfied: wcwidth in c:\\truck_delay_classification\\.venv\\lib\\site-packages (from prompt-toolkit<3.1.0,>=3.0.41->Ipython>=7.16.3->great-expectations==0.18.12->hsfs) (0.2.13)\n",
      "Requirement already satisfied: executing>=1.2.0 in c:\\truck_delay_classification\\.venv\\lib\\site-packages (from stack-data->Ipython>=7.16.3->great-expectations==0.18.12->hsfs) (2.1.0)\n",
      "Requirement already satisfied: asttokens>=2.1.0 in c:\\truck_delay_classification\\.venv\\lib\\site-packages (from stack-data->Ipython>=7.16.3->great-expectations==0.18.12->hsfs) (2.4.1)\n",
      "Requirement already satisfied: pure-eval in c:\\truck_delay_classification\\.venv\\lib\\site-packages (from stack-data->Ipython>=7.16.3->great-expectations==0.18.12->hsfs) (0.2.3)\n",
      "Requirement already satisfied: sniffio>=1.1 in c:\\truck_delay_classification\\.venv\\lib\\site-packages (from anyio>=3.1.0->jupyter-server<3,>=2.4.0->notebook>=6.4.10->great-expectations==0.18.12->hsfs) (1.3.1)\n",
      "Requirement already satisfied: argon2-cffi-bindings in c:\\truck_delay_classification\\.venv\\lib\\site-packages (from argon2-cffi>=21.1->jupyter-server<3,>=2.4.0->notebook>=6.4.10->great-expectations==0.18.12->hsfs) (21.2.0)\n",
      "Requirement already satisfied: httpcore==1.* in c:\\truck_delay_classification\\.venv\\lib\\site-packages (from httpx>=0.25.0->jupyterlab<4.3,>=4.2.0->notebook>=6.4.10->great-expectations==0.18.12->hsfs) (1.0.5)\n",
      "Requirement already satisfied: h11<0.15,>=0.13 in c:\\truck_delay_classification\\.venv\\lib\\site-packages (from httpcore==1.*->httpx>=0.25.0->jupyterlab<4.3,>=4.2.0->notebook>=6.4.10->great-expectations==0.18.12->hsfs) (0.14.0)\n",
      "Requirement already satisfied: debugpy>=1.6.5 in c:\\truck_delay_classification\\.venv\\lib\\site-packages (from ipykernel>=6.5.0->jupyterlab<4.3,>=4.2.0->notebook>=6.4.10->great-expectations==0.18.12->hsfs) (1.8.5)\n",
      "Requirement already satisfied: nest-asyncio in c:\\truck_delay_classification\\.venv\\lib\\site-packages (from ipykernel>=6.5.0->jupyterlab<4.3,>=4.2.0->notebook>=6.4.10->great-expectations==0.18.12->hsfs) (1.6.0)\n",
      "Requirement already satisfied: psutil in c:\\truck_delay_classification\\.venv\\lib\\site-packages (from ipykernel>=6.5.0->jupyterlab<4.3,>=4.2.0->notebook>=6.4.10->great-expectations==0.18.12->hsfs) (6.0.0)\n",
      "Requirement already satisfied: python-json-logger>=2.0.4 in c:\\truck_delay_classification\\.venv\\lib\\site-packages (from jupyter-events>=0.9.0->jupyter-server<3,>=2.4.0->notebook>=6.4.10->great-expectations==0.18.12->hsfs) (2.0.7)\n",
      "Requirement already satisfied: pyyaml>=5.3 in c:\\truck_delay_classification\\.venv\\lib\\site-packages (from jupyter-events>=0.9.0->jupyter-server<3,>=2.4.0->notebook>=6.4.10->great-expectations==0.18.12->hsfs) (6.0.2)\n",
      "Requirement already satisfied: rfc3339-validator in c:\\truck_delay_classification\\.venv\\lib\\site-packages (from jupyter-events>=0.9.0->jupyter-server<3,>=2.4.0->notebook>=6.4.10->great-expectations==0.18.12->hsfs) (0.1.4)\n",
      "Requirement already satisfied: rfc3986-validator>=0.1.1 in c:\\truck_delay_classification\\.venv\\lib\\site-packages (from jupyter-events>=0.9.0->jupyter-server<3,>=2.4.0->notebook>=6.4.10->great-expectations==0.18.12->hsfs) (0.1.1)\n",
      "Requirement already satisfied: beautifulsoup4 in c:\\truck_delay_classification\\.venv\\lib\\site-packages (from nbconvert>=6.4.4->jupyter-server<3,>=2.4.0->notebook>=6.4.10->great-expectations==0.18.12->hsfs) (4.12.3)\n",
      "Requirement already satisfied: bleach!=5.0.0 in c:\\truck_delay_classification\\.venv\\lib\\site-packages (from nbconvert>=6.4.4->jupyter-server<3,>=2.4.0->notebook>=6.4.10->great-expectations==0.18.12->hsfs) (6.1.0)\n",
      "Requirement already satisfied: defusedxml in c:\\truck_delay_classification\\.venv\\lib\\site-packages (from nbconvert>=6.4.4->jupyter-server<3,>=2.4.0->notebook>=6.4.10->great-expectations==0.18.12->hsfs) (0.7.1)\n",
      "Requirement already satisfied: jupyterlab-pygments in c:\\truck_delay_classification\\.venv\\lib\\site-packages (from nbconvert>=6.4.4->jupyter-server<3,>=2.4.0->notebook>=6.4.10->great-expectations==0.18.12->hsfs) (0.3.0)\n",
      "Requirement already satisfied: nbclient>=0.5.0 in c:\\truck_delay_classification\\.venv\\lib\\site-packages (from nbconvert>=6.4.4->jupyter-server<3,>=2.4.0->notebook>=6.4.10->great-expectations==0.18.12->hsfs) (0.10.0)\n",
      "Requirement already satisfied: pandocfilters>=1.4.1 in c:\\truck_delay_classification\\.venv\\lib\\site-packages (from nbconvert>=6.4.4->jupyter-server<3,>=2.4.0->notebook>=6.4.10->great-expectations==0.18.12->hsfs) (1.5.1)\n",
      "Requirement already satisfied: tinycss2 in c:\\truck_delay_classification\\.venv\\lib\\site-packages (from nbconvert>=6.4.4->jupyter-server<3,>=2.4.0->notebook>=6.4.10->great-expectations==0.18.12->hsfs) (1.3.0)\n",
      "Requirement already satisfied: webencodings in c:\\truck_delay_classification\\.venv\\lib\\site-packages (from bleach!=5.0.0->nbconvert>=6.4.4->jupyter-server<3,>=2.4.0->notebook>=6.4.10->great-expectations==0.18.12->hsfs) (0.5.1)\n",
      "Requirement already satisfied: fqdn in c:\\truck_delay_classification\\.venv\\lib\\site-packages (from jsonschema[format-nongpl]>=4.18.0->jupyter-events>=0.9.0->jupyter-server<3,>=2.4.0->notebook>=6.4.10->great-expectations==0.18.12->hsfs) (1.5.1)\n",
      "Requirement already satisfied: isoduration in c:\\truck_delay_classification\\.venv\\lib\\site-packages (from jsonschema[format-nongpl]>=4.18.0->jupyter-events>=0.9.0->jupyter-server<3,>=2.4.0->notebook>=6.4.10->great-expectations==0.18.12->hsfs) (20.11.0)\n",
      "Requirement already satisfied: uri-template in c:\\truck_delay_classification\\.venv\\lib\\site-packages (from jsonschema[format-nongpl]>=4.18.0->jupyter-events>=0.9.0->jupyter-server<3,>=2.4.0->notebook>=6.4.10->great-expectations==0.18.12->hsfs) (1.3.0)\n",
      "Requirement already satisfied: webcolors>=24.6.0 in c:\\truck_delay_classification\\.venv\\lib\\site-packages (from jsonschema[format-nongpl]>=4.18.0->jupyter-events>=0.9.0->jupyter-server<3,>=2.4.0->notebook>=6.4.10->great-expectations==0.18.12->hsfs) (24.8.0)\n",
      "Requirement already satisfied: soupsieve>1.2 in c:\\truck_delay_classification\\.venv\\lib\\site-packages (from beautifulsoup4->nbconvert>=6.4.4->jupyter-server<3,>=2.4.0->notebook>=6.4.10->great-expectations==0.18.12->hsfs) (2.6)\n",
      "Requirement already satisfied: arrow>=0.15.0 in c:\\truck_delay_classification\\.venv\\lib\\site-packages (from isoduration->jsonschema[format-nongpl]>=4.18.0->jupyter-events>=0.9.0->jupyter-server<3,>=2.4.0->notebook>=6.4.10->great-expectations==0.18.12->hsfs) (1.3.0)\n",
      "Requirement already satisfied: types-python-dateutil>=2.8.10 in c:\\truck_delay_classification\\.venv\\lib\\site-packages (from arrow>=0.15.0->isoduration->jsonschema[format-nongpl]>=4.18.0->jupyter-events>=0.9.0->jupyter-server<3,>=2.4.0->notebook>=6.4.10->great-expectations==0.18.12->hsfs) (2.9.0.20240906)\n"
     ]
    }
   ],
   "source": [
    "pip install hsfs"
   ]
  },
  {
   "cell_type": "code",
   "execution_count": 82,
   "metadata": {},
   "outputs": [
    {
     "name": "stdout",
     "output_type": "stream",
     "text": [
      "Connected. Call `.close()` to terminate connection gracefully.\n",
      "Feature Store Name: truckdelays_pipelines_featurestore\n"
     ]
    }
   ],
   "source": [
    "import hsfs\n",
    "\n",
    "# Set up your API key for Hopsworks\n",
    "api_key = \"dRzrIhSDhpZjLQCd.ZLlcViwwQqM7IDTQwTVfaJqrxxS4vqCjGIVMrysEcmFocLbAuMHTAXbF0ona7QzB\"\n",
    "\n",
    "# Set your project name\n",
    "project_name = \"Your_Project_Name\"  # Replace with your project name\n",
    "\n",
    "# Initialize connection to Hopsworks\n",
    "connection = hsfs.connection(\n",
    "    host=\"c.app.hopsworks.ai\",  # Hopsworks host\n",
    "    port=443,                   # Default port for Hopsworks\n",
    "    project=project_name,        # Your Hopsworks project name\n",
    "    api_key_value=api_key,       # Your API key\n",
    "    hostname_verification=False  # Optional: Turn off SSL verification\n",
    ")\n",
    "\n",
    "# Get the feature store for your project\n",
    "fs = connection.get_feature_store()\n",
    "\n",
    "# Print the feature store details\n",
    "print(f\"Feature Store Name: {fs.name}\")\n"
   ]
  },
  {
   "cell_type": "code",
   "execution_count": 83,
   "metadata": {},
   "outputs": [
    {
     "name": "stdout",
     "output_type": "stream",
     "text": [
      "Connection closed.\n",
      "Connected. Call `.close()` to terminate connection gracefully.\n",
      "\n",
      "Logged in to project, explore it here https://c.app.hopsworks.ai:443/p/1043610\n",
      "Connected. Call `.close()` to terminate connection gracefully.\n",
      "2024-09-27 14:39:50,112 WARNING: DeprecationWarning: ssl.PROTOCOL_TLS is deprecated\n",
      "\n",
      "Finished: Reading data from Hopsworks, using Hive (7.20s) \n",
      "       rowindex     city_id  temp  wind_speed    description  precip  \\\n",
      "0          4592  C-451776b7    61           1          Sunny     0.0   \n",
      "1         12379  C-ef47bdcd    41           4  Partly cloudy     0.0   \n",
      "2          8297  C-731988ba    73           4          Sunny     0.0   \n",
      "3         42087  C-d9e9d934    45           6  Partly cloudy     0.0   \n",
      "4           165  C-927ceb5e    43           6  Partly cloudy     0.0   \n",
      "...         ...         ...   ...         ...            ...     ...   \n",
      "55171     11817  C-c7cacd1d    16          11         Cloudy     0.0   \n",
      "55172     26108  C-f5ed4c15    10           2  Partly cloudy     0.0   \n",
      "55173     27293  C-6df8beaf    52           9         Cloudy     0.0   \n",
      "55174     48097  C-90e30162    43           4          Clear     0.0   \n",
      "55175     16150  C-6ea51d66    37          10  Moderate rain     0.1   \n",
      "\n",
      "       humidity  visibility  pressure event_time                date  \n",
      "0            64           6      1021 2024-09-17 2019-01-08 07:00:00  \n",
      "1            49           6      1015 2024-09-17 2019-01-10 18:00:00  \n",
      "2            57           6      1011 2024-09-17 2019-01-24 16:00:00  \n",
      "3            63           6      1029 2024-09-17 2019-01-07 14:00:00  \n",
      "4            82           6      1009 2024-09-17 2019-01-07 20:00:00  \n",
      "...         ...         ...       ...        ...                 ...  \n",
      "55171        73           6      1023 2024-09-17 2019-02-02 08:00:00  \n",
      "55172        86           6      1024 2024-09-17 2019-01-31 19:00:00  \n",
      "55173        94           6      1005 2024-09-17 2019-02-04 04:00:00  \n",
      "55174        90           6      1016 2024-09-17 2019-01-28 00:00:00  \n",
      "55175        84           4      1007 2024-09-17 2019-01-29 21:00:00  \n",
      "\n",
      "[55176 rows x 11 columns]\n"
     ]
    }
   ],
   "source": [
    "# Corrected code to read the feature group using Hive\n",
    "import hopsworks\n",
    "\n",
    "# Initialize connection to Hopsworks\n",
    "connection = hopsworks.login(\n",
    "    api_key_value=\"dRzrIhSDhpZjLQCd.ZLlcViwwQqM7IDTQwTVfaJqrxxS4vqCjGIVMrysEcmFocLbAuMHTAXbF0ona7QzB\"\n",
    ")\n",
    "\n",
    "# Get feature store\n",
    "fs = connection.get_feature_store()\n",
    "\n",
    "# Get the feature group\n",
    "feature_group = fs.get_feature_group(name=\"city_weather\", version=1)\n",
    "\n",
    "# Load the feature group into a pandas DataFrame using Hive\n",
    "df = feature_group.read(read_options={\"use_hive\": True})\n",
    "\n",
    "# Print the DataFrame to verify the data\n",
    "print(df)\n"
   ]
  },
  {
   "cell_type": "markdown",
   "metadata": {},
   "source": [
    "Plotting the histogram for the numerical columns"
   ]
  },
  {
   "cell_type": "code",
   "execution_count": 84,
   "metadata": {},
   "outputs": [
    {
     "data": {
      "image/png": "[encoded data removed]",
      "text/plain": [
       "<Figure size 800x600 with 1 Axes>"
      ]
     },
     "metadata": {},
     "output_type": "display_data"
    },
    {
     "data": {
      "image/png": "[encoded data removed]",
      "text/plain": [
       "<Figure size 800x600 with 1 Axes>"
      ]
     },
     "metadata": {},
     "output_type": "display_data"
    },
    {
     "data": {
      "image/png": "[encoded data removed]",
      "text/plain": [
       "<Figure size 800x600 with 1 Axes>"
      ]
     },
     "metadata": {},
     "output_type": "display_data"
    },
    {
     "data": {
      "image/png": "[encoded data removed]",
      "text/plain": [
       "<Figure size 800x600 with 1 Axes>"
      ]
     },
     "metadata": {},
     "output_type": "display_data"
    },
    {
     "data": {
      "image/png": "[encoded data removed]",
      "text/plain": [
       "<Figure size 800x600 with 1 Axes>"
      ]
     },
     "metadata": {},
     "output_type": "display_data"
    },
    {
     "data": {
      "image/png": "[encoded data removed]",
      "text/plain": [
       "<Figure size 800x600 with 1 Axes>"
      ]
     },
     "metadata": {},
     "output_type": "display_data"
    }
   ],
   "source": [
    "# List of columns for which you want to plot histograms\n",
    "columns_to_plot = ['temp', 'wind_speed', 'precip','humidity','visibility','pressure']\n",
    "\n",
    "def plot_histograms(dataframe, columns):\n",
    "    \"\"\"\n",
    "    Function to plot histograms for specific columns in the DataFrame.\n",
    "\n",
    "    Parameters:\n",
    "    dataframe (pd.DataFrame): The DataFrame containing the data.\n",
    "    columns (list): List of column names to generate histograms for.\n",
    "    \"\"\"\n",
    "    # Loop through the list of columns and generate a histogram for each\n",
    "    for column in columns:\n",
    "        if column in dataframe.columns:\n",
    "            plt.figure(figsize=(8, 6))  # Set the figure size\n",
    "            plt.hist(dataframe[column].dropna(), bins=20, color='skyblue', edgecolor='black')  # Plot the histogram\n",
    "            plt.title(f'Histogram for {column}', fontsize=14)  # Set title\n",
    "            plt.xlabel(column, fontsize=12)  # X-axis label\n",
    "            plt.ylabel('Frequency', fontsize=12)  # Y-axis label\n",
    "            plt.grid(True)  # Enable grid\n",
    "            plt.show()  # Display the plot\n",
    "        else:\n",
    "            print(f\"Column {column} does not exist in the DataFrame.\")\n",
    "\n",
    "# Call the function to plot histograms\n",
    "plot_histograms(df, columns_to_plot)"
   ]
  }
 ],
 "metadata": {
  "kernelspec": {
   "display_name": ".venv",
   "language": "python",
   "name": "python3"
  },
  "language_info": {
   "codemirror_mode": {
    "name": "ipython",
    "version": 3
   },
   "file_extension": ".py",
   "mimetype": "text/x-python",
   "name": "python",
   "nbconvert_exporter": "python",
   "pygments_lexer": "ipython3",
   "version": "3.12.4"
  }
 },
 "nbformat": 4,
 "nbformat_minor": 2
}
