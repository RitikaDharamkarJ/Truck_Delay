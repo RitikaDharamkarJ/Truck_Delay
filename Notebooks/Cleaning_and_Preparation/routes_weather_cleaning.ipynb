{
 "cells": [
  {
   "cell_type": "code",
   "execution_count": 2,
   "metadata": {},
   "outputs": [],
   "source": [
    "import pandas as pd\n",
    "import numpy as np\n",
    "import matplotlib.pyplot as plt\n",
    "import seaborn as sns\n",
    "from sklearn.preprocessing import StandardScaler, LabelEncoder, OneHotEncoder"
   ]
  },
  {
   "cell_type": "code",
   "execution_count": null,
   "metadata": {},
   "outputs": [],
   "source": [
    "import sys\n",
    "import os\n",
    "\n",
    "# Add the project root to sys.path (adjust the path as needed)\n",
    "project_root = os.path.abspath(os.path.join(os.getcwd(), \"../../\"))\n",
    "sys.path.append(project_root)\n",
    "\n",
    "# Now try to import the DataIngestion class\n",
    "from src.components.data_ingestion import DataIngestion\n",
    "\n",
    "# Initialize the DataIngestion object\n",
    "ingestion = DataIngestion()\n",
    "\n",
    "# Load data from the database\n",
    "df_routes_weather  = ingestion.load_dataframe('routes_weather')\n",
    "\n",
    "# Display the data\n",
    "print(df_routes_weather.head())"
   ]
  },
  {
   "cell_type": "code",
   "execution_count": 3,
   "metadata": {},
   "outputs": [
    {
     "data": {
      "text/html": [
       "<div>\n",
       "<style scoped>\n",
       "    .dataframe tbody tr th:only-of-type {\n",
       "        vertical-align: middle;\n",
       "    }\n",
       "\n",
       "    .dataframe tbody tr th {\n",
       "        vertical-align: top;\n",
       "    }\n",
       "\n",
       "    .dataframe thead th {\n",
       "        text-align: right;\n",
       "    }\n",
       "</style>\n",
       "<table border=\"1\" class=\"dataframe\">\n",
       "  <thead>\n",
       "    <tr style=\"text-align: right;\">\n",
       "      <th></th>\n",
       "      <th>route_id</th>\n",
       "      <th>Date</th>\n",
       "      <th>temp</th>\n",
       "      <th>wind_speed</th>\n",
       "      <th>description</th>\n",
       "      <th>precip</th>\n",
       "      <th>humidity</th>\n",
       "      <th>visibility</th>\n",
       "      <th>pressure</th>\n",
       "      <th>chanceofrain</th>\n",
       "      <th>chanceoffog</th>\n",
       "      <th>chanceofsnow</th>\n",
       "      <th>chanceofthunder</th>\n",
       "    </tr>\n",
       "  </thead>\n",
       "  <tbody>\n",
       "    <tr>\n",
       "      <th>0</th>\n",
       "      <td>R-ada2a391</td>\n",
       "      <td>2019-01-01 00:00:00</td>\n",
       "      <td>30</td>\n",
       "      <td>11</td>\n",
       "      <td>Heavy snow</td>\n",
       "      <td>0.0</td>\n",
       "      <td>90</td>\n",
       "      <td>1</td>\n",
       "      <td>1010</td>\n",
       "      <td>0</td>\n",
       "      <td>0</td>\n",
       "      <td>0</td>\n",
       "      <td>0</td>\n",
       "    </tr>\n",
       "    <tr>\n",
       "      <th>1</th>\n",
       "      <td>R-ada2a391</td>\n",
       "      <td>2019-01-01 06:00:00</td>\n",
       "      <td>30</td>\n",
       "      <td>11</td>\n",
       "      <td>Heavy snow</td>\n",
       "      <td>0.0</td>\n",
       "      <td>91</td>\n",
       "      <td>3</td>\n",
       "      <td>1012</td>\n",
       "      <td>0</td>\n",
       "      <td>0</td>\n",
       "      <td>0</td>\n",
       "      <td>0</td>\n",
       "    </tr>\n",
       "    <tr>\n",
       "      <th>2</th>\n",
       "      <td>R-ada2a391</td>\n",
       "      <td>2019-01-02 00:00:00</td>\n",
       "      <td>28</td>\n",
       "      <td>11</td>\n",
       "      <td>Cloudy</td>\n",
       "      <td>0.0</td>\n",
       "      <td>91</td>\n",
       "      <td>4</td>\n",
       "      <td>1013</td>\n",
       "      <td>0</td>\n",
       "      <td>0</td>\n",
       "      <td>0</td>\n",
       "      <td>0</td>\n",
       "    </tr>\n",
       "    <tr>\n",
       "      <th>3</th>\n",
       "      <td>R-ada2a391</td>\n",
       "      <td>2019-01-02 06:00:00</td>\n",
       "      <td>27</td>\n",
       "      <td>11</td>\n",
       "      <td>Cloudy</td>\n",
       "      <td>0.0</td>\n",
       "      <td>92</td>\n",
       "      <td>6</td>\n",
       "      <td>1015</td>\n",
       "      <td>0</td>\n",
       "      <td>0</td>\n",
       "      <td>0</td>\n",
       "      <td>0</td>\n",
       "    </tr>\n",
       "    <tr>\n",
       "      <th>4</th>\n",
       "      <td>R-ada2a391</td>\n",
       "      <td>2019-01-03 00:00:00</td>\n",
       "      <td>27</td>\n",
       "      <td>9</td>\n",
       "      <td>Cloudy</td>\n",
       "      <td>0.0</td>\n",
       "      <td>93</td>\n",
       "      <td>6</td>\n",
       "      <td>1016</td>\n",
       "      <td>0</td>\n",
       "      <td>0</td>\n",
       "      <td>0</td>\n",
       "      <td>0</td>\n",
       "    </tr>\n",
       "    <tr>\n",
       "      <th>...</th>\n",
       "      <td>...</td>\n",
       "      <td>...</td>\n",
       "      <td>...</td>\n",
       "      <td>...</td>\n",
       "      <td>...</td>\n",
       "      <td>...</td>\n",
       "      <td>...</td>\n",
       "      <td>...</td>\n",
       "      <td>...</td>\n",
       "      <td>...</td>\n",
       "      <td>...</td>\n",
       "      <td>...</td>\n",
       "      <td>...</td>\n",
       "    </tr>\n",
       "    <tr>\n",
       "      <th>425707</th>\n",
       "      <td>R-2fd2ee05</td>\n",
       "      <td>2019-02-12 18:00:00</td>\n",
       "      <td>70</td>\n",
       "      <td>12</td>\n",
       "      <td>Sunny</td>\n",
       "      <td>0.0</td>\n",
       "      <td>53</td>\n",
       "      <td>6</td>\n",
       "      <td>1015</td>\n",
       "      <td>0</td>\n",
       "      <td>0</td>\n",
       "      <td>0</td>\n",
       "      <td>0</td>\n",
       "    </tr>\n",
       "    <tr>\n",
       "      <th>425708</th>\n",
       "      <td>R-2fd2ee05</td>\n",
       "      <td>2019-02-13 12:00:00</td>\n",
       "      <td>68</td>\n",
       "      <td>11</td>\n",
       "      <td>Sunny</td>\n",
       "      <td>0.0</td>\n",
       "      <td>57</td>\n",
       "      <td>6</td>\n",
       "      <td>1015</td>\n",
       "      <td>0</td>\n",
       "      <td>0</td>\n",
       "      <td>0</td>\n",
       "      <td>0</td>\n",
       "    </tr>\n",
       "    <tr>\n",
       "      <th>425709</th>\n",
       "      <td>R-2fd2ee05</td>\n",
       "      <td>2019-02-13 18:00:00</td>\n",
       "      <td>66</td>\n",
       "      <td>9</td>\n",
       "      <td>Sunny</td>\n",
       "      <td>0.0</td>\n",
       "      <td>62</td>\n",
       "      <td>6</td>\n",
       "      <td>1015</td>\n",
       "      <td>0</td>\n",
       "      <td>0</td>\n",
       "      <td>0</td>\n",
       "      <td>0</td>\n",
       "    </tr>\n",
       "    <tr>\n",
       "      <th>425710</th>\n",
       "      <td>R-2fd2ee05</td>\n",
       "      <td>2019-02-14 12:00:00</td>\n",
       "      <td>63</td>\n",
       "      <td>7</td>\n",
       "      <td>Clear</td>\n",
       "      <td>0.0</td>\n",
       "      <td>66</td>\n",
       "      <td>6</td>\n",
       "      <td>1015</td>\n",
       "      <td>0</td>\n",
       "      <td>0</td>\n",
       "      <td>0</td>\n",
       "      <td>0</td>\n",
       "    </tr>\n",
       "    <tr>\n",
       "      <th>425711</th>\n",
       "      <td>R-2fd2ee05</td>\n",
       "      <td>2019-02-14 18:00:00</td>\n",
       "      <td>61</td>\n",
       "      <td>6</td>\n",
       "      <td>Clear</td>\n",
       "      <td>0.0</td>\n",
       "      <td>69</td>\n",
       "      <td>6</td>\n",
       "      <td>1015</td>\n",
       "      <td>0</td>\n",
       "      <td>0</td>\n",
       "      <td>0</td>\n",
       "      <td>0</td>\n",
       "    </tr>\n",
       "  </tbody>\n",
       "</table>\n",
       "<p>425712 rows × 13 columns</p>\n",
       "</div>"
      ],
      "text/plain": [
       "          route_id                 Date  temp  wind_speed description  precip  \\\n",
       "0       R-ada2a391  2019-01-01 00:00:00    30          11  Heavy snow     0.0   \n",
       "1       R-ada2a391  2019-01-01 06:00:00    30          11  Heavy snow     0.0   \n",
       "2       R-ada2a391  2019-01-02 00:00:00    28          11      Cloudy     0.0   \n",
       "3       R-ada2a391  2019-01-02 06:00:00    27          11      Cloudy     0.0   \n",
       "4       R-ada2a391  2019-01-03 00:00:00    27           9      Cloudy     0.0   \n",
       "...            ...                  ...   ...         ...         ...     ...   \n",
       "425707  R-2fd2ee05  2019-02-12 18:00:00    70          12       Sunny     0.0   \n",
       "425708  R-2fd2ee05  2019-02-13 12:00:00    68          11       Sunny     0.0   \n",
       "425709  R-2fd2ee05  2019-02-13 18:00:00    66           9       Sunny     0.0   \n",
       "425710  R-2fd2ee05  2019-02-14 12:00:00    63           7       Clear     0.0   \n",
       "425711  R-2fd2ee05  2019-02-14 18:00:00    61           6       Clear     0.0   \n",
       "\n",
       "        humidity  visibility  pressure  chanceofrain  chanceoffog  \\\n",
       "0             90           1      1010             0            0   \n",
       "1             91           3      1012             0            0   \n",
       "2             91           4      1013             0            0   \n",
       "3             92           6      1015             0            0   \n",
       "4             93           6      1016             0            0   \n",
       "...          ...         ...       ...           ...          ...   \n",
       "425707        53           6      1015             0            0   \n",
       "425708        57           6      1015             0            0   \n",
       "425709        62           6      1015             0            0   \n",
       "425710        66           6      1015             0            0   \n",
       "425711        69           6      1015             0            0   \n",
       "\n",
       "        chanceofsnow  chanceofthunder  \n",
       "0                  0                0  \n",
       "1                  0                0  \n",
       "2                  0                0  \n",
       "3                  0                0  \n",
       "4                  0                0  \n",
       "...              ...              ...  \n",
       "425707             0                0  \n",
       "425708             0                0  \n",
       "425709             0                0  \n",
       "425710             0                0  \n",
       "425711             0                0  \n",
       "\n",
       "[425712 rows x 13 columns]"
      ]
     },
     "execution_count": 3,
     "metadata": {},
     "output_type": "execute_result"
    }
   ],
   "source": [
    "# path1=r\"C:\\Truck_Delay_Classification\\Data\\raw_data\\training_data\\routes_weather_extracted.csv\"\n",
    "# df=pd.read_csv(path1)\n",
    "# df"
   ]
  },
  {
   "cell_type": "code",
   "execution_count": 4,
   "metadata": {},
   "outputs": [
    {
     "data": {
      "text/plain": [
       "(425712, 13)"
      ]
     },
     "execution_count": 4,
     "metadata": {},
     "output_type": "execute_result"
    }
   ],
   "source": [
    "df.shape"
   ]
  },
  {
   "cell_type": "code",
   "execution_count": 5,
   "metadata": {},
   "outputs": [
    {
     "data": {
      "text/plain": [
       "<bound method DataFrame.info of           route_id                 Date  temp  wind_speed description  precip  \\\n",
       "0       R-ada2a391  2019-01-01 00:00:00    30          11  Heavy snow     0.0   \n",
       "1       R-ada2a391  2019-01-01 06:00:00    30          11  Heavy snow     0.0   \n",
       "2       R-ada2a391  2019-01-02 00:00:00    28          11      Cloudy     0.0   \n",
       "3       R-ada2a391  2019-01-02 06:00:00    27          11      Cloudy     0.0   \n",
       "4       R-ada2a391  2019-01-03 00:00:00    27           9      Cloudy     0.0   \n",
       "...            ...                  ...   ...         ...         ...     ...   \n",
       "425707  R-2fd2ee05  2019-02-12 18:00:00    70          12       Sunny     0.0   \n",
       "425708  R-2fd2ee05  2019-02-13 12:00:00    68          11       Sunny     0.0   \n",
       "425709  R-2fd2ee05  2019-02-13 18:00:00    66           9       Sunny     0.0   \n",
       "425710  R-2fd2ee05  2019-02-14 12:00:00    63           7       Clear     0.0   \n",
       "425711  R-2fd2ee05  2019-02-14 18:00:00    61           6       Clear     0.0   \n",
       "\n",
       "        humidity  visibility  pressure  chanceofrain  chanceoffog  \\\n",
       "0             90           1      1010             0            0   \n",
       "1             91           3      1012             0            0   \n",
       "2             91           4      1013             0            0   \n",
       "3             92           6      1015             0            0   \n",
       "4             93           6      1016             0            0   \n",
       "...          ...         ...       ...           ...          ...   \n",
       "425707        53           6      1015             0            0   \n",
       "425708        57           6      1015             0            0   \n",
       "425709        62           6      1015             0            0   \n",
       "425710        66           6      1015             0            0   \n",
       "425711        69           6      1015             0            0   \n",
       "\n",
       "        chanceofsnow  chanceofthunder  \n",
       "0                  0                0  \n",
       "1                  0                0  \n",
       "2                  0                0  \n",
       "3                  0                0  \n",
       "4                  0                0  \n",
       "...              ...              ...  \n",
       "425707             0                0  \n",
       "425708             0                0  \n",
       "425709             0                0  \n",
       "425710             0                0  \n",
       "425711             0                0  \n",
       "\n",
       "[425712 rows x 13 columns]>"
      ]
     },
     "execution_count": 5,
     "metadata": {},
     "output_type": "execute_result"
    }
   ],
   "source": [
    "df.info"
   ]
  },
  {
   "cell_type": "code",
   "execution_count": 6,
   "metadata": {},
   "outputs": [
    {
     "data": {
      "text/plain": [
       "<bound method NDFrame.describe of           route_id                 Date  temp  wind_speed description  precip  \\\n",
       "0       R-ada2a391  2019-01-01 00:00:00    30          11  Heavy snow     0.0   \n",
       "1       R-ada2a391  2019-01-01 06:00:00    30          11  Heavy snow     0.0   \n",
       "2       R-ada2a391  2019-01-02 00:00:00    28          11      Cloudy     0.0   \n",
       "3       R-ada2a391  2019-01-02 06:00:00    27          11      Cloudy     0.0   \n",
       "4       R-ada2a391  2019-01-03 00:00:00    27           9      Cloudy     0.0   \n",
       "...            ...                  ...   ...         ...         ...     ...   \n",
       "425707  R-2fd2ee05  2019-02-12 18:00:00    70          12       Sunny     0.0   \n",
       "425708  R-2fd2ee05  2019-02-13 12:00:00    68          11       Sunny     0.0   \n",
       "425709  R-2fd2ee05  2019-02-13 18:00:00    66           9       Sunny     0.0   \n",
       "425710  R-2fd2ee05  2019-02-14 12:00:00    63           7       Clear     0.0   \n",
       "425711  R-2fd2ee05  2019-02-14 18:00:00    61           6       Clear     0.0   \n",
       "\n",
       "        humidity  visibility  pressure  chanceofrain  chanceoffog  \\\n",
       "0             90           1      1010             0            0   \n",
       "1             91           3      1012             0            0   \n",
       "2             91           4      1013             0            0   \n",
       "3             92           6      1015             0            0   \n",
       "4             93           6      1016             0            0   \n",
       "...          ...         ...       ...           ...          ...   \n",
       "425707        53           6      1015             0            0   \n",
       "425708        57           6      1015             0            0   \n",
       "425709        62           6      1015             0            0   \n",
       "425710        66           6      1015             0            0   \n",
       "425711        69           6      1015             0            0   \n",
       "\n",
       "        chanceofsnow  chanceofthunder  \n",
       "0                  0                0  \n",
       "1                  0                0  \n",
       "2                  0                0  \n",
       "3                  0                0  \n",
       "4                  0                0  \n",
       "...              ...              ...  \n",
       "425707             0                0  \n",
       "425708             0                0  \n",
       "425709             0                0  \n",
       "425710             0                0  \n",
       "425711             0                0  \n",
       "\n",
       "[425712 rows x 13 columns]>"
      ]
     },
     "execution_count": 6,
     "metadata": {},
     "output_type": "execute_result"
    }
   ],
   "source": [
    "df.describe"
   ]
  },
  {
   "cell_type": "code",
   "execution_count": 7,
   "metadata": {},
   "outputs": [
    {
     "data": {
      "text/html": [
       "<div>\n",
       "<style scoped>\n",
       "    .dataframe tbody tr th:only-of-type {\n",
       "        vertical-align: middle;\n",
       "    }\n",
       "\n",
       "    .dataframe tbody tr th {\n",
       "        vertical-align: top;\n",
       "    }\n",
       "\n",
       "    .dataframe thead th {\n",
       "        text-align: right;\n",
       "    }\n",
       "</style>\n",
       "<table border=\"1\" class=\"dataframe\">\n",
       "  <thead>\n",
       "    <tr style=\"text-align: right;\">\n",
       "      <th></th>\n",
       "      <th>route_id</th>\n",
       "      <th>Date</th>\n",
       "      <th>temp</th>\n",
       "      <th>wind_speed</th>\n",
       "      <th>description</th>\n",
       "      <th>precip</th>\n",
       "      <th>humidity</th>\n",
       "      <th>visibility</th>\n",
       "      <th>pressure</th>\n",
       "      <th>chanceofrain</th>\n",
       "      <th>chanceoffog</th>\n",
       "      <th>chanceofsnow</th>\n",
       "      <th>chanceofthunder</th>\n",
       "    </tr>\n",
       "  </thead>\n",
       "  <tbody>\n",
       "    <tr>\n",
       "      <th>0</th>\n",
       "      <td>R-ada2a391</td>\n",
       "      <td>2019-01-01 00:00:00</td>\n",
       "      <td>30</td>\n",
       "      <td>11</td>\n",
       "      <td>Heavy snow</td>\n",
       "      <td>0.0</td>\n",
       "      <td>90</td>\n",
       "      <td>1</td>\n",
       "      <td>1010</td>\n",
       "      <td>0</td>\n",
       "      <td>0</td>\n",
       "      <td>0</td>\n",
       "      <td>0</td>\n",
       "    </tr>\n",
       "    <tr>\n",
       "      <th>1</th>\n",
       "      <td>R-ada2a391</td>\n",
       "      <td>2019-01-01 06:00:00</td>\n",
       "      <td>30</td>\n",
       "      <td>11</td>\n",
       "      <td>Heavy snow</td>\n",
       "      <td>0.0</td>\n",
       "      <td>91</td>\n",
       "      <td>3</td>\n",
       "      <td>1012</td>\n",
       "      <td>0</td>\n",
       "      <td>0</td>\n",
       "      <td>0</td>\n",
       "      <td>0</td>\n",
       "    </tr>\n",
       "    <tr>\n",
       "      <th>2</th>\n",
       "      <td>R-ada2a391</td>\n",
       "      <td>2019-01-02 00:00:00</td>\n",
       "      <td>28</td>\n",
       "      <td>11</td>\n",
       "      <td>Cloudy</td>\n",
       "      <td>0.0</td>\n",
       "      <td>91</td>\n",
       "      <td>4</td>\n",
       "      <td>1013</td>\n",
       "      <td>0</td>\n",
       "      <td>0</td>\n",
       "      <td>0</td>\n",
       "      <td>0</td>\n",
       "    </tr>\n",
       "    <tr>\n",
       "      <th>3</th>\n",
       "      <td>R-ada2a391</td>\n",
       "      <td>2019-01-02 06:00:00</td>\n",
       "      <td>27</td>\n",
       "      <td>11</td>\n",
       "      <td>Cloudy</td>\n",
       "      <td>0.0</td>\n",
       "      <td>92</td>\n",
       "      <td>6</td>\n",
       "      <td>1015</td>\n",
       "      <td>0</td>\n",
       "      <td>0</td>\n",
       "      <td>0</td>\n",
       "      <td>0</td>\n",
       "    </tr>\n",
       "    <tr>\n",
       "      <th>4</th>\n",
       "      <td>R-ada2a391</td>\n",
       "      <td>2019-01-03 00:00:00</td>\n",
       "      <td>27</td>\n",
       "      <td>9</td>\n",
       "      <td>Cloudy</td>\n",
       "      <td>0.0</td>\n",
       "      <td>93</td>\n",
       "      <td>6</td>\n",
       "      <td>1016</td>\n",
       "      <td>0</td>\n",
       "      <td>0</td>\n",
       "      <td>0</td>\n",
       "      <td>0</td>\n",
       "    </tr>\n",
       "  </tbody>\n",
       "</table>\n",
       "</div>"
      ],
      "text/plain": [
       "     route_id                 Date  temp  wind_speed description  precip  \\\n",
       "0  R-ada2a391  2019-01-01 00:00:00    30          11  Heavy snow     0.0   \n",
       "1  R-ada2a391  2019-01-01 06:00:00    30          11  Heavy snow     0.0   \n",
       "2  R-ada2a391  2019-01-02 00:00:00    28          11      Cloudy     0.0   \n",
       "3  R-ada2a391  2019-01-02 06:00:00    27          11      Cloudy     0.0   \n",
       "4  R-ada2a391  2019-01-03 00:00:00    27           9      Cloudy     0.0   \n",
       "\n",
       "   humidity  visibility  pressure  chanceofrain  chanceoffog  chanceofsnow  \\\n",
       "0        90           1      1010             0            0             0   \n",
       "1        91           3      1012             0            0             0   \n",
       "2        91           4      1013             0            0             0   \n",
       "3        92           6      1015             0            0             0   \n",
       "4        93           6      1016             0            0             0   \n",
       "\n",
       "   chanceofthunder  \n",
       "0                0  \n",
       "1                0  \n",
       "2                0  \n",
       "3                0  \n",
       "4                0  "
      ]
     },
     "execution_count": 7,
     "metadata": {},
     "output_type": "execute_result"
    }
   ],
   "source": [
    "df.head()\n",
    "\n",
    "'temp', 'wind_speed', 'precip','humidity', 'pressure'"
   ]
  },
  {
   "cell_type": "code",
   "execution_count": 8,
   "metadata": {},
   "outputs": [
    {
     "name": "stdout",
     "output_type": "stream",
     "text": [
      "route_id           0\n",
      "Date               0\n",
      "temp               0\n",
      "wind_speed         0\n",
      "description        0\n",
      "precip             0\n",
      "humidity           0\n",
      "visibility         0\n",
      "pressure           0\n",
      "chanceofrain       0\n",
      "chanceoffog        0\n",
      "chanceofsnow       0\n",
      "chanceofthunder    0\n",
      "dtype: int64\n"
     ]
    }
   ],
   "source": [
    "print(df.isnull().sum())"
   ]
  },
  {
   "cell_type": "markdown",
   "metadata": {},
   "source": [
    "Hence no missing values"
   ]
  },
  {
   "cell_type": "code",
   "execution_count": 9,
   "metadata": {},
   "outputs": [
    {
     "data": {
      "text/plain": [
       "np.int64(0)"
      ]
     },
     "execution_count": 9,
     "metadata": {},
     "output_type": "execute_result"
    }
   ],
   "source": [
    "df.duplicated().sum()"
   ]
  },
  {
   "cell_type": "markdown",
   "metadata": {},
   "source": [
    "hence no duplicate values"
   ]
  },
  {
   "cell_type": "code",
   "execution_count": 10,
   "metadata": {},
   "outputs": [
    {
     "data": {
      "text/plain": [
       "Index(['route_id', 'Date', 'temp', 'wind_speed', 'description', 'precip',\n",
       "       'humidity', 'visibility', 'pressure', 'chanceofrain', 'chanceoffog',\n",
       "       'chanceofsnow', 'chanceofthunder'],\n",
       "      dtype='object')"
      ]
     },
     "execution_count": 10,
     "metadata": {},
     "output_type": "execute_result"
    }
   ],
   "source": [
    "df.columns"
   ]
  },
  {
   "cell_type": "code",
   "execution_count": 11,
   "metadata": {},
   "outputs": [
    {
     "data": {
      "text/plain": [
       "chanceofrain\n",
       "0    425712\n",
       "Name: count, dtype: int64"
      ]
     },
     "execution_count": 11,
     "metadata": {},
     "output_type": "execute_result"
    }
   ],
   "source": [
    "df.chanceofrain.value_counts()"
   ]
  },
  {
   "cell_type": "code",
   "execution_count": 12,
   "metadata": {},
   "outputs": [
    {
     "data": {
      "text/plain": [
       "chanceoffog\n",
       "0    425712\n",
       "Name: count, dtype: int64"
      ]
     },
     "execution_count": 12,
     "metadata": {},
     "output_type": "execute_result"
    }
   ],
   "source": [
    "df.chanceoffog.value_counts()"
   ]
  },
  {
   "cell_type": "code",
   "execution_count": 13,
   "metadata": {},
   "outputs": [
    {
     "data": {
      "text/plain": [
       "chanceofsnow\n",
       "0    425712\n",
       "Name: count, dtype: int64"
      ]
     },
     "execution_count": 13,
     "metadata": {},
     "output_type": "execute_result"
    }
   ],
   "source": [
    "df.chanceofsnow.value_counts()"
   ]
  },
  {
   "cell_type": "code",
   "execution_count": 14,
   "metadata": {},
   "outputs": [
    {
     "data": {
      "text/plain": [
       "chanceofthunder\n",
       "0    425712\n",
       "Name: count, dtype: int64"
      ]
     },
     "execution_count": 14,
     "metadata": {},
     "output_type": "execute_result"
    }
   ],
   "source": [
    "df.chanceofthunder.value_counts()"
   ]
  },
  {
   "cell_type": "code",
   "execution_count": 15,
   "metadata": {},
   "outputs": [],
   "source": [
    "#hence since all these columns have only 0 as value we can drop them"
   ]
  },
  {
   "cell_type": "code",
   "execution_count": 16,
   "metadata": {},
   "outputs": [],
   "source": [
    "df.drop(['chanceofrain', 'chanceoffog', 'chanceofsnow', 'chanceofthunder'], axis=1, inplace=True)"
   ]
  },
  {
   "cell_type": "code",
   "execution_count": 17,
   "metadata": {},
   "outputs": [
    {
     "data": {
      "text/plain": [
       "precip\n",
       "0.0    406376\n",
       "0.1     16454\n",
       "0.2      2103\n",
       "0.3       493\n",
       "0.4       165\n",
       "0.5        62\n",
       "0.6        28\n",
       "0.8        12\n",
       "0.7         9\n",
       "0.9         4\n",
       "1.1         2\n",
       "1.3         2\n",
       "1.2         2\n",
       "Name: count, dtype: int64"
      ]
     },
     "execution_count": 17,
     "metadata": {},
     "output_type": "execute_result"
    }
   ],
   "source": [
    "df.precip.value_counts()"
   ]
  },
  {
   "cell_type": "markdown",
   "metadata": {},
   "source": [
    "hence we can remove outliers here"
   ]
  },
  {
   "cell_type": "code",
   "execution_count": 18,
   "metadata": {},
   "outputs": [
    {
     "data": {
      "text/plain": [
       "visibility\n",
       "6    338626\n",
       "4     29350\n",
       "1     16985\n",
       "5     13775\n",
       "3     12409\n",
       "2      8774\n",
       "0      5793\n",
       "Name: count, dtype: int64"
      ]
     },
     "execution_count": 18,
     "metadata": {},
     "output_type": "execute_result"
    }
   ],
   "source": [
    "df.visibility.value_counts()"
   ]
  },
  {
   "cell_type": "markdown",
   "metadata": {},
   "source": [
    "Hence we do not need to remove outliers here"
   ]
  },
  {
   "cell_type": "code",
   "execution_count": 19,
   "metadata": {},
   "outputs": [
    {
     "data": {
      "text/plain": [
       "temp\n",
       " 73     15545\n",
       " 70     15332\n",
       " 72     15201\n",
       " 68     15155\n",
       " 75     14731\n",
       "        ...  \n",
       "-20         8\n",
       "-18         6\n",
       "-22         6\n",
       " 113        4\n",
       "-24         2\n",
       "Name: count, Length: 77, dtype: int64"
      ]
     },
     "execution_count": 19,
     "metadata": {},
     "output_type": "execute_result"
    }
   ],
   "source": [
    "df.temp.value_counts()"
   ]
  },
  {
   "cell_type": "code",
   "execution_count": 20,
   "metadata": {},
   "outputs": [
    {
     "data": {
      "text/plain": [
       "np.int64(77)"
      ]
     },
     "execution_count": 20,
     "metadata": {},
     "output_type": "execute_result"
    }
   ],
   "source": [
    "df.temp.value_counts().count()"
   ]
  },
  {
   "cell_type": "code",
   "execution_count": 21,
   "metadata": {},
   "outputs": [
    {
     "data": {
      "text/plain": [
       "<Axes: ylabel='temp'>"
      ]
     },
     "execution_count": 21,
     "metadata": {},
     "output_type": "execute_result"
    },
    {
     "data": {
      "image/png": "[encoded data removed]",
      "text/plain": [
       "<Figure size 640x480 with 1 Axes>"
      ]
     },
     "metadata": {},
     "output_type": "display_data"
    }
   ],
   "source": [
    "sns.boxplot(y=df['temp'])"
   ]
  },
  {
   "cell_type": "markdown",
   "metadata": {},
   "source": [
    "Hence we can remove outliers"
   ]
  },
  {
   "cell_type": "code",
   "execution_count": 22,
   "metadata": {},
   "outputs": [
    {
     "data": {
      "text/plain": [
       "wind_speed\n",
       "6     54509\n",
       "4     48699\n",
       "7     47978\n",
       "9     40083\n",
       "11    29794\n",
       "5     27213\n",
       "2     27088\n",
       "8     22021\n",
       "12    21559\n",
       "3     19468\n",
       "14    16156\n",
       "10    14822\n",
       "13    10626\n",
       "16     9629\n",
       "1      7910\n",
       "17     7561\n",
       "15     6795\n",
       "19     4212\n",
       "18     2384\n",
       "21     1957\n",
       "20     1346\n",
       "22     1301\n",
       "24      695\n",
       "23      520\n",
       "25      410\n",
       "0       289\n",
       "27      183\n",
       "26      177\n",
       "30       84\n",
       "29       82\n",
       "28       63\n",
       "32       32\n",
       "31       26\n",
       "34       22\n",
       "33       12\n",
       "35        6\n",
       "Name: count, dtype: int64"
      ]
     },
     "execution_count": 22,
     "metadata": {},
     "output_type": "execute_result"
    }
   ],
   "source": [
    "df.wind_speed.value_counts()"
   ]
  },
  {
   "cell_type": "code",
   "execution_count": 23,
   "metadata": {},
   "outputs": [
    {
     "data": {
      "text/plain": [
       "np.int64(36)"
      ]
     },
     "execution_count": 23,
     "metadata": {},
     "output_type": "execute_result"
    }
   ],
   "source": [
    "df.wind_speed.value_counts().count()"
   ]
  },
  {
   "cell_type": "code",
   "execution_count": 24,
   "metadata": {},
   "outputs": [
    {
     "data": {
      "text/plain": [
       "<Axes: ylabel='wind_speed'>"
      ]
     },
     "execution_count": 24,
     "metadata": {},
     "output_type": "execute_result"
    },
    {
     "data": {
      "image/png": "[encoded data removed]",
      "text/plain": [
       "<Figure size 640x480 with 1 Axes>"
      ]
     },
     "metadata": {},
     "output_type": "display_data"
    }
   ],
   "source": [
    "sns.boxplot(y=df['wind_speed'])"
   ]
  },
  {
   "cell_type": "markdown",
   "metadata": {},
   "source": [
    "Hence we can remove outliers"
   ]
  },
  {
   "cell_type": "code",
   "execution_count": 25,
   "metadata": {},
   "outputs": [
    {
     "data": {
      "text/plain": [
       "pressure\n",
       "1015    30787\n",
       "1014    29956\n",
       "1016    29736\n",
       "1013    28201\n",
       "1017    27271\n",
       "        ...  \n",
       "1049       10\n",
       "1050        8\n",
       "987         7\n",
       "985         7\n",
       "986         4\n",
       "Name: count, Length: 66, dtype: int64"
      ]
     },
     "execution_count": 25,
     "metadata": {},
     "output_type": "execute_result"
    }
   ],
   "source": [
    "df.pressure.value_counts()"
   ]
  },
  {
   "cell_type": "code",
   "execution_count": 26,
   "metadata": {},
   "outputs": [
    {
     "data": {
      "text/plain": [
       "np.int64(66)"
      ]
     },
     "execution_count": 26,
     "metadata": {},
     "output_type": "execute_result"
    }
   ],
   "source": [
    "df.pressure.value_counts().count()"
   ]
  },
  {
   "cell_type": "code",
   "execution_count": 27,
   "metadata": {},
   "outputs": [
    {
     "data": {
      "text/plain": [
       "<Axes: ylabel='pressure'>"
      ]
     },
     "execution_count": 27,
     "metadata": {},
     "output_type": "execute_result"
    },
    {
     "data": {
      "image/png": "[encoded data removed]",
      "text/plain": [
       "<Figure size 640x480 with 1 Axes>"
      ]
     },
     "metadata": {},
     "output_type": "display_data"
    }
   ],
   "source": [
    "sns.boxplot(y=df['pressure'])"
   ]
  },
  {
   "cell_type": "code",
   "execution_count": 29,
   "metadata": {},
   "outputs": [],
   "source": [
    "#hence we can remove outliers"
   ]
  },
  {
   "cell_type": "code",
   "execution_count": 30,
   "metadata": {},
   "outputs": [
    {
     "data": {
      "text/plain": [
       "humidity\n",
       "95    11237\n",
       "94    10889\n",
       "96    10768\n",
       "93    10480\n",
       "92    10180\n",
       "      ...  \n",
       "6       375\n",
       "7       373\n",
       "5       187\n",
       "4        70\n",
       "3        14\n",
       "Name: count, Length: 98, dtype: int64"
      ]
     },
     "execution_count": 30,
     "metadata": {},
     "output_type": "execute_result"
    }
   ],
   "source": [
    "df.humidity.value_counts()"
   ]
  },
  {
   "cell_type": "code",
   "execution_count": 31,
   "metadata": {},
   "outputs": [
    {
     "data": {
      "text/plain": [
       "np.int64(98)"
      ]
     },
     "execution_count": 31,
     "metadata": {},
     "output_type": "execute_result"
    }
   ],
   "source": [
    "df.humidity.value_counts().count()"
   ]
  },
  {
   "cell_type": "code",
   "execution_count": 32,
   "metadata": {},
   "outputs": [
    {
     "data": {
      "text/plain": [
       "<Axes: ylabel='humidity'>"
      ]
     },
     "execution_count": 32,
     "metadata": {},
     "output_type": "execute_result"
    },
    {
     "data": {
      "image/png": "[encoded data removed]",
      "text/plain": [
       "<Figure size 640x480 with 1 Axes>"
      ]
     },
     "metadata": {},
     "output_type": "display_data"
    }
   ],
   "source": [
    "sns.boxplot(y=df['humidity'])"
   ]
  },
  {
   "cell_type": "markdown",
   "metadata": {},
   "source": [
    "hence we can remove outliers"
   ]
  },
  {
   "cell_type": "code",
   "execution_count": 33,
   "metadata": {},
   "outputs": [
    {
     "data": {
      "text/plain": [
       "Index(['route_id', 'Date', 'temp', 'wind_speed', 'description', 'precip',\n",
       "       'humidity', 'visibility', 'pressure'],\n",
       "      dtype='object')"
      ]
     },
     "execution_count": 33,
     "metadata": {},
     "output_type": "execute_result"
    }
   ],
   "source": [
    "df.columns"
   ]
  },
  {
   "cell_type": "code",
   "execution_count": 34,
   "metadata": {},
   "outputs": [
    {
     "name": "stdout",
     "output_type": "stream",
     "text": [
      "          route_id                 Date  temp  wind_speed description  precip  \\\n",
      "0       R-ada2a391  2019-01-01 00:00:00    30          11  Heavy snow     0.0   \n",
      "1       R-ada2a391  2019-01-01 06:00:00    30          11  Heavy snow     0.0   \n",
      "2       R-ada2a391  2019-01-02 00:00:00    28          11      Cloudy     0.0   \n",
      "3       R-ada2a391  2019-01-02 06:00:00    27          11      Cloudy     0.0   \n",
      "4       R-ada2a391  2019-01-03 00:00:00    27           9      Cloudy     0.0   \n",
      "...            ...                  ...   ...         ...         ...     ...   \n",
      "425707  R-2fd2ee05  2019-02-12 18:00:00    70          12       Sunny     0.0   \n",
      "425708  R-2fd2ee05  2019-02-13 12:00:00    68          11       Sunny     0.0   \n",
      "425709  R-2fd2ee05  2019-02-13 18:00:00    66           9       Sunny     0.0   \n",
      "425710  R-2fd2ee05  2019-02-14 12:00:00    63           7       Clear     0.0   \n",
      "425711  R-2fd2ee05  2019-02-14 18:00:00    61           6       Clear     0.0   \n",
      "\n",
      "        humidity  visibility  pressure  \n",
      "0             90           1      1010  \n",
      "1             91           3      1012  \n",
      "2             91           4      1013  \n",
      "3             92           6      1015  \n",
      "4             93           6      1016  \n",
      "...          ...         ...       ...  \n",
      "425707        53           6      1015  \n",
      "425708        57           6      1015  \n",
      "425709        62           6      1015  \n",
      "425710        66           6      1015  \n",
      "425711        69           6      1015  \n",
      "\n",
      "[367724 rows x 9 columns]\n"
     ]
    }
   ],
   "source": [
    "# Columns from where outliers need to be removed\n",
    "columns_to_check = ['temp', 'wind_speed', 'precip','humidity', 'pressure']\n",
    "\n",
    "# Function to remove outliers using IQR method\n",
    "def remove_outliers_iqr(df, columns):\n",
    "    df_cleaned = df.copy()  # Create a copy of the DataFrame to avoid modifying the original\n",
    "    for column in columns:\n",
    "        Q1 = df_cleaned[column].quantile(0.25)  # 25th percentile (1st Quartile)\n",
    "        Q3 = df_cleaned[column].quantile(0.75)  # 75th percentile (3rd Quartile)\n",
    "        IQR = Q3 - Q1  # Interquartile Range\n",
    "        \n",
    "        # Define outlier bounds\n",
    "        lower_bound = Q1 - 1.5 * IQR\n",
    "        upper_bound = Q3 + 1.5 * IQR\n",
    "        \n",
    "        # Filter out rows with outliers\n",
    "        df_cleaned = df_cleaned[(df_cleaned[column] >= lower_bound) & (df_cleaned[column] <= upper_bound)]\n",
    "    \n",
    "    return df_cleaned\n",
    "\n",
    "# Apply the function to remove outliers from the specified columns\n",
    "df_cleaned = remove_outliers_iqr(df, columns_to_check)\n",
    "\n",
    "# Display the cleaned DataFrame\n",
    "print(df_cleaned)"
   ]
  },
  {
   "cell_type": "code",
   "execution_count": 35,
   "metadata": {},
   "outputs": [
    {
     "data": {
      "text/html": [
       "<div>\n",
       "<style scoped>\n",
       "    .dataframe tbody tr th:only-of-type {\n",
       "        vertical-align: middle;\n",
       "    }\n",
       "\n",
       "    .dataframe tbody tr th {\n",
       "        vertical-align: top;\n",
       "    }\n",
       "\n",
       "    .dataframe thead th {\n",
       "        text-align: right;\n",
       "    }\n",
       "</style>\n",
       "<table border=\"1\" class=\"dataframe\">\n",
       "  <thead>\n",
       "    <tr style=\"text-align: right;\">\n",
       "      <th></th>\n",
       "      <th>route_id</th>\n",
       "      <th>Date</th>\n",
       "      <th>temp</th>\n",
       "      <th>wind_speed</th>\n",
       "      <th>description</th>\n",
       "      <th>precip</th>\n",
       "      <th>humidity</th>\n",
       "      <th>visibility</th>\n",
       "      <th>pressure</th>\n",
       "    </tr>\n",
       "  </thead>\n",
       "  <tbody>\n",
       "    <tr>\n",
       "      <th>0</th>\n",
       "      <td>R-ada2a391</td>\n",
       "      <td>2019-01-01 00:00:00</td>\n",
       "      <td>30</td>\n",
       "      <td>11</td>\n",
       "      <td>Heavy snow</td>\n",
       "      <td>0.0</td>\n",
       "      <td>90</td>\n",
       "      <td>1</td>\n",
       "      <td>1010</td>\n",
       "    </tr>\n",
       "    <tr>\n",
       "      <th>1</th>\n",
       "      <td>R-ada2a391</td>\n",
       "      <td>2019-01-01 06:00:00</td>\n",
       "      <td>30</td>\n",
       "      <td>11</td>\n",
       "      <td>Heavy snow</td>\n",
       "      <td>0.0</td>\n",
       "      <td>91</td>\n",
       "      <td>3</td>\n",
       "      <td>1012</td>\n",
       "    </tr>\n",
       "    <tr>\n",
       "      <th>2</th>\n",
       "      <td>R-ada2a391</td>\n",
       "      <td>2019-01-02 00:00:00</td>\n",
       "      <td>28</td>\n",
       "      <td>11</td>\n",
       "      <td>Cloudy</td>\n",
       "      <td>0.0</td>\n",
       "      <td>91</td>\n",
       "      <td>4</td>\n",
       "      <td>1013</td>\n",
       "    </tr>\n",
       "    <tr>\n",
       "      <th>3</th>\n",
       "      <td>R-ada2a391</td>\n",
       "      <td>2019-01-02 06:00:00</td>\n",
       "      <td>27</td>\n",
       "      <td>11</td>\n",
       "      <td>Cloudy</td>\n",
       "      <td>0.0</td>\n",
       "      <td>92</td>\n",
       "      <td>6</td>\n",
       "      <td>1015</td>\n",
       "    </tr>\n",
       "    <tr>\n",
       "      <th>4</th>\n",
       "      <td>R-ada2a391</td>\n",
       "      <td>2019-01-03 00:00:00</td>\n",
       "      <td>27</td>\n",
       "      <td>9</td>\n",
       "      <td>Cloudy</td>\n",
       "      <td>0.0</td>\n",
       "      <td>93</td>\n",
       "      <td>6</td>\n",
       "      <td>1016</td>\n",
       "    </tr>\n",
       "  </tbody>\n",
       "</table>\n",
       "</div>"
      ],
      "text/plain": [
       "     route_id                 Date  temp  wind_speed description  precip  \\\n",
       "0  R-ada2a391  2019-01-01 00:00:00    30          11  Heavy snow     0.0   \n",
       "1  R-ada2a391  2019-01-01 06:00:00    30          11  Heavy snow     0.0   \n",
       "2  R-ada2a391  2019-01-02 00:00:00    28          11      Cloudy     0.0   \n",
       "3  R-ada2a391  2019-01-02 06:00:00    27          11      Cloudy     0.0   \n",
       "4  R-ada2a391  2019-01-03 00:00:00    27           9      Cloudy     0.0   \n",
       "\n",
       "   humidity  visibility  pressure  \n",
       "0        90           1      1010  \n",
       "1        91           3      1012  \n",
       "2        91           4      1013  \n",
       "3        92           6      1015  \n",
       "4        93           6      1016  "
      ]
     },
     "execution_count": 35,
     "metadata": {},
     "output_type": "execute_result"
    }
   ],
   "source": [
    "df_cleaned.head()"
   ]
  },
  {
   "cell_type": "code",
   "execution_count": 36,
   "metadata": {},
   "outputs": [
    {
     "name": "stdout",
     "output_type": "stream",
     "text": [
      "        RowIndex    route_id                 Date  temp  wind_speed  \\\n",
      "0              1  R-ada2a391  2019-01-01 00:00:00    30          11   \n",
      "1              2  R-ada2a391  2019-01-01 06:00:00    30          11   \n",
      "2              3  R-ada2a391  2019-01-02 00:00:00    28          11   \n",
      "3              4  R-ada2a391  2019-01-02 06:00:00    27          11   \n",
      "4              5  R-ada2a391  2019-01-03 00:00:00    27           9   \n",
      "...          ...         ...                  ...   ...         ...   \n",
      "425707    367720  R-2fd2ee05  2019-02-12 18:00:00    70          12   \n",
      "425708    367721  R-2fd2ee05  2019-02-13 12:00:00    68          11   \n",
      "425709    367722  R-2fd2ee05  2019-02-13 18:00:00    66           9   \n",
      "425710    367723  R-2fd2ee05  2019-02-14 12:00:00    63           7   \n",
      "425711    367724  R-2fd2ee05  2019-02-14 18:00:00    61           6   \n",
      "\n",
      "       description  precip  humidity  visibility  pressure  \n",
      "0       Heavy snow     0.0        90           1      1010  \n",
      "1       Heavy snow     0.0        91           3      1012  \n",
      "2           Cloudy     0.0        91           4      1013  \n",
      "3           Cloudy     0.0        92           6      1015  \n",
      "4           Cloudy     0.0        93           6      1016  \n",
      "...            ...     ...       ...         ...       ...  \n",
      "425707       Sunny     0.0        53           6      1015  \n",
      "425708       Sunny     0.0        57           6      1015  \n",
      "425709       Sunny     0.0        62           6      1015  \n",
      "425710       Clear     0.0        66           6      1015  \n",
      "425711       Clear     0.0        69           6      1015  \n",
      "\n",
      "[367724 rows x 10 columns]\n"
     ]
    }
   ],
   "source": [
    "#rename the df\n",
    "df4 = df_cleaned\n",
    "\n",
    "# Adding a new index column with a different name\n",
    "df4.insert(0, 'RowIndex', range(1, 1 + len(df4)))\n",
    "\n",
    "# Display the DataFrame with the new index column\n",
    "print(df4)"
   ]
  },
  {
   "cell_type": "code",
   "execution_count": 37,
   "metadata": {},
   "outputs": [],
   "source": [
    "df4['event_time']= pd.to_datetime('2024-09-17')"
   ]
  },
  {
   "cell_type": "code",
   "execution_count": 41,
   "metadata": {},
   "outputs": [
    {
     "name": "stdout",
     "output_type": "stream",
     "text": [
      "<class 'pandas.core.frame.DataFrame'>\n",
      "Index: 367724 entries, 0 to 425711\n",
      "Data columns (total 11 columns):\n",
      " #   Column       Non-Null Count   Dtype         \n",
      "---  ------       --------------   -----         \n",
      " 0   RowIndex     367724 non-null  int64         \n",
      " 1   route_id     367724 non-null  object        \n",
      " 2   Date         367724 non-null  object        \n",
      " 3   temp         367724 non-null  int64         \n",
      " 4   wind_speed   367724 non-null  int64         \n",
      " 5   description  367724 non-null  object        \n",
      " 6   precip       367724 non-null  float64       \n",
      " 7   humidity     367724 non-null  int64         \n",
      " 8   visibility   367724 non-null  int64         \n",
      " 9   pressure     367724 non-null  int64         \n",
      " 10  event_time   367724 non-null  datetime64[ns]\n",
      "dtypes: datetime64[ns](1), float64(1), int64(6), object(3)\n",
      "memory usage: 33.7+ MB\n"
     ]
    }
   ],
   "source": [
    "df4.info()"
   ]
  },
  {
   "cell_type": "code",
   "execution_count": 43,
   "metadata": {},
   "outputs": [
    {
     "name": "stdout",
     "output_type": "stream",
     "text": [
      "Requirement already satisfied: hopsworks in c:\\truck_delay_classification\\.venv\\lib\\site-packages (3.7.0)\n",
      "Requirement already satisfied: hsfs<3.8.0,>=3.7.0 in c:\\truck_delay_classification\\.venv\\lib\\site-packages (from hsfs[python]<3.8.0,>=3.7.0->hopsworks) (3.7.7)\n",
      "Requirement already satisfied: hsml<3.8.0,>=3.7.0 in c:\\truck_delay_classification\\.venv\\lib\\site-packages (from hopsworks) (3.7.1)\n",
      "Requirement already satisfied: pyhumps==1.6.1 in c:\\truck_delay_classification\\.venv\\lib\\site-packages (from hopsworks) (1.6.1)\n",
      "Requirement already satisfied: requests in c:\\truck_delay_classification\\.venv\\lib\\site-packages (from hopsworks) (2.32.3)\n",
      "Requirement already satisfied: furl in c:\\truck_delay_classification\\.venv\\lib\\site-packages (from hopsworks) (2.1.3)\n",
      "Requirement already satisfied: boto3 in c:\\truck_delay_classification\\.venv\\lib\\site-packages (from hopsworks) (1.35.22)\n",
      "Requirement already satisfied: pyjks in c:\\truck_delay_classification\\.venv\\lib\\site-packages (from hopsworks) (20.0.0)\n",
      "Requirement already satisfied: mock in c:\\truck_delay_classification\\.venv\\lib\\site-packages (from hopsworks) (5.1.0)\n",
      "Requirement already satisfied: tqdm in c:\\truck_delay_classification\\.venv\\lib\\site-packages (from hopsworks) (4.66.5)\n",
      "Requirement already satisfied: pandas<2.2.0 in c:\\truck_delay_classification\\.venv\\lib\\site-packages (from hsfs<3.8.0,>=3.7.0->hsfs[python]<3.8.0,>=3.7.0->hopsworks) (2.1.4)\n",
      "Requirement already satisfied: numpy<2 in c:\\truck_delay_classification\\.venv\\lib\\site-packages (from hsfs<3.8.0,>=3.7.0->hsfs[python]<3.8.0,>=3.7.0->hopsworks) (1.26.4)\n",
      "Requirement already satisfied: avro==1.11.3 in c:\\truck_delay_classification\\.venv\\lib\\site-packages (from hsfs<3.8.0,>=3.7.0->hsfs[python]<3.8.0,>=3.7.0->hopsworks) (1.11.3)\n",
      "Requirement already satisfied: sqlalchemy<=1.4.48 in c:\\truck_delay_classification\\.venv\\lib\\site-packages (from hsfs<3.8.0,>=3.7.0->hsfs[python]<3.8.0,>=3.7.0->hopsworks) (1.4.48)\n",
      "Requirement already satisfied: PyMySQL[rsa] in c:\\truck_delay_classification\\.venv\\lib\\site-packages (from hsfs<3.8.0,>=3.7.0->hsfs[python]<3.8.0,>=3.7.0->hopsworks) (1.1.1)\n",
      "Requirement already satisfied: great-expectations==0.18.12 in c:\\truck_delay_classification\\.venv\\lib\\site-packages (from hsfs<3.8.0,>=3.7.0->hsfs[python]<3.8.0,>=3.7.0->hopsworks) (0.18.12)\n",
      "Requirement already satisfied: tzlocal in c:\\truck_delay_classification\\.venv\\lib\\site-packages (from hsfs<3.8.0,>=3.7.0->hsfs[python]<3.8.0,>=3.7.0->hopsworks) (5.2)\n",
      "Requirement already satisfied: fsspec in c:\\truck_delay_classification\\.venv\\lib\\site-packages (from hsfs<3.8.0,>=3.7.0->hsfs[python]<3.8.0,>=3.7.0->hopsworks) (2024.9.0)\n",
      "Requirement already satisfied: retrying in c:\\truck_delay_classification\\.venv\\lib\\site-packages (from hsfs<3.8.0,>=3.7.0->hsfs[python]<3.8.0,>=3.7.0->hopsworks) (1.3.4)\n",
      "Requirement already satisfied: aiomysql in c:\\truck_delay_classification\\.venv\\lib\\site-packages (from hsfs<3.8.0,>=3.7.0->hsfs[python]<3.8.0,>=3.7.0->hopsworks) (0.2.0)\n",
      "Requirement already satisfied: opensearch-py<=2.4.2,>=1.1.0 in c:\\truck_delay_classification\\.venv\\lib\\site-packages (from hsfs<3.8.0,>=3.7.0->hsfs[python]<3.8.0,>=3.7.0->hopsworks) (2.4.2)\n",
      "Requirement already satisfied: altair<5.0.0,>=4.2.1 in c:\\truck_delay_classification\\.venv\\lib\\site-packages (from great-expectations==0.18.12->hsfs<3.8.0,>=3.7.0->hsfs[python]<3.8.0,>=3.7.0->hopsworks) (4.2.2)\n",
      "Requirement already satisfied: Click>=7.1.2 in c:\\truck_delay_classification\\.venv\\lib\\site-packages (from great-expectations==0.18.12->hsfs<3.8.0,>=3.7.0->hsfs[python]<3.8.0,>=3.7.0->hopsworks) (8.1.7)\n",
      "Requirement already satisfied: colorama>=0.4.3 in c:\\truck_delay_classification\\.venv\\lib\\site-packages (from great-expectations==0.18.12->hsfs<3.8.0,>=3.7.0->hsfs[python]<3.8.0,>=3.7.0->hopsworks) (0.4.6)\n",
      "Requirement already satisfied: cryptography>=3.2 in c:\\truck_delay_classification\\.venv\\lib\\site-packages (from great-expectations==0.18.12->hsfs<3.8.0,>=3.7.0->hsfs[python]<3.8.0,>=3.7.0->hopsworks) (43.0.1)\n",
      "Requirement already satisfied: Ipython>=7.16.3 in c:\\truck_delay_classification\\.venv\\lib\\site-packages (from great-expectations==0.18.12->hsfs<3.8.0,>=3.7.0->hsfs[python]<3.8.0,>=3.7.0->hopsworks) (8.27.0)\n",
      "Requirement already satisfied: ipywidgets>=7.5.1 in c:\\truck_delay_classification\\.venv\\lib\\site-packages (from great-expectations==0.18.12->hsfs<3.8.0,>=3.7.0->hsfs[python]<3.8.0,>=3.7.0->hopsworks) (8.1.5)\n",
      "Requirement already satisfied: jinja2>=2.10 in c:\\truck_delay_classification\\.venv\\lib\\site-packages (from great-expectations==0.18.12->hsfs<3.8.0,>=3.7.0->hsfs[python]<3.8.0,>=3.7.0->hopsworks) (3.1.4)\n",
      "Requirement already satisfied: jsonpatch>=1.22 in c:\\truck_delay_classification\\.venv\\lib\\site-packages (from great-expectations==0.18.12->hsfs<3.8.0,>=3.7.0->hsfs[python]<3.8.0,>=3.7.0->hopsworks) (1.33)\n",
      "Requirement already satisfied: jsonschema>=2.5.1 in c:\\truck_delay_classification\\.venv\\lib\\site-packages (from great-expectations==0.18.12->hsfs<3.8.0,>=3.7.0->hsfs[python]<3.8.0,>=3.7.0->hopsworks) (4.23.0)\n",
      "Requirement already satisfied: makefun<2,>=1.7.0 in c:\\truck_delay_classification\\.venv\\lib\\site-packages (from great-expectations==0.18.12->hsfs<3.8.0,>=3.7.0->hsfs[python]<3.8.0,>=3.7.0->hopsworks) (1.15.4)\n",
      "Requirement already satisfied: marshmallow<4.0.0,>=3.7.1 in c:\\truck_delay_classification\\.venv\\lib\\site-packages (from great-expectations==0.18.12->hsfs<3.8.0,>=3.7.0->hsfs[python]<3.8.0,>=3.7.0->hopsworks) (3.22.0)\n",
      "Requirement already satisfied: mistune>=0.8.4 in c:\\truck_delay_classification\\.venv\\lib\\site-packages (from great-expectations==0.18.12->hsfs<3.8.0,>=3.7.0->hsfs[python]<3.8.0,>=3.7.0->hopsworks) (3.0.2)\n",
      "Requirement already satisfied: nbformat>=5.0 in c:\\truck_delay_classification\\.venv\\lib\\site-packages (from great-expectations==0.18.12->hsfs<3.8.0,>=3.7.0->hsfs[python]<3.8.0,>=3.7.0->hopsworks) (5.10.4)\n",
      "Requirement already satisfied: notebook>=6.4.10 in c:\\truck_delay_classification\\.venv\\lib\\site-packages (from great-expectations==0.18.12->hsfs<3.8.0,>=3.7.0->hsfs[python]<3.8.0,>=3.7.0->hopsworks) (7.2.2)\n",
      "Requirement already satisfied: packaging in c:\\truck_delay_classification\\.venv\\lib\\site-packages (from great-expectations==0.18.12->hsfs<3.8.0,>=3.7.0->hsfs[python]<3.8.0,>=3.7.0->hopsworks) (24.1)\n",
      "Requirement already satisfied: pydantic>=1.9.2 in c:\\truck_delay_classification\\.venv\\lib\\site-packages (from great-expectations==0.18.12->hsfs<3.8.0,>=3.7.0->hsfs[python]<3.8.0,>=3.7.0->hopsworks) (2.9.2)\n",
      "Requirement already satisfied: pyparsing>=2.4 in c:\\truck_delay_classification\\.venv\\lib\\site-packages (from great-expectations==0.18.12->hsfs<3.8.0,>=3.7.0->hsfs[python]<3.8.0,>=3.7.0->hopsworks) (3.1.4)\n",
      "Requirement already satisfied: python-dateutil>=2.8.1 in c:\\truck_delay_classification\\.venv\\lib\\site-packages (from great-expectations==0.18.12->hsfs<3.8.0,>=3.7.0->hsfs[python]<3.8.0,>=3.7.0->hopsworks) (2.9.0.post0)\n",
      "Requirement already satisfied: pytz>=2021.3 in c:\\truck_delay_classification\\.venv\\lib\\site-packages (from great-expectations==0.18.12->hsfs<3.8.0,>=3.7.0->hsfs[python]<3.8.0,>=3.7.0->hopsworks) (2024.2)\n",
      "Requirement already satisfied: ruamel.yaml<0.17.18,>=0.16 in c:\\truck_delay_classification\\.venv\\lib\\site-packages (from great-expectations==0.18.12->hsfs<3.8.0,>=3.7.0->hsfs[python]<3.8.0,>=3.7.0->hopsworks) (0.17.17)\n",
      "Requirement already satisfied: scipy>=1.6.0 in c:\\truck_delay_classification\\.venv\\lib\\site-packages (from great-expectations==0.18.12->hsfs<3.8.0,>=3.7.0->hsfs[python]<3.8.0,>=3.7.0->hopsworks) (1.14.1)\n",
      "Requirement already satisfied: typing-extensions>=3.10.0.0 in c:\\truck_delay_classification\\.venv\\lib\\site-packages (from great-expectations==0.18.12->hsfs<3.8.0,>=3.7.0->hsfs[python]<3.8.0,>=3.7.0->hopsworks) (4.12.2)\n",
      "Requirement already satisfied: urllib3>=1.26 in c:\\truck_delay_classification\\.venv\\lib\\site-packages (from great-expectations==0.18.12->hsfs<3.8.0,>=3.7.0->hsfs[python]<3.8.0,>=3.7.0->hopsworks) (2.2.3)\n",
      "Requirement already satisfied: pyhopshive[thrift] in c:\\truck_delay_classification\\.venv\\lib\\site-packages (from hsfs[python]<3.8.0,>=3.7.0->hopsworks) (0.6.4.1.dev0)\n",
      "Requirement already satisfied: pyarrow>=10.0 in c:\\truck_delay_classification\\.venv\\lib\\site-packages (from hsfs[python]<3.8.0,>=3.7.0->hopsworks) (17.0.0)\n",
      "Requirement already satisfied: confluent-kafka<=2.3.0 in c:\\truck_delay_classification\\.venv\\lib\\site-packages (from hsfs[python]<3.8.0,>=3.7.0->hopsworks) (2.3.0)\n",
      "Requirement already satisfied: fastavro<=1.8.4,>=1.4.11 in c:\\truck_delay_classification\\.venv\\lib\\site-packages (from hsfs[python]<3.8.0,>=3.7.0->hopsworks) (1.8.4)\n",
      "Requirement already satisfied: charset-normalizer<4,>=2 in c:\\truck_delay_classification\\.venv\\lib\\site-packages (from requests->hopsworks) (3.3.2)\n",
      "Requirement already satisfied: idna<4,>=2.5 in c:\\truck_delay_classification\\.venv\\lib\\site-packages (from requests->hopsworks) (3.10)\n",
      "Requirement already satisfied: certifi>=2017.4.17 in c:\\truck_delay_classification\\.venv\\lib\\site-packages (from requests->hopsworks) (2024.8.30)\n",
      "Requirement already satisfied: botocore<1.36.0,>=1.35.22 in c:\\truck_delay_classification\\.venv\\lib\\site-packages (from boto3->hopsworks) (1.35.22)\n",
      "Requirement already satisfied: jmespath<2.0.0,>=0.7.1 in c:\\truck_delay_classification\\.venv\\lib\\site-packages (from boto3->hopsworks) (1.0.1)\n",
      "Requirement already satisfied: s3transfer<0.11.0,>=0.10.0 in c:\\truck_delay_classification\\.venv\\lib\\site-packages (from boto3->hopsworks) (0.10.2)\n",
      "Requirement already satisfied: six>=1.8.0 in c:\\truck_delay_classification\\.venv\\lib\\site-packages (from furl->hopsworks) (1.16.0)\n",
      "Requirement already satisfied: orderedmultidict>=1.0.1 in c:\\truck_delay_classification\\.venv\\lib\\site-packages (from furl->hopsworks) (1.0.1)\n",
      "Requirement already satisfied: javaobj-py3 in c:\\truck_delay_classification\\.venv\\lib\\site-packages (from pyjks->hopsworks) (0.4.4)\n",
      "Requirement already satisfied: pyasn1>=0.3.5 in c:\\truck_delay_classification\\.venv\\lib\\site-packages (from pyjks->hopsworks) (0.6.1)\n",
      "Requirement already satisfied: pyasn1-modules in c:\\truck_delay_classification\\.venv\\lib\\site-packages (from pyjks->hopsworks) (0.4.1)\n",
      "Requirement already satisfied: pycryptodomex in c:\\truck_delay_classification\\.venv\\lib\\site-packages (from pyjks->hopsworks) (3.20.0)\n",
      "Requirement already satisfied: twofish in c:\\truck_delay_classification\\.venv\\lib\\site-packages (from pyjks->hopsworks) (0.3.0)\n",
      "Requirement already satisfied: tzdata>=2022.1 in c:\\truck_delay_classification\\.venv\\lib\\site-packages (from pandas<2.2.0->hsfs<3.8.0,>=3.7.0->hsfs[python]<3.8.0,>=3.7.0->hopsworks) (2024.1)\n",
      "Requirement already satisfied: greenlet!=0.4.17 in c:\\truck_delay_classification\\.venv\\lib\\site-packages (from sqlalchemy<=1.4.48->hsfs<3.8.0,>=3.7.0->hsfs[python]<3.8.0,>=3.7.0->hopsworks) (3.1.0)\n",
      "Requirement already satisfied: future in c:\\truck_delay_classification\\.venv\\lib\\site-packages (from pyhopshive[thrift]; extra == \"python\"->hsfs[python]<3.8.0,>=3.7.0->hopsworks) (1.0.0)\n",
      "Requirement already satisfied: thrift>=0.10.0 in c:\\truck_delay_classification\\.venv\\lib\\site-packages (from pyhopshive[thrift]; extra == \"python\"->hsfs[python]<3.8.0,>=3.7.0->hopsworks) (0.20.0)\n",
      "Requirement already satisfied: entrypoints in c:\\truck_delay_classification\\.venv\\lib\\site-packages (from altair<5.0.0,>=4.2.1->great-expectations==0.18.12->hsfs<3.8.0,>=3.7.0->hsfs[python]<3.8.0,>=3.7.0->hopsworks) (0.4)\n",
      "Requirement already satisfied: toolz in c:\\truck_delay_classification\\.venv\\lib\\site-packages (from altair<5.0.0,>=4.2.1->great-expectations==0.18.12->hsfs<3.8.0,>=3.7.0->hsfs[python]<3.8.0,>=3.7.0->hopsworks) (0.12.1)\n",
      "Requirement already satisfied: cffi>=1.12 in c:\\truck_delay_classification\\.venv\\lib\\site-packages (from cryptography>=3.2->great-expectations==0.18.12->hsfs<3.8.0,>=3.7.0->hsfs[python]<3.8.0,>=3.7.0->hopsworks) (1.17.1)\n",
      "Requirement already satisfied: decorator in c:\\truck_delay_classification\\.venv\\lib\\site-packages (from Ipython>=7.16.3->great-expectations==0.18.12->hsfs<3.8.0,>=3.7.0->hsfs[python]<3.8.0,>=3.7.0->hopsworks) (5.1.1)\n",
      "Requirement already satisfied: jedi>=0.16 in c:\\truck_delay_classification\\.venv\\lib\\site-packages (from Ipython>=7.16.3->great-expectations==0.18.12->hsfs<3.8.0,>=3.7.0->hsfs[python]<3.8.0,>=3.7.0->hopsworks) (0.19.1)\n",
      "Requirement already satisfied: matplotlib-inline in c:\\truck_delay_classification\\.venv\\lib\\site-packages (from Ipython>=7.16.3->great-expectations==0.18.12->hsfs<3.8.0,>=3.7.0->hsfs[python]<3.8.0,>=3.7.0->hopsworks) (0.1.7)\n",
      "Requirement already satisfied: prompt-toolkit<3.1.0,>=3.0.41 in c:\\truck_delay_classification\\.venv\\lib\\site-packages (from Ipython>=7.16.3->great-expectations==0.18.12->hsfs<3.8.0,>=3.7.0->hsfs[python]<3.8.0,>=3.7.0->hopsworks) (3.0.47)\n",
      "Requirement already satisfied: pygments>=2.4.0 in c:\\truck_delay_classification\\.venv\\lib\\site-packages (from Ipython>=7.16.3->great-expectations==0.18.12->hsfs<3.8.0,>=3.7.0->hsfs[python]<3.8.0,>=3.7.0->hopsworks) (2.18.0)\n",
      "Requirement already satisfied: stack-data in c:\\truck_delay_classification\\.venv\\lib\\site-packages (from Ipython>=7.16.3->great-expectations==0.18.12->hsfs<3.8.0,>=3.7.0->hsfs[python]<3.8.0,>=3.7.0->hopsworks) (0.6.3)\n",
      "Requirement already satisfied: traitlets>=5.13.0 in c:\\truck_delay_classification\\.venv\\lib\\site-packages (from Ipython>=7.16.3->great-expectations==0.18.12->hsfs<3.8.0,>=3.7.0->hsfs[python]<3.8.0,>=3.7.0->hopsworks) (5.14.3)\n",
      "Requirement already satisfied: comm>=0.1.3 in c:\\truck_delay_classification\\.venv\\lib\\site-packages (from ipywidgets>=7.5.1->great-expectations==0.18.12->hsfs<3.8.0,>=3.7.0->hsfs[python]<3.8.0,>=3.7.0->hopsworks) (0.2.2)\n",
      "Requirement already satisfied: widgetsnbextension~=4.0.12 in c:\\truck_delay_classification\\.venv\\lib\\site-packages (from ipywidgets>=7.5.1->great-expectations==0.18.12->hsfs<3.8.0,>=3.7.0->hsfs[python]<3.8.0,>=3.7.0->hopsworks) (4.0.13)\n",
      "Requirement already satisfied: jupyterlab-widgets~=3.0.12 in c:\\truck_delay_classification\\.venv\\lib\\site-packages (from ipywidgets>=7.5.1->great-expectations==0.18.12->hsfs<3.8.0,>=3.7.0->hsfs[python]<3.8.0,>=3.7.0->hopsworks) (3.0.13)\n",
      "Requirement already satisfied: MarkupSafe>=2.0 in c:\\truck_delay_classification\\.venv\\lib\\site-packages (from jinja2>=2.10->great-expectations==0.18.12->hsfs<3.8.0,>=3.7.0->hsfs[python]<3.8.0,>=3.7.0->hopsworks) (2.1.5)\n",
      "Requirement already satisfied: jsonpointer>=1.9 in c:\\truck_delay_classification\\.venv\\lib\\site-packages (from jsonpatch>=1.22->great-expectations==0.18.12->hsfs<3.8.0,>=3.7.0->hsfs[python]<3.8.0,>=3.7.0->hopsworks) (3.0.0)\n",
      "Requirement already satisfied: attrs>=22.2.0 in c:\\truck_delay_classification\\.venv\\lib\\site-packages (from jsonschema>=2.5.1->great-expectations==0.18.12->hsfs<3.8.0,>=3.7.0->hsfs[python]<3.8.0,>=3.7.0->hopsworks) (24.2.0)\n",
      "Requirement already satisfied: jsonschema-specifications>=2023.03.6 in c:\\truck_delay_classification\\.venv\\lib\\site-packages (from jsonschema>=2.5.1->great-expectations==0.18.12->hsfs<3.8.0,>=3.7.0->hsfs[python]<3.8.0,>=3.7.0->hopsworks) (2023.12.1)\n",
      "Requirement already satisfied: referencing>=0.28.4 in c:\\truck_delay_classification\\.venv\\lib\\site-packages (from jsonschema>=2.5.1->great-expectations==0.18.12->hsfs<3.8.0,>=3.7.0->hsfs[python]<3.8.0,>=3.7.0->hopsworks) (0.35.1)\n",
      "Requirement already satisfied: rpds-py>=0.7.1 in c:\\truck_delay_classification\\.venv\\lib\\site-packages (from jsonschema>=2.5.1->great-expectations==0.18.12->hsfs<3.8.0,>=3.7.0->hsfs[python]<3.8.0,>=3.7.0->hopsworks) (0.20.0)\n",
      "Requirement already satisfied: fastjsonschema>=2.15 in c:\\truck_delay_classification\\.venv\\lib\\site-packages (from nbformat>=5.0->great-expectations==0.18.12->hsfs<3.8.0,>=3.7.0->hsfs[python]<3.8.0,>=3.7.0->hopsworks) (2.20.0)\n",
      "Requirement already satisfied: jupyter-core!=5.0.*,>=4.12 in c:\\truck_delay_classification\\.venv\\lib\\site-packages (from nbformat>=5.0->great-expectations==0.18.12->hsfs<3.8.0,>=3.7.0->hsfs[python]<3.8.0,>=3.7.0->hopsworks) (5.7.2)\n",
      "Requirement already satisfied: jupyter-server<3,>=2.4.0 in c:\\truck_delay_classification\\.venv\\lib\\site-packages (from notebook>=6.4.10->great-expectations==0.18.12->hsfs<3.8.0,>=3.7.0->hsfs[python]<3.8.0,>=3.7.0->hopsworks) (2.14.2)\n",
      "Requirement already satisfied: jupyterlab-server<3,>=2.27.1 in c:\\truck_delay_classification\\.venv\\lib\\site-packages (from notebook>=6.4.10->great-expectations==0.18.12->hsfs<3.8.0,>=3.7.0->hsfs[python]<3.8.0,>=3.7.0->hopsworks) (2.27.3)\n",
      "Requirement already satisfied: jupyterlab<4.3,>=4.2.0 in c:\\truck_delay_classification\\.venv\\lib\\site-packages (from notebook>=6.4.10->great-expectations==0.18.12->hsfs<3.8.0,>=3.7.0->hsfs[python]<3.8.0,>=3.7.0->hopsworks) (4.2.5)\n",
      "Requirement already satisfied: notebook-shim<0.3,>=0.2 in c:\\truck_delay_classification\\.venv\\lib\\site-packages (from notebook>=6.4.10->great-expectations==0.18.12->hsfs<3.8.0,>=3.7.0->hsfs[python]<3.8.0,>=3.7.0->hopsworks) (0.2.4)\n",
      "Requirement already satisfied: tornado>=6.2.0 in c:\\truck_delay_classification\\.venv\\lib\\site-packages (from notebook>=6.4.10->great-expectations==0.18.12->hsfs<3.8.0,>=3.7.0->hsfs[python]<3.8.0,>=3.7.0->hopsworks) (6.4.1)\n",
      "Requirement already satisfied: annotated-types>=0.6.0 in c:\\truck_delay_classification\\.venv\\lib\\site-packages (from pydantic>=1.9.2->great-expectations==0.18.12->hsfs<3.8.0,>=3.7.0->hsfs[python]<3.8.0,>=3.7.0->hopsworks) (0.7.0)\n",
      "Requirement already satisfied: pydantic-core==2.23.4 in c:\\truck_delay_classification\\.venv\\lib\\site-packages (from pydantic>=1.9.2->great-expectations==0.18.12->hsfs<3.8.0,>=3.7.0->hsfs[python]<3.8.0,>=3.7.0->hopsworks) (2.23.4)\n",
      "Requirement already satisfied: pycparser in c:\\truck_delay_classification\\.venv\\lib\\site-packages (from cffi>=1.12->cryptography>=3.2->great-expectations==0.18.12->hsfs<3.8.0,>=3.7.0->hsfs[python]<3.8.0,>=3.7.0->hopsworks) (2.22)\n",
      "Requirement already satisfied: parso<0.9.0,>=0.8.3 in c:\\truck_delay_classification\\.venv\\lib\\site-packages (from jedi>=0.16->Ipython>=7.16.3->great-expectations==0.18.12->hsfs<3.8.0,>=3.7.0->hsfs[python]<3.8.0,>=3.7.0->hopsworks) (0.8.4)\n",
      "Requirement already satisfied: platformdirs>=2.5 in c:\\truck_delay_classification\\.venv\\lib\\site-packages (from jupyter-core!=5.0.*,>=4.12->nbformat>=5.0->great-expectations==0.18.12->hsfs<3.8.0,>=3.7.0->hsfs[python]<3.8.0,>=3.7.0->hopsworks) (4.3.6)\n",
      "Requirement already satisfied: pywin32>=300 in c:\\truck_delay_classification\\.venv\\lib\\site-packages (from jupyter-core!=5.0.*,>=4.12->nbformat>=5.0->great-expectations==0.18.12->hsfs<3.8.0,>=3.7.0->hsfs[python]<3.8.0,>=3.7.0->hopsworks) (306)\n",
      "Requirement already satisfied: anyio>=3.1.0 in c:\\truck_delay_classification\\.venv\\lib\\site-packages (from jupyter-server<3,>=2.4.0->notebook>=6.4.10->great-expectations==0.18.12->hsfs<3.8.0,>=3.7.0->hsfs[python]<3.8.0,>=3.7.0->hopsworks) (4.5.0)\n",
      "Requirement already satisfied: argon2-cffi>=21.1 in c:\\truck_delay_classification\\.venv\\lib\\site-packages (from jupyter-server<3,>=2.4.0->notebook>=6.4.10->great-expectations==0.18.12->hsfs<3.8.0,>=3.7.0->hsfs[python]<3.8.0,>=3.7.0->hopsworks) (23.1.0)\n",
      "Requirement already satisfied: jupyter-client>=7.4.4 in c:\\truck_delay_classification\\.venv\\lib\\site-packages (from jupyter-server<3,>=2.4.0->notebook>=6.4.10->great-expectations==0.18.12->hsfs<3.8.0,>=3.7.0->hsfs[python]<3.8.0,>=3.7.0->hopsworks) (8.6.3)\n",
      "Requirement already satisfied: jupyter-events>=0.9.0 in c:\\truck_delay_classification\\.venv\\lib\\site-packages (from jupyter-server<3,>=2.4.0->notebook>=6.4.10->great-expectations==0.18.12->hsfs<3.8.0,>=3.7.0->hsfs[python]<3.8.0,>=3.7.0->hopsworks) (0.10.0)\n",
      "Requirement already satisfied: jupyter-server-terminals>=0.4.4 in c:\\truck_delay_classification\\.venv\\lib\\site-packages (from jupyter-server<3,>=2.4.0->notebook>=6.4.10->great-expectations==0.18.12->hsfs<3.8.0,>=3.7.0->hsfs[python]<3.8.0,>=3.7.0->hopsworks) (0.5.3)\n",
      "Requirement already satisfied: nbconvert>=6.4.4 in c:\\truck_delay_classification\\.venv\\lib\\site-packages (from jupyter-server<3,>=2.4.0->notebook>=6.4.10->great-expectations==0.18.12->hsfs<3.8.0,>=3.7.0->hsfs[python]<3.8.0,>=3.7.0->hopsworks) (7.16.4)\n",
      "Requirement already satisfied: overrides>=5.0 in c:\\truck_delay_classification\\.venv\\lib\\site-packages (from jupyter-server<3,>=2.4.0->notebook>=6.4.10->great-expectations==0.18.12->hsfs<3.8.0,>=3.7.0->hsfs[python]<3.8.0,>=3.7.0->hopsworks) (7.7.0)\n",
      "Requirement already satisfied: prometheus-client>=0.9 in c:\\truck_delay_classification\\.venv\\lib\\site-packages (from jupyter-server<3,>=2.4.0->notebook>=6.4.10->great-expectations==0.18.12->hsfs<3.8.0,>=3.7.0->hsfs[python]<3.8.0,>=3.7.0->hopsworks) (0.20.0)\n",
      "Requirement already satisfied: pywinpty>=2.0.1 in c:\\truck_delay_classification\\.venv\\lib\\site-packages (from jupyter-server<3,>=2.4.0->notebook>=6.4.10->great-expectations==0.18.12->hsfs<3.8.0,>=3.7.0->hsfs[python]<3.8.0,>=3.7.0->hopsworks) (2.0.13)\n",
      "Requirement already satisfied: pyzmq>=24 in c:\\truck_delay_classification\\.venv\\lib\\site-packages (from jupyter-server<3,>=2.4.0->notebook>=6.4.10->great-expectations==0.18.12->hsfs<3.8.0,>=3.7.0->hsfs[python]<3.8.0,>=3.7.0->hopsworks) (26.2.0)\n",
      "Requirement already satisfied: send2trash>=1.8.2 in c:\\truck_delay_classification\\.venv\\lib\\site-packages (from jupyter-server<3,>=2.4.0->notebook>=6.4.10->great-expectations==0.18.12->hsfs<3.8.0,>=3.7.0->hsfs[python]<3.8.0,>=3.7.0->hopsworks) (1.8.3)\n",
      "Requirement already satisfied: terminado>=0.8.3 in c:\\truck_delay_classification\\.venv\\lib\\site-packages (from jupyter-server<3,>=2.4.0->notebook>=6.4.10->great-expectations==0.18.12->hsfs<3.8.0,>=3.7.0->hsfs[python]<3.8.0,>=3.7.0->hopsworks) (0.18.1)\n",
      "Requirement already satisfied: websocket-client>=1.7 in c:\\truck_delay_classification\\.venv\\lib\\site-packages (from jupyter-server<3,>=2.4.0->notebook>=6.4.10->great-expectations==0.18.12->hsfs<3.8.0,>=3.7.0->hsfs[python]<3.8.0,>=3.7.0->hopsworks) (1.8.0)\n",
      "Requirement already satisfied: async-lru>=1.0.0 in c:\\truck_delay_classification\\.venv\\lib\\site-packages (from jupyterlab<4.3,>=4.2.0->notebook>=6.4.10->great-expectations==0.18.12->hsfs<3.8.0,>=3.7.0->hsfs[python]<3.8.0,>=3.7.0->hopsworks) (2.0.4)\n",
      "Requirement already satisfied: httpx>=0.25.0 in c:\\truck_delay_classification\\.venv\\lib\\site-packages (from jupyterlab<4.3,>=4.2.0->notebook>=6.4.10->great-expectations==0.18.12->hsfs<3.8.0,>=3.7.0->hsfs[python]<3.8.0,>=3.7.0->hopsworks) (0.27.2)\n",
      "Requirement already satisfied: ipykernel>=6.5.0 in c:\\truck_delay_classification\\.venv\\lib\\site-packages (from jupyterlab<4.3,>=4.2.0->notebook>=6.4.10->great-expectations==0.18.12->hsfs<3.8.0,>=3.7.0->hsfs[python]<3.8.0,>=3.7.0->hopsworks) (6.29.5)\n",
      "Requirement already satisfied: jupyter-lsp>=2.0.0 in c:\\truck_delay_classification\\.venv\\lib\\site-packages (from jupyterlab<4.3,>=4.2.0->notebook>=6.4.10->great-expectations==0.18.12->hsfs<3.8.0,>=3.7.0->hsfs[python]<3.8.0,>=3.7.0->hopsworks) (2.2.5)\n",
      "Requirement already satisfied: setuptools>=40.1.0 in c:\\truck_delay_classification\\.venv\\lib\\site-packages (from jupyterlab<4.3,>=4.2.0->notebook>=6.4.10->great-expectations==0.18.12->hsfs<3.8.0,>=3.7.0->hsfs[python]<3.8.0,>=3.7.0->hopsworks) (75.1.0)\n",
      "Requirement already satisfied: babel>=2.10 in c:\\truck_delay_classification\\.venv\\lib\\site-packages (from jupyterlab-server<3,>=2.27.1->notebook>=6.4.10->great-expectations==0.18.12->hsfs<3.8.0,>=3.7.0->hsfs[python]<3.8.0,>=3.7.0->hopsworks) (2.16.0)\n",
      "Requirement already satisfied: json5>=0.9.0 in c:\\truck_delay_classification\\.venv\\lib\\site-packages (from jupyterlab-server<3,>=2.27.1->notebook>=6.4.10->great-expectations==0.18.12->hsfs<3.8.0,>=3.7.0->hsfs[python]<3.8.0,>=3.7.0->hopsworks) (0.9.25)\n",
      "Requirement already satisfied: wcwidth in c:\\truck_delay_classification\\.venv\\lib\\site-packages (from prompt-toolkit<3.1.0,>=3.0.41->Ipython>=7.16.3->great-expectations==0.18.12->hsfs<3.8.0,>=3.7.0->hsfs[python]<3.8.0,>=3.7.0->hopsworks) (0.2.13)\n",
      "Requirement already satisfied: executing>=1.2.0 in c:\\truck_delay_classification\\.venv\\lib\\site-packages (from stack-data->Ipython>=7.16.3->great-expectations==0.18.12->hsfs<3.8.0,>=3.7.0->hsfs[python]<3.8.0,>=3.7.0->hopsworks) (2.1.0)\n",
      "Requirement already satisfied: asttokens>=2.1.0 in c:\\truck_delay_classification\\.venv\\lib\\site-packages (from stack-data->Ipython>=7.16.3->great-expectations==0.18.12->hsfs<3.8.0,>=3.7.0->hsfs[python]<3.8.0,>=3.7.0->hopsworks) (2.4.1)\n",
      "Requirement already satisfied: pure-eval in c:\\truck_delay_classification\\.venv\\lib\\site-packages (from stack-data->Ipython>=7.16.3->great-expectations==0.18.12->hsfs<3.8.0,>=3.7.0->hsfs[python]<3.8.0,>=3.7.0->hopsworks) (0.2.3)\n",
      "Requirement already satisfied: sniffio>=1.1 in c:\\truck_delay_classification\\.venv\\lib\\site-packages (from anyio>=3.1.0->jupyter-server<3,>=2.4.0->notebook>=6.4.10->great-expectations==0.18.12->hsfs<3.8.0,>=3.7.0->hsfs[python]<3.8.0,>=3.7.0->hopsworks) (1.3.1)\n",
      "Requirement already satisfied: argon2-cffi-bindings in c:\\truck_delay_classification\\.venv\\lib\\site-packages (from argon2-cffi>=21.1->jupyter-server<3,>=2.4.0->notebook>=6.4.10->great-expectations==0.18.12->hsfs<3.8.0,>=3.7.0->hsfs[python]<3.8.0,>=3.7.0->hopsworks) (21.2.0)\n",
      "Requirement already satisfied: httpcore==1.* in c:\\truck_delay_classification\\.venv\\lib\\site-packages (from httpx>=0.25.0->jupyterlab<4.3,>=4.2.0->notebook>=6.4.10->great-expectations==0.18.12->hsfs<3.8.0,>=3.7.0->hsfs[python]<3.8.0,>=3.7.0->hopsworks) (1.0.5)\n",
      "Requirement already satisfied: h11<0.15,>=0.13 in c:\\truck_delay_classification\\.venv\\lib\\site-packages (from httpcore==1.*->httpx>=0.25.0->jupyterlab<4.3,>=4.2.0->notebook>=6.4.10->great-expectations==0.18.12->hsfs<3.8.0,>=3.7.0->hsfs[python]<3.8.0,>=3.7.0->hopsworks) (0.14.0)\n",
      "Requirement already satisfied: debugpy>=1.6.5 in c:\\truck_delay_classification\\.venv\\lib\\site-packages (from ipykernel>=6.5.0->jupyterlab<4.3,>=4.2.0->notebook>=6.4.10->great-expectations==0.18.12->hsfs<3.8.0,>=3.7.0->hsfs[python]<3.8.0,>=3.7.0->hopsworks) (1.8.5)\n",
      "Requirement already satisfied: nest-asyncio in c:\\truck_delay_classification\\.venv\\lib\\site-packages (from ipykernel>=6.5.0->jupyterlab<4.3,>=4.2.0->notebook>=6.4.10->great-expectations==0.18.12->hsfs<3.8.0,>=3.7.0->hsfs[python]<3.8.0,>=3.7.0->hopsworks) (1.6.0)\n",
      "Requirement already satisfied: psutil in c:\\truck_delay_classification\\.venv\\lib\\site-packages (from ipykernel>=6.5.0->jupyterlab<4.3,>=4.2.0->notebook>=6.4.10->great-expectations==0.18.12->hsfs<3.8.0,>=3.7.0->hsfs[python]<3.8.0,>=3.7.0->hopsworks) (6.0.0)\n",
      "Requirement already satisfied: python-json-logger>=2.0.4 in c:\\truck_delay_classification\\.venv\\lib\\site-packages (from jupyter-events>=0.9.0->jupyter-server<3,>=2.4.0->notebook>=6.4.10->great-expectations==0.18.12->hsfs<3.8.0,>=3.7.0->hsfs[python]<3.8.0,>=3.7.0->hopsworks) (2.0.7)\n",
      "Requirement already satisfied: pyyaml>=5.3 in c:\\truck_delay_classification\\.venv\\lib\\site-packages (from jupyter-events>=0.9.0->jupyter-server<3,>=2.4.0->notebook>=6.4.10->great-expectations==0.18.12->hsfs<3.8.0,>=3.7.0->hsfs[python]<3.8.0,>=3.7.0->hopsworks) (6.0.2)\n",
      "Requirement already satisfied: rfc3339-validator in c:\\truck_delay_classification\\.venv\\lib\\site-packages (from jupyter-events>=0.9.0->jupyter-server<3,>=2.4.0->notebook>=6.4.10->great-expectations==0.18.12->hsfs<3.8.0,>=3.7.0->hsfs[python]<3.8.0,>=3.7.0->hopsworks) (0.1.4)\n",
      "Requirement already satisfied: rfc3986-validator>=0.1.1 in c:\\truck_delay_classification\\.venv\\lib\\site-packages (from jupyter-events>=0.9.0->jupyter-server<3,>=2.4.0->notebook>=6.4.10->great-expectations==0.18.12->hsfs<3.8.0,>=3.7.0->hsfs[python]<3.8.0,>=3.7.0->hopsworks) (0.1.1)\n",
      "Requirement already satisfied: beautifulsoup4 in c:\\truck_delay_classification\\.venv\\lib\\site-packages (from nbconvert>=6.4.4->jupyter-server<3,>=2.4.0->notebook>=6.4.10->great-expectations==0.18.12->hsfs<3.8.0,>=3.7.0->hsfs[python]<3.8.0,>=3.7.0->hopsworks) (4.12.3)\n",
      "Requirement already satisfied: bleach!=5.0.0 in c:\\truck_delay_classification\\.venv\\lib\\site-packages (from nbconvert>=6.4.4->jupyter-server<3,>=2.4.0->notebook>=6.4.10->great-expectations==0.18.12->hsfs<3.8.0,>=3.7.0->hsfs[python]<3.8.0,>=3.7.0->hopsworks) (6.1.0)\n",
      "Requirement already satisfied: defusedxml in c:\\truck_delay_classification\\.venv\\lib\\site-packages (from nbconvert>=6.4.4->jupyter-server<3,>=2.4.0->notebook>=6.4.10->great-expectations==0.18.12->hsfs<3.8.0,>=3.7.0->hsfs[python]<3.8.0,>=3.7.0->hopsworks) (0.7.1)\n",
      "Requirement already satisfied: jupyterlab-pygments in c:\\truck_delay_classification\\.venv\\lib\\site-packages (from nbconvert>=6.4.4->jupyter-server<3,>=2.4.0->notebook>=6.4.10->great-expectations==0.18.12->hsfs<3.8.0,>=3.7.0->hsfs[python]<3.8.0,>=3.7.0->hopsworks) (0.3.0)\n",
      "Requirement already satisfied: nbclient>=0.5.0 in c:\\truck_delay_classification\\.venv\\lib\\site-packages (from nbconvert>=6.4.4->jupyter-server<3,>=2.4.0->notebook>=6.4.10->great-expectations==0.18.12->hsfs<3.8.0,>=3.7.0->hsfs[python]<3.8.0,>=3.7.0->hopsworks) (0.10.0)\n",
      "Requirement already satisfied: pandocfilters>=1.4.1 in c:\\truck_delay_classification\\.venv\\lib\\site-packages (from nbconvert>=6.4.4->jupyter-server<3,>=2.4.0->notebook>=6.4.10->great-expectations==0.18.12->hsfs<3.8.0,>=3.7.0->hsfs[python]<3.8.0,>=3.7.0->hopsworks) (1.5.1)\n",
      "Requirement already satisfied: tinycss2 in c:\\truck_delay_classification\\.venv\\lib\\site-packages (from nbconvert>=6.4.4->jupyter-server<3,>=2.4.0->notebook>=6.4.10->great-expectations==0.18.12->hsfs<3.8.0,>=3.7.0->hsfs[python]<3.8.0,>=3.7.0->hopsworks) (1.3.0)\n",
      "Requirement already satisfied: webencodings in c:\\truck_delay_classification\\.venv\\lib\\site-packages (from bleach!=5.0.0->nbconvert>=6.4.4->jupyter-server<3,>=2.4.0->notebook>=6.4.10->great-expectations==0.18.12->hsfs<3.8.0,>=3.7.0->hsfs[python]<3.8.0,>=3.7.0->hopsworks) (0.5.1)\n",
      "Requirement already satisfied: fqdn in c:\\truck_delay_classification\\.venv\\lib\\site-packages (from jsonschema[format-nongpl]>=4.18.0->jupyter-events>=0.9.0->jupyter-server<3,>=2.4.0->notebook>=6.4.10->great-expectations==0.18.12->hsfs<3.8.0,>=3.7.0->hsfs[python]<3.8.0,>=3.7.0->hopsworks) (1.5.1)\n",
      "Requirement already satisfied: isoduration in c:\\truck_delay_classification\\.venv\\lib\\site-packages (from jsonschema[format-nongpl]>=4.18.0->jupyter-events>=0.9.0->jupyter-server<3,>=2.4.0->notebook>=6.4.10->great-expectations==0.18.12->hsfs<3.8.0,>=3.7.0->hsfs[python]<3.8.0,>=3.7.0->hopsworks) (20.11.0)\n",
      "Requirement already satisfied: uri-template in c:\\truck_delay_classification\\.venv\\lib\\site-packages (from jsonschema[format-nongpl]>=4.18.0->jupyter-events>=0.9.0->jupyter-server<3,>=2.4.0->notebook>=6.4.10->great-expectations==0.18.12->hsfs<3.8.0,>=3.7.0->hsfs[python]<3.8.0,>=3.7.0->hopsworks) (1.3.0)\n",
      "Requirement already satisfied: webcolors>=24.6.0 in c:\\truck_delay_classification\\.venv\\lib\\site-packages (from jsonschema[format-nongpl]>=4.18.0->jupyter-events>=0.9.0->jupyter-server<3,>=2.4.0->notebook>=6.4.10->great-expectations==0.18.12->hsfs<3.8.0,>=3.7.0->hsfs[python]<3.8.0,>=3.7.0->hopsworks) (24.8.0)\n",
      "Requirement already satisfied: soupsieve>1.2 in c:\\truck_delay_classification\\.venv\\lib\\site-packages (from beautifulsoup4->nbconvert>=6.4.4->jupyter-server<3,>=2.4.0->notebook>=6.4.10->great-expectations==0.18.12->hsfs<3.8.0,>=3.7.0->hsfs[python]<3.8.0,>=3.7.0->hopsworks) (2.6)\n",
      "Requirement already satisfied: arrow>=0.15.0 in c:\\truck_delay_classification\\.venv\\lib\\site-packages (from isoduration->jsonschema[format-nongpl]>=4.18.0->jupyter-events>=0.9.0->jupyter-server<3,>=2.4.0->notebook>=6.4.10->great-expectations==0.18.12->hsfs<3.8.0,>=3.7.0->hsfs[python]<3.8.0,>=3.7.0->hopsworks) (1.3.0)\n",
      "Requirement already satisfied: types-python-dateutil>=2.8.10 in c:\\truck_delay_classification\\.venv\\lib\\site-packages (from arrow>=0.15.0->isoduration->jsonschema[format-nongpl]>=4.18.0->jupyter-events>=0.9.0->jupyter-server<3,>=2.4.0->notebook>=6.4.10->great-expectations==0.18.12->hsfs<3.8.0,>=3.7.0->hsfs[python]<3.8.0,>=3.7.0->hopsworks) (2.9.0.20240906)\n"
     ]
    }
   ],
   "source": [
    "!pip install hopsworks"
   ]
  },
  {
   "cell_type": "code",
   "execution_count": 44,
   "metadata": {},
   "outputs": [
    {
     "name": "stdout",
     "output_type": "stream",
     "text": [
      "Connected. Call `.close()` to terminate connection gracefully.\n",
      "\n",
      "Logged in to project, explore it here https://c.app.hopsworks.ai:443/p/1043610\n",
      "2024-09-19 15:33:19,932 WARNING: DeprecationWarning: The 'warn' method is deprecated, use 'warning' instead\n",
      "\n",
      "2024-09-19 15:33:19,932 WARNING: using legacy validation callback\n",
      "Connected. Call `.close()` to terminate connection gracefully.\n"
     ]
    }
   ],
   "source": [
    "import hopsworks\n",
    "\n",
    "project = hopsworks.login()\n",
    "\n",
    "fs = project.get_feature_store()"
   ]
  },
  {
   "cell_type": "code",
   "execution_count": 45,
   "metadata": {},
   "outputs": [],
   "source": [
    "routes_weather_fg = fs.get_or_create_feature_group(\n",
    "    name=\"routes_weather\",\n",
    "    version=1,\n",
    "    description=\"routes_weather\",\n",
    "    primary_key=['RowIndex'],\n",
    "    event_time='event_time',\n",
    "    \n",
    ")"
   ]
  },
  {
   "cell_type": "code",
   "execution_count": 46,
   "metadata": {},
   "outputs": [
    {
     "name": "stdout",
     "output_type": "stream",
     "text": [
      "2024-09-19 15:35:48,124 WARNING: FeatureGroupWarning: The ingested dataframe contains upper case letters in feature names: `['RowIndex', 'Date']`. Feature names are sanitized to lower case in the feature store.\n",
      "\n",
      "Feature Group created successfully, explore it at \n",
      "https://c.app.hopsworks.ai:443/p/1043610/fs/1035337/fg/1202539\n"
     ]
    },
    {
     "data": {
      "application/vnd.jupyter.widget-view+json": {
       "model_id": "3da477ea371f4ab89dfdf4c013638efd",
       "version_major": 2,
       "version_minor": 0
      },
      "text/plain": [
       "Uploading Dataframe: 0.00% |          | Rows 0/367724 | Elapsed Time: 00:00 | Remaining Time: ?"
      ]
     },
     "metadata": {},
     "output_type": "display_data"
    },
    {
     "name": "stdout",
     "output_type": "stream",
     "text": [
      "Launching job: routes_weather_1_offline_fg_materialization\n",
      "Job started successfully, you can follow the progress at \n",
      "https://c.app.hopsworks.ai/p/1043610/jobs/named/routes_weather_1_offline_fg_materialization/executions\n"
     ]
    },
    {
     "data": {
      "text/plain": [
       "(<hsfs.core.job.Job at 0x21077ca9f70>, None)"
      ]
     },
     "execution_count": 46,
     "metadata": {},
     "output_type": "execute_result"
    }
   ],
   "source": [
    "routes_weather_fg.insert(df4)"
   ]
  },
  {
   "cell_type": "code",
   "execution_count": 42,
   "metadata": {},
   "outputs": [],
   "source": [
    "df4.to_csv('df4.csv', index=False)"
   ]
  }
 ],
 "metadata": {
  "kernelspec": {
   "display_name": "env",
   "language": "python",
   "name": "python3"
  },
  "language_info": {
   "codemirror_mode": {
    "name": "ipython",
    "version": 3
   },
   "file_extension": ".py",
   "mimetype": "text/x-python",
   "name": "python",
   "nbconvert_exporter": "python",
   "pygments_lexer": "ipython3",
   "version": "3.12.4"
  }
 },
 "nbformat": 4,
 "nbformat_minor": 2
}
